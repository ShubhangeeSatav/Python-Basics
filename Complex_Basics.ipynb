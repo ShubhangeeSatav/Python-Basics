{
 "cells": [
  {
   "cell_type": "code",
   "execution_count": 1,
   "id": "50674c4d",
   "metadata": {},
   "outputs": [
    {
     "name": "stdout",
     "output_type": "stream",
     "text": [
      "Value of a = (10+20j)\n",
      "Type of a = <class 'complex'>\n",
      "Memory location of a = 2637289860560\n"
     ]
    }
   ],
   "source": [
    "# Q. Declare a complex number and store it in a variable. Check the type and print the id of the same.\n",
    "\n",
    "a = 10 + 20j\n",
    "\n",
    "print(\"Value of a =\", a)\n",
    "print(\"Type of a =\", type(a))\n",
    "print(\"Memory location of a =\", id(a))"
   ]
  },
  {
   "cell_type": "code",
   "execution_count": 2,
   "id": "ecd965d4",
   "metadata": {},
   "outputs": [
    {
     "name": "stdout",
     "output_type": "stream",
     "text": [
      "The Sum of two numbers is : (30+50j)\n"
     ]
    }
   ],
   "source": [
    "# Q. Arithmetic Operations on complex number. Take two different complex numbers.Store them in two different variables.\n",
    "# Do below operations on them:-\n",
    "# Find sum of both numbers\n",
    "\n",
    "bool_val1 = 10 + 20j\n",
    "bool_val2 = 20 + 30j\n",
    "ans = bool_val1 + bool_val2\n",
    "print(\"The Sum of two numbers is :\", ans)"
   ]
  },
  {
   "cell_type": "code",
   "execution_count": 3,
   "id": "a42bcee1",
   "metadata": {},
   "outputs": [
    {
     "name": "stdout",
     "output_type": "stream",
     "text": [
      "The difference of two numbers is : (-10-10j)\n"
     ]
    }
   ],
   "source": [
    "# Find difference between them\n",
    "\n",
    "bool_val1 = 10 + 20j\n",
    "bool_val2 = 20 + 30j\n",
    "ans = bool_val1 - bool_val2\n",
    "print(\"The difference of two numbers is :\", ans)"
   ]
  },
  {
   "cell_type": "code",
   "execution_count": 4,
   "id": "731c68e1",
   "metadata": {},
   "outputs": [
    {
     "name": "stdout",
     "output_type": "stream",
     "text": [
      "The product of two numbers is : (-400+700j)\n"
     ]
    }
   ],
   "source": [
    "# Find the product of both numbers.\n",
    "\n",
    "bool_val1 = 10 + 20j\n",
    "bool_val2 = 20 + 30j\n",
    "ans = bool_val1 * bool_val2\n",
    "print(\"The product of two numbers is :\", ans)"
   ]
  },
  {
   "cell_type": "code",
   "execution_count": 5,
   "id": "0bac8417",
   "metadata": {},
   "outputs": [
    {
     "name": "stdout",
     "output_type": "stream",
     "text": [
      "The dividing first num with second number is : (0.6153846153846154+0.0769230769230769j)\n"
     ]
    }
   ],
   "source": [
    "# Find value after dividing first num with second number\n",
    "\n",
    "bool_val1 = 10 + 20j\n",
    "bool_val2 = 20 + 30j\n",
    "ans = bool_val1 / bool_val2\n",
    "print(\"The dividing first num with second number is :\", ans)"
   ]
  },
  {
   "cell_type": "code",
   "execution_count": 6,
   "id": "96602c4c",
   "metadata": {},
   "outputs": [
    {
     "name": "stdout",
     "output_type": "stream",
     "text": [
      "The result of the first num to the power of the second number is : (-2348247776258.4404+2822337984266.558j)\n"
     ]
    }
   ],
   "source": [
    "# Find the result of the first num to the power of the second number.\n",
    "\n",
    "bool_val1 = 10 + 20j\n",
    "bool_val2 = 20 + 30j\n",
    "ans = bool_val1 ** bool_val2\n",
    "print(\"The result of the first num to the power of the second number is :\", ans)"
   ]
  },
  {
   "cell_type": "code",
   "execution_count": 7,
   "id": "c94e8127",
   "metadata": {},
   "outputs": [
    {
     "name": "stdout",
     "output_type": "stream",
     "text": [
      "False\n"
     ]
    }
   ],
   "source": [
    "# Q. Equality Operator. Take two different complex numbers. Store them in two different variables.\n",
    "# Equate them using equality operators (==, !=). Observe the output(return type should be boolean)\n",
    "\n",
    "# Equality operators (==)\n",
    "\n",
    "bool_val1 = 10 + 20j\n",
    "bool_val2 = 20 + 30j\n",
    "\n",
    "print(bool_val1 == bool_val2)"
   ]
  },
  {
   "cell_type": "code",
   "execution_count": 8,
   "id": "717b174b",
   "metadata": {},
   "outputs": [
    {
     "name": "stdout",
     "output_type": "stream",
     "text": [
      "True\n"
     ]
    }
   ],
   "source": [
    "# Equality operators (!=)\n",
    "\n",
    "bool_val1 = 10 + 20j\n",
    "bool_val2 = 20 + 30j\n",
    "\n",
    "print(bool_val1 != bool_val2)"
   ]
  },
  {
   "cell_type": "code",
   "execution_count": 9,
   "id": "77247c9c",
   "metadata": {},
   "outputs": [
    {
     "name": "stdout",
     "output_type": "stream",
     "text": [
      "(20+30j)\n"
     ]
    }
   ],
   "source": [
    "# Q. Logical operators. Observe the output of below code. Cross check the output manually\n",
    "\n",
    "print ( 10 + 20j and 20 + 30j )"
   ]
  },
  {
   "cell_type": "code",
   "execution_count": 10,
   "id": "8dde4504",
   "metadata": {},
   "outputs": [
    {
     "name": "stdout",
     "output_type": "stream",
     "text": [
      "0j\n"
     ]
    }
   ],
   "source": [
    "print ( 0 + 0j and 20 + 30j )"
   ]
  },
  {
   "cell_type": "code",
   "execution_count": 11,
   "id": "98ac6a7d",
   "metadata": {},
   "outputs": [
    {
     "name": "stdout",
     "output_type": "stream",
     "text": [
      "0j\n"
     ]
    }
   ],
   "source": [
    "print ( 20 + 30j and 0 + 0j )"
   ]
  },
  {
   "cell_type": "code",
   "execution_count": 12,
   "id": "e298a7da",
   "metadata": {},
   "outputs": [
    {
     "name": "stdout",
     "output_type": "stream",
     "text": [
      "0j\n"
     ]
    }
   ],
   "source": [
    "print ( 0 + 0j and 0 + 0j )"
   ]
  },
  {
   "cell_type": "code",
   "execution_count": 13,
   "id": "59858afe",
   "metadata": {},
   "outputs": [
    {
     "name": "stdout",
     "output_type": "stream",
     "text": [
      "(10+20j)\n"
     ]
    }
   ],
   "source": [
    "print ( 10 + 20j or 20 + 30j )"
   ]
  },
  {
   "cell_type": "code",
   "execution_count": 14,
   "id": "14426302",
   "metadata": {},
   "outputs": [
    {
     "name": "stdout",
     "output_type": "stream",
     "text": [
      "(20+30j)\n"
     ]
    }
   ],
   "source": [
    "print ( 0 + 0j or 20 + 30j )"
   ]
  },
  {
   "cell_type": "code",
   "execution_count": 15,
   "id": "48f51e63",
   "metadata": {},
   "outputs": [
    {
     "name": "stdout",
     "output_type": "stream",
     "text": [
      "(20+30j)\n"
     ]
    }
   ],
   "source": [
    "print ( 20 + 30j or 0 + 0j )"
   ]
  },
  {
   "cell_type": "code",
   "execution_count": 16,
   "id": "8a626a6c",
   "metadata": {},
   "outputs": [
    {
     "name": "stdout",
     "output_type": "stream",
     "text": [
      "0j\n"
     ]
    }
   ],
   "source": [
    "print ( 0 + 0j or 0 + 0j )"
   ]
  },
  {
   "cell_type": "code",
   "execution_count": 17,
   "id": "1c5c0617",
   "metadata": {},
   "outputs": [
    {
     "name": "stdout",
     "output_type": "stream",
     "text": [
      "False\n"
     ]
    }
   ],
   "source": [
    "print ( not 10 + 20j )"
   ]
  },
  {
   "cell_type": "code",
   "execution_count": 18,
   "id": "2c4d8856",
   "metadata": {},
   "outputs": [
    {
     "name": "stdout",
     "output_type": "stream",
     "text": [
      "True\n"
     ]
    }
   ],
   "source": [
    "print ( not 0 + 0j )"
   ]
  },
  {
   "cell_type": "code",
   "execution_count": 19,
   "id": "561241b4",
   "metadata": {},
   "outputs": [
    {
     "name": "stdout",
     "output_type": "stream",
     "text": [
      "False\n"
     ]
    }
   ],
   "source": [
    "# Q. What is the output of the expression inside the print statement. Cross check before running the program.\n",
    "\n",
    "a = 10 + 20j\n",
    "b = 10 + 20j\n",
    "print (a is b)"
   ]
  },
  {
   "cell_type": "code",
   "execution_count": 20,
   "id": "6d09b654",
   "metadata": {},
   "outputs": [
    {
     "name": "stdout",
     "output_type": "stream",
     "text": [
      "True\n"
     ]
    }
   ],
   "source": [
    "a = 10 + 20j\n",
    "b = 10 + 20j\n",
    "print (a is not b)"
   ]
  },
  {
   "cell_type": "code",
   "execution_count": 21,
   "id": "f696f1e5",
   "metadata": {},
   "outputs": [
    {
     "name": "stdout",
     "output_type": "stream",
     "text": [
      "True\n"
     ]
    }
   ],
   "source": [
    "# Q. Membership operation in, not in are two membership operators and it returns boolean value\n",
    "\n",
    "print ( '2.7' in 'Python2.7.8' )"
   ]
  },
  {
   "cell_type": "code",
   "execution_count": 22,
   "id": "f64b8038",
   "metadata": {},
   "outputs": [
    {
     "name": "stdout",
     "output_type": "stream",
     "text": [
      "True\n"
     ]
    }
   ],
   "source": [
    "print ( 10 + 20j in [ 10 , 10.20 , 10 + 20j , 'Python' ])"
   ]
  },
  {
   "cell_type": "code",
   "execution_count": 23,
   "id": "369cf6a2",
   "metadata": {},
   "outputs": [
    {
     "name": "stdout",
     "output_type": "stream",
     "text": [
      "True\n"
     ]
    }
   ],
   "source": [
    "print ( 10 + 20j in ( 10 , 10.20 , 10 + 20j , 'Python' ))"
   ]
  },
  {
   "cell_type": "code",
   "execution_count": 24,
   "id": "2d98570a",
   "metadata": {},
   "outputs": [
    {
     "name": "stdout",
     "output_type": "stream",
     "text": [
      "True\n"
     ]
    }
   ],
   "source": [
    "print ( 30 + 40j in { 1 , 20.30 , 30 + 40j })"
   ]
  },
  {
   "cell_type": "code",
   "execution_count": 25,
   "id": "5da9b700",
   "metadata": {},
   "outputs": [
    {
     "name": "stdout",
     "output_type": "stream",
     "text": [
      "True\n"
     ]
    }
   ],
   "source": [
    "print ( 30 + 40j in { 1 : 100 , 2.3 : 200 , 30 + 40j : 300 })"
   ]
  },
  {
   "cell_type": "code",
   "execution_count": 26,
   "id": "ac4c974a",
   "metadata": {},
   "outputs": [
    {
     "name": "stdout",
     "output_type": "stream",
     "text": [
      "True\n"
     ]
    }
   ],
   "source": [
    "print ( 10 in range ( 20 ))"
   ]
  },
  {
   "cell_type": "code",
   "execution_count": null,
   "id": "25c91ebd",
   "metadata": {},
   "outputs": [],
   "source": []
  }
 ],
 "metadata": {
  "kernelspec": {
   "display_name": "Python 3",
   "language": "python",
   "name": "python3"
  },
  "language_info": {
   "codemirror_mode": {
    "name": "ipython",
    "version": 3
   },
   "file_extension": ".py",
   "mimetype": "text/x-python",
   "name": "python",
   "nbconvert_exporter": "python",
   "pygments_lexer": "ipython3",
   "version": "3.8.8"
  }
 },
 "nbformat": 4,
 "nbformat_minor": 5
}
