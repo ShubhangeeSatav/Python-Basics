{
 "cells": [
  {
   "cell_type": "code",
   "execution_count": 1,
   "id": "9ef75f78",
   "metadata": {},
   "outputs": [
    {
     "name": "stdout",
     "output_type": "stream",
     "text": [
      "Value of a = True\n",
      "Type of a = <class 'bool'>\n",
      "Memory location of a = 140724289656656\n"
     ]
    }
   ],
   "source": [
    "# Q. Declare a boolean value and store it in a variable. Check the type and print the id of the same.\n",
    "\n",
    "a = True\n",
    "\n",
    "print(\"Value of a =\", a)\n",
    "print(\"Type of a =\", type(a))\n",
    "print(\"Memory location of a =\", id(a))"
   ]
  },
  {
   "cell_type": "code",
   "execution_count": 2,
   "id": "d5c276d9",
   "metadata": {},
   "outputs": [
    {
     "name": "stdout",
     "output_type": "stream",
     "text": [
      "\n",
      "Memory location of b = 140724289656656\n",
      "\n",
      "Memory location of c = 140724289656656\n"
     ]
    }
   ],
   "source": [
    "# Q. Take one boolean value. Assign it to two different variables. Check the id of both the variables.\n",
    "# It should come the same. Check why?\n",
    "\n",
    "b = True\n",
    "c = True\n",
    "print(\"\\nMemory location of b =\", id(b))\n",
    "print(\"\\nMemory location of c =\", id(c))\n",
    "\n",
    "# In Python to optimize memory allocation, does a process called \"interning\".Python only stores one object on Heap memory \n",
    "# and ask different variables to point to this memory address if they use those objects. The objects that Python does interning \n",
    "# on complex numbers. Thats why memory address of the two vaiables are same."
   ]
  },
  {
   "cell_type": "code",
   "execution_count": 3,
   "id": "4a8ec98d",
   "metadata": {},
   "outputs": [
    {
     "name": "stdout",
     "output_type": "stream",
     "text": [
      "The Sum of two values is : 1\n"
     ]
    }
   ],
   "source": [
    "# Q. Arithmetic Operations on boolean data. Take two different boolean values. Store them in two different variables.\n",
    "# Do below operations on them:- \n",
    "# Find sum of both values\n",
    "\n",
    "bool_val1 = True\n",
    "bool_val2 = False\n",
    "ans = bool_val1 + bool_val2\n",
    "print(\"The Sum of two values is :\", ans)"
   ]
  },
  {
   "cell_type": "code",
   "execution_count": 4,
   "id": "fb2b6abb",
   "metadata": {},
   "outputs": [
    {
     "name": "stdout",
     "output_type": "stream",
     "text": [
      "The difference of two values is : 1\n"
     ]
    }
   ],
   "source": [
    "# Find difference between them\n",
    "\n",
    "bool_val1 = True\n",
    "bool_val2 = False\n",
    "ans = bool_val1 - bool_val2\n",
    "print(\"The difference of two values is :\", ans)"
   ]
  },
  {
   "cell_type": "code",
   "execution_count": 5,
   "id": "db86c69f",
   "metadata": {},
   "outputs": [
    {
     "name": "stdout",
     "output_type": "stream",
     "text": [
      "The product of two numbers is : 0\n"
     ]
    }
   ],
   "source": [
    "# Find the product of both.\n",
    "\n",
    "bool_val1 = True\n",
    "bool_val2 = False\n",
    "ans = bool_val1 * bool_val2\n",
    "print(\"The product of two numbers is :\", ans)"
   ]
  },
  {
   "cell_type": "code",
   "execution_count": 6,
   "id": "d16078a0",
   "metadata": {},
   "outputs": [
    {
     "name": "stdout",
     "output_type": "stream",
     "text": [
      "The division of two numbers is : 0.0\n"
     ]
    }
   ],
   "source": [
    "# Find value after dividing first value with second value\n",
    "\n",
    "bool_val1 = False\n",
    "bool_val2 = True\n",
    "ans = bool_val1 / bool_val2\n",
    "print(\"The division of two numbers is :\", ans)"
   ]
  },
  {
   "cell_type": "code",
   "execution_count": 7,
   "id": "234ecc7d",
   "metadata": {},
   "outputs": [
    {
     "name": "stdout",
     "output_type": "stream",
     "text": [
      "The remainder after dividing two numbers is : 0\n"
     ]
    }
   ],
   "source": [
    "# Find the remainder after dividing first value with second value\n",
    "\n",
    "bool_val1 = False\n",
    "bool_val2 = True\n",
    "ans = bool_val1 % bool_val2\n",
    "print(\"The remainder after dividing two numbers is :\", ans)"
   ]
  },
  {
   "cell_type": "code",
   "execution_count": 8,
   "id": "1f399760",
   "metadata": {},
   "outputs": [
    {
     "name": "stdout",
     "output_type": "stream",
     "text": [
      "The quotient after dividing two numbers is : 0\n"
     ]
    }
   ],
   "source": [
    "# Find the quotient after dividing first value with second value\n",
    "\n",
    "bool_val1 = False\n",
    "bool_val2 = True\n",
    "ans = bool_val1 // bool_val2\n",
    "print(\"The quotient after dividing two numbers is :\", ans)"
   ]
  },
  {
   "cell_type": "code",
   "execution_count": 9,
   "id": "0943d45e",
   "metadata": {},
   "outputs": [
    {
     "name": "stdout",
     "output_type": "stream",
     "text": [
      "The first number to the power of the second number is : 1\n"
     ]
    }
   ],
   "source": [
    "# Find the result of first value to the power of second value.\n",
    "\n",
    "bool_val1 = True\n",
    "bool_val2 = False\n",
    "ans = bool_val1 ** bool_val2\n",
    "print(\"The first number to the power of the second number is :\", ans)"
   ]
  },
  {
   "cell_type": "code",
   "execution_count": 10,
   "id": "d5a0770f",
   "metadata": {},
   "outputs": [
    {
     "name": "stdout",
     "output_type": "stream",
     "text": [
      "True\n"
     ]
    }
   ],
   "source": [
    "# Q. Comparison Operators on boolean values. Take two different boolean values.Store them in two different variables.\n",
    "# Do below operations on them. Compare these two values with below operator.\n",
    "# Observe their output(return type should be boolean)\n",
    "# Greater than, '>'\n",
    "\n",
    "bool_val1 = True\n",
    "bool_val2 = False\n",
    "\n",
    "print(bool_val1 > bool_val2)"
   ]
  },
  {
   "cell_type": "code",
   "execution_count": 11,
   "id": "ef621761",
   "metadata": {},
   "outputs": [
    {
     "name": "stdout",
     "output_type": "stream",
     "text": [
      "False\n"
     ]
    }
   ],
   "source": [
    "# less than, '<'\n",
    "\n",
    "bool_val1 = True\n",
    "bool_val2 = False\n",
    "\n",
    "print(bool_val1 < bool_val2)"
   ]
  },
  {
   "cell_type": "code",
   "execution_count": 12,
   "id": "51c6e50f",
   "metadata": {},
   "outputs": [
    {
     "name": "stdout",
     "output_type": "stream",
     "text": [
      "True\n"
     ]
    }
   ],
   "source": [
    "# Greater than or equal to, '>='\n",
    "\n",
    "bool_val1 = True\n",
    "bool_val2 = False\n",
    "\n",
    "print(bool_val1 >= bool_val2)"
   ]
  },
  {
   "cell_type": "code",
   "execution_count": 13,
   "id": "f5e56945",
   "metadata": {},
   "outputs": [
    {
     "name": "stdout",
     "output_type": "stream",
     "text": [
      "False\n"
     ]
    }
   ],
   "source": [
    "# Less than or equal to, '<='\n",
    "\n",
    "bool_val1 = True\n",
    "bool_val2 = False\n",
    "\n",
    "print(bool_val1 <= bool_val2)"
   ]
  },
  {
   "cell_type": "code",
   "execution_count": 14,
   "id": "2433ca91",
   "metadata": {},
   "outputs": [
    {
     "name": "stdout",
     "output_type": "stream",
     "text": [
      "False\n"
     ]
    }
   ],
   "source": [
    "# Q. Equality Operator.Take two different boolean values. Store them in two different variables.\n",
    "# Equate them using equality operators (==, !=). Observe the output(return type should be boolean)\n",
    "\n",
    "# Equality operators (==)\n",
    "\n",
    "bool_val1 = True\n",
    "bool_val2 = False\n",
    "\n",
    "print(bool_val1 == bool_val2)"
   ]
  },
  {
   "cell_type": "code",
   "execution_count": 15,
   "id": "20a32263",
   "metadata": {},
   "outputs": [
    {
     "name": "stdout",
     "output_type": "stream",
     "text": [
      "True\n"
     ]
    }
   ],
   "source": [
    "# Equality operators (!=)\n",
    "\n",
    "bool_val1 = True\n",
    "bool_val2 = False\n",
    "\n",
    "print(bool_val1 != bool_val2)"
   ]
  },
  {
   "cell_type": "code",
   "execution_count": 16,
   "id": "a02820be",
   "metadata": {},
   "outputs": [
    {
     "name": "stdout",
     "output_type": "stream",
     "text": [
      "True\n"
     ]
    }
   ],
   "source": [
    "# Q. Logical operators. Observe the output of below code. Cross check the output manually\n",
    "\n",
    "print( True and True )"
   ]
  },
  {
   "cell_type": "code",
   "execution_count": 17,
   "id": "23b0ee22",
   "metadata": {},
   "outputs": [
    {
     "name": "stdout",
     "output_type": "stream",
     "text": [
      "False\n"
     ]
    }
   ],
   "source": [
    "print( False and True )"
   ]
  },
  {
   "cell_type": "code",
   "execution_count": 18,
   "id": "ed05b6a5",
   "metadata": {},
   "outputs": [
    {
     "name": "stdout",
     "output_type": "stream",
     "text": [
      "False\n"
     ]
    }
   ],
   "source": [
    "print( True and False )"
   ]
  },
  {
   "cell_type": "code",
   "execution_count": 19,
   "id": "1bbcd608",
   "metadata": {},
   "outputs": [
    {
     "name": "stdout",
     "output_type": "stream",
     "text": [
      "False\n"
     ]
    }
   ],
   "source": [
    "print( False and False )"
   ]
  },
  {
   "cell_type": "code",
   "execution_count": 20,
   "id": "436853a7",
   "metadata": {},
   "outputs": [
    {
     "name": "stdout",
     "output_type": "stream",
     "text": [
      "True\n"
     ]
    }
   ],
   "source": [
    "print( True or True )"
   ]
  },
  {
   "cell_type": "code",
   "execution_count": 21,
   "id": "f5f38d07",
   "metadata": {},
   "outputs": [
    {
     "name": "stdout",
     "output_type": "stream",
     "text": [
      "True\n"
     ]
    }
   ],
   "source": [
    "print( False or True )"
   ]
  },
  {
   "cell_type": "code",
   "execution_count": 22,
   "id": "b225088c",
   "metadata": {},
   "outputs": [
    {
     "name": "stdout",
     "output_type": "stream",
     "text": [
      "True\n"
     ]
    }
   ],
   "source": [
    "print( True or False )"
   ]
  },
  {
   "cell_type": "code",
   "execution_count": 23,
   "id": "cb54141a",
   "metadata": {},
   "outputs": [
    {
     "name": "stdout",
     "output_type": "stream",
     "text": [
      "False\n"
     ]
    }
   ],
   "source": [
    "print( False or False )"
   ]
  },
  {
   "cell_type": "code",
   "execution_count": 24,
   "id": "79ff8e39",
   "metadata": {},
   "outputs": [
    {
     "name": "stdout",
     "output_type": "stream",
     "text": [
      "False\n"
     ]
    }
   ],
   "source": [
    "print( not True )"
   ]
  },
  {
   "cell_type": "code",
   "execution_count": 25,
   "id": "d0a73c7a",
   "metadata": {},
   "outputs": [
    {
     "name": "stdout",
     "output_type": "stream",
     "text": [
      "True\n"
     ]
    }
   ],
   "source": [
    "print( not False )"
   ]
  },
  {
   "cell_type": "code",
   "execution_count": 26,
   "id": "c44d6e89",
   "metadata": {},
   "outputs": [
    {
     "name": "stdout",
     "output_type": "stream",
     "text": [
      "True\n"
     ]
    }
   ],
   "source": [
    "# Q. Bitwise Operators. Do below operations on the values provided below:-\n",
    "# Bitwise and(&)\n",
    "\n",
    "print( True & True )"
   ]
  },
  {
   "cell_type": "code",
   "execution_count": 27,
   "id": "d9a44b08",
   "metadata": {},
   "outputs": [
    {
     "name": "stdout",
     "output_type": "stream",
     "text": [
      "True\n"
     ]
    }
   ],
   "source": [
    "# Bitwise or(|)\n",
    "\n",
    "print( True | False )"
   ]
  },
  {
   "cell_type": "code",
   "execution_count": 28,
   "id": "a4dde138",
   "metadata": {},
   "outputs": [
    {
     "name": "stdout",
     "output_type": "stream",
     "text": [
      "True\n"
     ]
    }
   ],
   "source": [
    "# Bitwise(^)\n",
    "\n",
    "print( True ^ False )"
   ]
  },
  {
   "cell_type": "code",
   "execution_count": 29,
   "id": "b07ac5a5",
   "metadata": {},
   "outputs": [
    {
     "name": "stdout",
     "output_type": "stream",
     "text": [
      "-2\n"
     ]
    }
   ],
   "source": [
    "# Bitwise negation(~)\n",
    "\n",
    "print( ~ True)"
   ]
  },
  {
   "cell_type": "code",
   "execution_count": 30,
   "id": "d869c60d",
   "metadata": {},
   "outputs": [
    {
     "name": "stdout",
     "output_type": "stream",
     "text": [
      "4\n"
     ]
    }
   ],
   "source": [
    "# Bitwise left shift\n",
    "\n",
    "print( True << 2 )"
   ]
  },
  {
   "cell_type": "code",
   "execution_count": 31,
   "id": "e28ed6a5",
   "metadata": {},
   "outputs": [
    {
     "name": "stdout",
     "output_type": "stream",
     "text": [
      "0\n"
     ]
    }
   ],
   "source": [
    "# Bitwise right shift\n",
    "\n",
    "print( True >> 2 )"
   ]
  },
  {
   "cell_type": "code",
   "execution_count": 32,
   "id": "6e0d5e67",
   "metadata": {},
   "outputs": [
    {
     "name": "stdout",
     "output_type": "stream",
     "text": [
      "True\n"
     ]
    }
   ],
   "source": [
    "# Q. What is the output of expression inside the print statement. Cross check before running the program.\n",
    "\n",
    "a = True\n",
    "b = True\n",
    "print (a is b)"
   ]
  },
  {
   "cell_type": "code",
   "execution_count": 33,
   "id": "2512a818",
   "metadata": {},
   "outputs": [
    {
     "name": "stdout",
     "output_type": "stream",
     "text": [
      "False\n"
     ]
    }
   ],
   "source": [
    "a = True\n",
    "b = True\n",
    "print (a is not b)"
   ]
  },
  {
   "cell_type": "code",
   "execution_count": 34,
   "id": "640f402f",
   "metadata": {},
   "outputs": [
    {
     "name": "stdout",
     "output_type": "stream",
     "text": [
      "True\n"
     ]
    }
   ],
   "source": [
    "a = False\n",
    "b = False\n",
    "print (a is b)"
   ]
  },
  {
   "cell_type": "code",
   "execution_count": 35,
   "id": "b59968cd",
   "metadata": {},
   "outputs": [
    {
     "name": "stdout",
     "output_type": "stream",
     "text": [
      "False\n"
     ]
    }
   ],
   "source": [
    "a = False\n",
    "b = False\n",
    "print (a is not b)"
   ]
  },
  {
   "cell_type": "code",
   "execution_count": 36,
   "id": "09a9f953",
   "metadata": {},
   "outputs": [
    {
     "name": "stdout",
     "output_type": "stream",
     "text": [
      "True\n"
     ]
    }
   ],
   "source": [
    "# Q. Membership operation in, not in are two membership operators and it returns boolean value\n",
    "\n",
    "print ( True in [ 10 , 10.20 , 10 + 20j , 'Python' , True ])"
   ]
  },
  {
   "cell_type": "code",
   "execution_count": 37,
   "id": "f6e247fe",
   "metadata": {},
   "outputs": [
    {
     "name": "stdout",
     "output_type": "stream",
     "text": [
      "True\n"
     ]
    }
   ],
   "source": [
    "print ( False in ( 10 , 10.20 , 10 + 20j , 'Python' , False ))"
   ]
  },
  {
   "cell_type": "code",
   "execution_count": 38,
   "id": "ff903e83",
   "metadata": {},
   "outputs": [
    {
     "name": "stdout",
     "output_type": "stream",
     "text": [
      "True\n"
     ]
    }
   ],
   "source": [
    "print ( True in { 1 , 2 , 3 , True })"
   ]
  },
  {
   "cell_type": "code",
   "execution_count": 39,
   "id": "0c2f9b8d",
   "metadata": {},
   "outputs": [
    {
     "name": "stdout",
     "output_type": "stream",
     "text": [
      "True\n"
     ]
    }
   ],
   "source": [
    "print ( True in { True : 100 , False : 200 , True : 300 })"
   ]
  },
  {
   "cell_type": "code",
   "execution_count": 40,
   "id": "74c15c59",
   "metadata": {},
   "outputs": [
    {
     "name": "stdout",
     "output_type": "stream",
     "text": [
      "True\n"
     ]
    }
   ],
   "source": [
    "print ( False in { True : 100 , False : 200 , True : 300 })"
   ]
  },
  {
   "cell_type": "code",
   "execution_count": null,
   "id": "0570b261",
   "metadata": {},
   "outputs": [],
   "source": []
  }
 ],
 "metadata": {
  "kernelspec": {
   "display_name": "Python 3",
   "language": "python",
   "name": "python3"
  },
  "language_info": {
   "codemirror_mode": {
    "name": "ipython",
    "version": 3
   },
   "file_extension": ".py",
   "mimetype": "text/x-python",
   "name": "python",
   "nbconvert_exporter": "python",
   "pygments_lexer": "ipython3",
   "version": "3.8.8"
  }
 },
 "nbformat": 4,
 "nbformat_minor": 5
}
