{
 "cells": [
  {
   "cell_type": "code",
   "execution_count": 1,
   "id": "c2c47a33",
   "metadata": {},
   "outputs": [
    {
     "name": "stdout",
     "output_type": "stream",
     "text": [
      "{'Tom': {'email': 'tom_latham019@gmail.com', 'Phone': '+1987654321', 'City': 'California'}, 'Kathy': {'email': 'kathy_abram897@gmail.com', 'Phone': '+1887654321', 'City': 'New York'}}\n"
     ]
    }
   ],
   "source": [
    "#Q. Initialize a dictionary \"emp_info\" with below details\n",
    "# In - emp_info['Tom']\n",
    "# Out - {'email':'tom_latham019@gmail.com', 'Phone': +1987654321, 'City': 'California'}\n",
    "\n",
    "# In - emp_info['Kathy']\n",
    "# Out - {'email':'kathy_abram897@gmail.com', 'Phone': +1887654321, 'City': 'New York'}\n",
    "\n",
    "\n",
    "emp_info = {}\n",
    "name = ['Tom', 'Tom', 'Tom', 'Kathy', 'Kathy', 'Kathy']\n",
    "keys = ['email', 'Phone', 'City', 'email', 'Phone', 'City']\n",
    "values = ['tom_latham019@gmail.com', '+1987654321', 'California', 'kathy_abram897@gmail.com', '+1887654321', 'New York']\n",
    "\n",
    "#Method 1:\n",
    "\n",
    "for i, j, k in zip(name, keys, values):\n",
    "    emp_info.setdefault(i, {})[j] = k\n",
    "print(emp_info)\n",
    "\n",
    "\n",
    "#Method 2:\n",
    "# from collections import defaultdict\n",
    "\n",
    "# emp_info = defaultdict(dict)\n",
    "# for i, j, k in zip(name, keys, values):\n",
    "#     emp_info[i][j] = k\n",
    "# print(dict(emp_info))\n",
    "\n",
    "\n",
    "#Method 3:\n",
    "# emp_info = {'Tom':{'email':'tom_latham019@gmail.com',\n",
    "#                    'Phone': +1987654321, \n",
    "#                    'City': 'California'},\n",
    "#             'Kathy':{'email':'kathy_abram897@gmail.com',\n",
    "#                      'Phone': +1887654321,\n",
    "#                      'City': 'New York'}}\n",
    "\n",
    "# print(emp_info)"
   ]
  },
  {
   "cell_type": "code",
   "execution_count": 2,
   "id": "96b255da",
   "metadata": {},
   "outputs": [
    {
     "name": "stdout",
     "output_type": "stream",
     "text": [
      "{'emp1': {'e_name': 'John', 'e_id': 'SG101', 'e_sal': '$10,000'}, 'emp2': {'e_name': 'Smith', 'e_id': 'SG102', 'e_sal': '$9,000'}, 'emp3': {'e_name': 'Peter', 'e_id': 'SG103', 'e_sal': '$9,500'}}\n"
     ]
    }
   ],
   "source": [
    "#Q. Create a dictionary out of below inputs\n",
    "# lst1 = ['emp1', 'emp2', 'emp3']\n",
    "# emp_key = ['e_name', 'e_id', 'e_sal']\n",
    "# emp1_val = ['John', 'SG101', '$10,000']\n",
    "# emp2_val = ['Smith', 'SG102', '$9,000']\n",
    "# emp3_val = ['Peter', 'SG103', '$9,500']\n",
    "\n",
    "# Expected Output:- {'emp1':{'e_name':'John', 'e_id':'SG101', 'e_sal':$10,000}, \n",
    "#                    'emp2':{'e_name':'Smith', 'e_id':'SG102', 'e_sal':$9,000}, \n",
    "#                    'emp3':{'e_name':'Peter', 'e_id':'SG103', 'e_sal':$9,500}}\n",
    "\n",
    "\n",
    "#Method 1:\n",
    "emp_info = {}\n",
    "lst1 = ['emp1', 'emp1', 'emp1', 'emp2', 'emp2', 'emp2', 'emp3', 'emp3', 'emp3']\n",
    "keys = ['e_name', 'e_id', 'e_sal', 'e_name', 'e_id', 'e_sal', 'e_name', 'e_id', 'e_sal']\n",
    "values = ['John', 'SG101', '$10,000', 'Smith', 'SG102', '$9,000', 'Peter', 'SG103', '$9,500']\n",
    "\n",
    "for i, j, k in zip(lst1, keys, values):\n",
    "    emp_info.setdefault(i, {})[j] = k\n",
    "print(emp_info)\n",
    "\n",
    "\n",
    "#Method2:\n",
    "\n",
    "# lst1 = {'emp1':{'e_name':'John',\n",
    "#                 'e_id': 'SG101', \n",
    "#                 'e_sal': '$10,000'},\n",
    "#         'emp2':{'e_name':'Smith',\n",
    "#                 'e_id': 'SG102',\n",
    "#                 'e_sal': '$10,000'},\n",
    "#         'emp3':{'e_name':'Peter',\n",
    "#                 'e_id': 'SG103',\n",
    "#                 'e_sal': '$10,000'}}\n",
    "\n",
    "# print(lst1)"
   ]
  },
  {
   "cell_type": "code",
   "execution_count": 3,
   "id": "39ed8e24",
   "metadata": {},
   "outputs": [
    {
     "name": "stdout",
     "output_type": "stream",
     "text": [
      "80\n"
     ]
    }
   ],
   "source": [
    "#Q. Acess the value of key 'history'\n",
    "\n",
    "sampleDict = { \n",
    "   \"class\":{ \n",
    "      \"student\":{ \n",
    "         \"name\":\"Mike\",\n",
    "         \"marks\":{ \n",
    "            \"physics\":70,\n",
    "            \"history\":80\n",
    "         }\n",
    "      }\n",
    "   }\n",
    "}\n",
    "\n",
    "print(sampleDict['class']['student']['marks']['history'])"
   ]
  },
  {
   "cell_type": "code",
   "execution_count": 4,
   "id": "27fd941f",
   "metadata": {},
   "outputs": [
    {
     "name": "stdout",
     "output_type": "stream",
     "text": [
      "{'Kelly': {'designation': 'Application Developer', 'salary': '8000'}, 'Emma': {'designation': 'Application Developer', 'salary': '8000'}, 'John': {'designation': 'Application Developer', 'salary': '8000'}}\n"
     ]
    }
   ],
   "source": [
    "#Q. Initialize dictionary with default values. Inputs are:-\n",
    "# employees = ['Kelly', 'Emma', 'John']\n",
    "# defaults = {\"designation\": 'Application Developer', \"salary\": 8000}\n",
    "\n",
    "#Expected output:- {'Kelly': {'designation': 'Application Developer', 'salary': 8000}, \n",
    "#                   'Emma': {'designation': 'Application Developer', 'salary': 8000}, \n",
    "#                   'John': {'designation': 'Application Developer', 'salary': 8000}}\n",
    "\n",
    "\n",
    "#Method 1:\n",
    "\n",
    "emp_info = {}\n",
    "employees = ['Kelly', 'Kelly', 'Emma', 'Emma', 'John', 'John']\n",
    "keys = ['designation', 'salary', 'designation', 'salary', 'designation', 'salary']\n",
    "values = ['Application Developer', '8000', 'Application Developer', '8000', 'Application Developer', '8000']\n",
    "\n",
    "for i, j, k in zip(employees, keys, values):\n",
    "    emp_info.setdefault(i, {})[j] = k\n",
    "print(emp_info)\n",
    "\n",
    "#Method 2:\n",
    "# employees = {'Kelly':{'designation':'Application Developer',\n",
    "#                       'salary': 8000},\n",
    "#             'Emma':{'designation':'Application Developer',\n",
    "#                     'salary': 8000},\n",
    "#             'John':{'designation':'Application Developer',\n",
    "#                     'salary': 8000}}\n",
    "\n",
    "# print(employees)"
   ]
  },
  {
   "cell_type": "code",
   "execution_count": 5,
   "id": "7732e4a9",
   "metadata": {},
   "outputs": [
    {
     "name": "stdout",
     "output_type": "stream",
     "text": [
      "Enter a DNA Sequence : AGT\n"
     ]
    },
    {
     "data": {
      "text/plain": [
       "'UCA'"
      ]
     },
     "execution_count": 5,
     "metadata": {},
     "output_type": "execute_result"
    }
   ],
   "source": [
    "#Q. In gene expression, mRNA is transcribed from a DNA template. \n",
    "# The 4 nucleotide bases of A, T, C, G corresponds to the U, A, G, C bases of the mRNA. \n",
    "# Write a function that returns the mRNA transcript given the sequence of a DNA strand.\n",
    "\n",
    "# Use a dictionary to provide the mapping of DNA to RNA bases.\n",
    "\n",
    "def mRNAtranscription(dna_template):\n",
    "    dnatorna = {'A':'U', 'T':'A', 'C':'G', 'G':'C'  }\n",
    "    mRNA = ''\n",
    "    for base in dna_template:    \n",
    "        mRNA+=(dnatorna.get(base))  \n",
    "    return mRNA\n",
    "\n",
    "my_str = str(input(\"Enter a DNA Sequence : \"))\n",
    "mRNAtranscription(my_str)"
   ]
  },
  {
   "cell_type": "code",
   "execution_count": 6,
   "id": "dab1da7c",
   "metadata": {},
   "outputs": [
    {
     "name": "stdout",
     "output_type": "stream",
     "text": [
      "Enter a Letters : google.com\n"
     ]
    },
    {
     "data": {
      "text/plain": [
       "{'g': 2, 'o': 3, 'l': 1, 'e': 1, '.': 1, 'c': 1, 'm': 1}"
      ]
     },
     "execution_count": 6,
     "metadata": {},
     "output_type": "execute_result"
    }
   ],
   "source": [
    "#Q. Write a function which takes a word as input and returns a dictionary with letters as key and \n",
    "#no of time letters are repeated as value.\n",
    "# In - count_letter('google.com')\n",
    "# Out - {'g': 2, 'o': 3, 'l': 1, 'e': 1, '.': 1, 'c': 1, 'm': 1}\n",
    "\n",
    "\n",
    "def count_letter(letters):\n",
    "    result = {'g': 0, 'o': 0, 'l': 0, 'e': 0, '.': 0, 'c': 0, 'm': 0}\n",
    "    for i in letters:\n",
    "        if i in result:\n",
    "            result[i] += 1\n",
    "    return result\n",
    "\n",
    "my_str = str(input(\"Enter a Letters : \"))\n",
    "count_letter(my_str)"
   ]
  },
  {
   "cell_type": "code",
   "execution_count": 7,
   "id": "e2559a2d",
   "metadata": {},
   "outputs": [
    {
     "name": "stdout",
     "output_type": "stream",
     "text": [
      "Enter a DNA Sequence : CTATCGGCACCCTTTCAGCA\n"
     ]
    },
    {
     "data": {
      "text/plain": [
       "{'A': 4, 'T': 5, 'C': 8, 'G': 3}"
      ]
     },
     "execution_count": 7,
     "metadata": {},
     "output_type": "execute_result"
    }
   ],
   "source": [
    "#Q. A DNA strand consisting of the 4 nucleotide bases is usually represented with a string of letters: A,T, C, G. \n",
    "# Write a function that computes the base composition of a given DNA sequence.\n",
    "\n",
    "# In - baseComposition(\"CTATCGGCACCCTTTCAGCA\")\n",
    "# Out - {'A': 4, 'C': 8, 'T': 5,  'G': 3 }\n",
    "    \n",
    "# In - baseComposition(\"AGT\")\n",
    "# Out - {'A': 1, 'C': 0, 'T': 1,  'G': 1 }\n",
    "\n",
    "def baseComposition(dna_seq):\n",
    "    result = {'A': 0, 'T':0, 'C':0, 'G':0 }\n",
    "    for char in dna_seq:\n",
    "        if char in result:\n",
    "            result[char] += 1\n",
    "    return result\n",
    "\n",
    "my_str = str(input(\"Enter a DNA Sequence : \"))\n",
    "baseComposition(my_str)"
   ]
  },
  {
   "cell_type": "code",
   "execution_count": 8,
   "id": "97585d7e",
   "metadata": {},
   "outputs": [
    {
     "name": "stdout",
     "output_type": "stream",
     "text": [
      "{'Name': 'Tom'}\n"
     ]
    }
   ],
   "source": [
    "#Q. [MCQ] Suppose \"d\" is an empty dictionary, which statement does not assign \"d\" with {\"Name\":\"Tom\"}? \n",
    "# 1. d = {\"Name\": \"Tom\" }\n",
    "# 2. d[\"Name\"] = \"Tom\"\n",
    "# 3. d.update({\"Name\": \"Tom\" })\n",
    "# 4. d.setdefault(\"Name\", \"Tom\")\n",
    "# 5. None of the above.\n",
    "\n",
    "d = {}\n",
    "\n",
    "#1.\n",
    "d = {\"Name\": \"Tom\" }\n",
    "print(d)\n",
    "\n",
    "# 2.\n",
    "# d[\"Name\"] = \"Tom\"\n",
    "# print(d)\n",
    "\n",
    "#3.\n",
    "# d.update({\"Name\": \"Tom\" })\n",
    "# print(d)\n",
    "\n",
    "# 4.\n",
    "# d.setdefault(\"Name\", \"Tom\")\n",
    "# print(d)\n",
    "\n",
    "# Ans : 5. None of the above. All statements assign d with {\"Name\":\"Tom\"}.\n"
   ]
  },
  {
   "cell_type": "code",
   "execution_count": 9,
   "id": "92ca982f",
   "metadata": {},
   "outputs": [
    {
     "name": "stdout",
     "output_type": "stream",
     "text": [
      "dict_values([1, 2])\n"
     ]
    }
   ],
   "source": [
    "#Q. [MCQ] d = {\"a\":1, \"b\":2}. Which of the statements returns [1,2]? \n",
    "# 1. d.keys()\n",
    "# 2. d.values() returns [1,2]\n",
    "# 3. d.items()\n",
    "# 4. d.popitem()\n",
    "# 5. None of the above.\n",
    "\n",
    "d = {\"a\":1, \"b\":2}\n",
    "print(d.values())\n",
    "\n",
    "#Ans : 2 . d.values() returns [1,2]"
   ]
  },
  {
   "cell_type": "code",
   "execution_count": 10,
   "id": "e13ff2d0",
   "metadata": {},
   "outputs": [
    {
     "ename": "TypeError",
     "evalue": "unhashable type: 'list'",
     "output_type": "error",
     "traceback": [
      "\u001b[1;31m---------------------------------------------------------------------------\u001b[0m",
      "\u001b[1;31mTypeError\u001b[0m                                 Traceback (most recent call last)",
      "\u001b[1;32m<ipython-input-10-6f538b1c4fac>\u001b[0m in \u001b[0;36m<module>\u001b[1;34m\u001b[0m\n\u001b[0;32m     15\u001b[0m \u001b[1;33m\u001b[0m\u001b[0m\n\u001b[0;32m     16\u001b[0m \u001b[1;31m# 3.\u001b[0m\u001b[1;33m\u001b[0m\u001b[1;33m\u001b[0m\u001b[1;33m\u001b[0m\u001b[0m\n\u001b[1;32m---> 17\u001b[1;33m \u001b[0md\u001b[0m \u001b[1;33m=\u001b[0m \u001b[1;33m{\u001b[0m \u001b[1;33m[\u001b[0m\u001b[1;34m\"First\"\u001b[0m\u001b[1;33m,\u001b[0m \u001b[1;34m\"Last\"\u001b[0m\u001b[1;33m]\u001b[0m\u001b[1;33m:\u001b[0m \u001b[1;33m(\u001b[0m\u001b[1;36m1\u001b[0m\u001b[1;33m,\u001b[0m\u001b[1;36m3\u001b[0m\u001b[1;33m)\u001b[0m \u001b[1;33m}\u001b[0m\u001b[1;33m\u001b[0m\u001b[1;33m\u001b[0m\u001b[0m\n\u001b[0m\u001b[0;32m     18\u001b[0m \u001b[0mprint\u001b[0m\u001b[1;33m(\u001b[0m\u001b[0mtype\u001b[0m\u001b[1;33m(\u001b[0m\u001b[0md\u001b[0m\u001b[1;33m)\u001b[0m\u001b[1;33m)\u001b[0m\u001b[1;33m\u001b[0m\u001b[1;33m\u001b[0m\u001b[0m\n\u001b[0;32m     19\u001b[0m \u001b[1;33m\u001b[0m\u001b[0m\n",
      "\u001b[1;31mTypeError\u001b[0m: unhashable type: 'list'"
     ]
    }
   ],
   "source": [
    "#Q. [MCQ] Which of the following declarations is not valid for 'dict' type?\n",
    "# 1. d = {\"Name\": \"Tom\" }\n",
    "# 2. d = { (1,3,4): 4.5 }\n",
    "# 3. d = { [\"First\", \"Last\"]: (1,3) }\n",
    "# 4. d = { 1: 0.4 }\n",
    "# 5. None of the above\n",
    "\n",
    "# 1.\n",
    "# d = {\"Name\": \"Tom\" }\n",
    "# print(type(d))\n",
    "\n",
    "# 2.\n",
    "# d = { (1,3,4): 4.5 }\n",
    "# print(type(d))\n",
    "\n",
    "# 3.\n",
    "d = { [\"First\", \"Last\"]: (1,3) }\n",
    "print(type(d))\n",
    "\n",
    "# 4.\n",
    "# d = { 1: 0.4 }\n",
    "# print(type(d))\n",
    "\n",
    "# Ans : 3. d = { [\"First\", \"Last\"]: (1,3) } is not valid for 'dict' type."
   ]
  },
  {
   "cell_type": "code",
   "execution_count": 11,
   "id": "98739b4e",
   "metadata": {},
   "outputs": [
    {
     "data": {
      "text/plain": [
       "['a']"
      ]
     },
     "execution_count": 11,
     "metadata": {},
     "output_type": "execute_result"
    }
   ],
   "source": [
    "#Q. Write a function reverseLookup(dictionary, value) that takes in a dictionary \n",
    "# and a value as arguments and returns a sorted list of all keys that contains the value. \n",
    "# The function will return an empty list if no match is found.\n",
    "\n",
    "# In - reverseLookup({'a':1, 'b':2, 'c':2}, 1)\n",
    "# Out - ['a']\n",
    "# In - reverseLookup({'a':1, 'b':2, 'c':2}, 2)\n",
    "# Out - ['b', 'c']\n",
    "# In - reverseLookup({'a':1, 'b':2, 'c':2}, 3)\n",
    "# Out - []\n",
    "\n",
    "def reverseLookup(dictionary , value):\n",
    "    result_list = []\n",
    "    for val in dictionary.keys():\n",
    "        if dictionary[val] == value:\n",
    "            result_list.extend(val)\n",
    "    return sorted(result_list)\n",
    "\n",
    "reverseLookup({'a':1, 'b':2, 'c':2}, 1)"
   ]
  },
  {
   "cell_type": "code",
   "execution_count": 12,
   "id": "8e556b21",
   "metadata": {},
   "outputs": [
    {
     "data": {
      "text/plain": [
       "{1: ['a'], 2: ['b', 'd'], 3: ['c']}"
      ]
     },
     "execution_count": 12,
     "metadata": {},
     "output_type": "execute_result"
    }
   ],
   "source": [
    "#Q. Write a function invertDictionary(d) that takes in a dictionary as argument and return a dictionary that inverts the keys and the values of the original dictionary.\n",
    "# In - invertDictionary({'a':1, 'b':2, 'c':3, 'd':2})\n",
    "# Out - {1: ['a'], 2: ['b', 'd'], 3: ['c']}\n",
    "# In - invertDictionary({'a':3, 'b':3, 'c':3})\n",
    "# Out - {3: ['a', 'c', 'b']}\n",
    "# In - invertDictionary({'a':2, 'b':1, 'c':2, 'd':1})\n",
    "# Out - {1: ['b', 'd'], 2: ['a', 'c']}\n",
    "\n",
    "def invertDictionary(d):\n",
    "    newdict = {}\n",
    "    for key, value in d.items():\n",
    "        newdict.setdefault(value, []).append(key)\n",
    "    return newdict\n",
    "\n",
    "invertDictionary({'a':1, 'b':2, 'c':3, 'd':2})"
   ]
  },
  {
   "cell_type": "code",
   "execution_count": 13,
   "id": "e0fefa2f",
   "metadata": {},
   "outputs": [
    {
     "data": {
      "text/plain": [
       "{0: 1, 3: 2, 7: 3, 12: 4}"
      ]
     },
     "execution_count": 13,
     "metadata": {},
     "output_type": "execute_result"
    }
   ],
   "source": [
    "# Write a function that converts a sparse vector into a dictionary as described above.\n",
    "# In - convertVector([1, 0, 0, 2, 0, 0, 0, 3, 0, 0, 0, 0, 4])\n",
    "# Out - {0: 1, 3: 2, 7: 3, 12: 4}\n",
    "# In - convertVector([1, 0, 1 , 0, 2, 0, 1, 0, 0, 1, 0])\n",
    "# Out - {0: 1, 2: 1, 4: 2, 6: 1, 9: 1}\n",
    "# In - convertVector([0, 0, 0, 0, 0])\n",
    "# Out - {}\n",
    "\n",
    "def convertVector(numbers):\n",
    "    dict = {}\n",
    "    count = 0\n",
    "    for i in numbers:\n",
    "        if i != 0:\n",
    "            dict[count] = i\n",
    "        count+=1    \n",
    "    return dict\n",
    "\n",
    "convertVector([1, 0, 0, 2, 0, 0, 0, 3, 0, 0, 0, 0, 4])"
   ]
  },
  {
   "cell_type": "code",
   "execution_count": 14,
   "id": "a0194091",
   "metadata": {},
   "outputs": [
    {
     "data": {
      "text/plain": [
       "[1, 0, 0, 2, 0, 0, 0, 3, 0, 0, 0, 0, 4]"
      ]
     },
     "execution_count": 14,
     "metadata": {},
     "output_type": "execute_result"
    }
   ],
   "source": [
    "#Q. Write a function that converts a dictionary back to its sparse vector representation.\n",
    "# In - convertDictionary({0: 1, 3: 2, 7: 3, 12: 4})\n",
    "# Out - [1, 0, 0, 2, 0, 0, 0, 3, 0, 0, 0, 0, 4]\n",
    "# In - convertDictionary({0: 1, 2: 1, 4: 2, 6: 1, 9: 1})\n",
    "# Out - [1, 0, 1, 0, 2, 0, 1, 0, 0, 1]\n",
    "# In - convertDictionary({})\n",
    "# Out - []\n",
    "\n",
    "def convertDictionary(d):\n",
    "    if(d == {}):\n",
    "        return []\n",
    "    maxElem = max([int(s) for s in d.keys()])\n",
    "    return [d.get(x, 0) for x in range(maxElem+1)]\n",
    "\n",
    "convertDictionary({0: 1, 3: 2, 7: 3, 12: 4})"
   ]
  },
  {
   "cell_type": "code",
   "execution_count": 15,
   "id": "131fb805",
   "metadata": {},
   "outputs": [
    {
     "name": "stdout",
     "output_type": "stream",
     "text": [
      "Before Brad's Salary Changes : \n",
      "{'emp1': {'name': 'Jhon', 'salary': 7500}, 'emp2': {'name': 'Emma', 'salary': 8000}, 'emp3': {'name': 'Brad', 'salary': 6500}}\n",
      "After Brad's Salary Changes : \n",
      "{'emp1': {'name': 'Jhon', 'salary': 7500}, 'emp2': {'name': 'Emma', 'salary': 8000}, 'emp3': {'name': 'Brad', 'salary': 8500}}\n"
     ]
    }
   ],
   "source": [
    "#Q. Given a Python dictionary, Change Brad’s salary to 8500\n",
    "# sampleDict = {\n",
    "#      'emp1': {'name': 'Jhon', 'salary': 7500},\n",
    "#      'emp2': {'name': 'Emma', 'salary': 8000},\n",
    "#      'emp3': {'name': 'Brad', 'salary': 6500}\n",
    "# }\n",
    "\n",
    "# Expected Output\n",
    "# sampleDict = {\n",
    "#      'emp1': {'name': 'Jhon', 'salary': 7500},\n",
    "#      'emp2': {'name': 'Emma', 'salary': 8000},\n",
    "#      'emp3': {'name': 'Brad', 'salary': 8500}\n",
    "# }\n",
    "\n",
    "sampleDict = {\n",
    "     'emp1': {'name': 'Jhon', 'salary': 7500},\n",
    "     'emp2': {'name': 'Emma', 'salary': 8000},\n",
    "     'emp3': {'name': 'Brad', 'salary': 6500}\n",
    "}\n",
    "print(\"Before Brad's Salary Changes : \")\n",
    "print(sampleDict)\n",
    "sampleDict['emp3']['salary'] = 8500\n",
    "print(\"After Brad's Salary Changes : \")\n",
    "print(sampleDict)"
   ]
  },
  {
   "cell_type": "code",
   "execution_count": 16,
   "id": "af6ae97a",
   "metadata": {},
   "outputs": [
    {
     "name": "stdout",
     "output_type": "stream",
     "text": [
      "Math\n"
     ]
    }
   ],
   "source": [
    "#Q. Get the key corresponding to the minimum value from the following dictionary\n",
    "# sampleDict = {\n",
    "#   'Physics': 82,\n",
    "#   'Math': 65,\n",
    "#   'history': 75\n",
    "# }\n",
    "\n",
    "# Expected Output\n",
    "# Math\n",
    "\n",
    "\n",
    "sampleDict = {\n",
    "  'Physics': 82,\n",
    "  'Math': 65,\n",
    "  'history': 75\n",
    "}\n",
    "\n",
    "print(min(sampleDict, key=sampleDict.get))"
   ]
  },
  {
   "cell_type": "code",
   "execution_count": 17,
   "id": "22f0a4a0",
   "metadata": {},
   "outputs": [
    {
     "name": "stdout",
     "output_type": "stream",
     "text": [
      "{'name': 'Kelly', 'age': 25, 'salary': 8000, 'location': 'New york'}\n"
     ]
    }
   ],
   "source": [
    "#Q. Rename key city to location in the following dictionary\n",
    "# sampleDict = {\n",
    "#   \"name\": \"Kelly\",\n",
    "#   \"age\":25,\n",
    "#   \"salary\": 8000,\n",
    "#   \"city\": \"New york\"\n",
    "# }\n",
    "\n",
    "# Expected Output\n",
    "# {\n",
    "#   \"name\": \"Kelly\",\n",
    "#   \"age\":25,\n",
    "#   \"salary\": 8000,\n",
    "#   \"location\": \"New york\"\n",
    "# }\n",
    "\n",
    "sampleDict = {\n",
    "  \"name\": \"Kelly\",\n",
    "  \"age\":25,\n",
    "  \"salary\": 8000,\n",
    "  \"city\": \"New york\"\n",
    "}\n",
    "\n",
    "new_key = \"location\"\n",
    "old_key = \"city\"\n",
    "\n",
    "sampleDict[new_key] = sampleDict.pop(old_key)\n",
    "print(sampleDict)"
   ]
  },
  {
   "cell_type": "code",
   "execution_count": 18,
   "id": "69bed6c5",
   "metadata": {},
   "outputs": [
    {
     "name": "stdout",
     "output_type": "stream",
     "text": [
      "True\n"
     ]
    }
   ],
   "source": [
    "#Q. Check if a value 200 exists in a dictionary\n",
    "# sampleDict = {'a': 100, 'b': 200, 'c': 300}\n",
    "# Expected Output: True\n",
    "\n",
    "sampleDict = {'a': 100, 'b': 200, 'c': 300}\n",
    "values = sampleDict.values()\n",
    "val = list(values)\n",
    "val_b = val[1]\n",
    "#print(val_b)\n",
    "print(val_b in values)"
   ]
  },
  {
   "cell_type": "code",
   "execution_count": 19,
   "id": "ca295494",
   "metadata": {},
   "outputs": [
    {
     "name": "stdout",
     "output_type": "stream",
     "text": [
      "{'age': 25, 'city': 'New york'}\n"
     ]
    }
   ],
   "source": [
    "#Q. Delete set of keys from Python Dictionary\n",
    "# sampleDict = {\n",
    "#   \"name\": \"Kelly\",\n",
    "#   \"age\":25,\n",
    "#   \"salary\": 8000,\n",
    "#   \"city\": \"New york\"\n",
    "  \n",
    "# }\n",
    "# keysToRemove = [\"name\", \"salary\"]\n",
    "\n",
    "# Expected Output:\n",
    "# {'city': 'New york', 'age': 25}\n",
    "\n",
    "\n",
    "sampleDict = {\n",
    "  \"name\": \"Kelly\",\n",
    "  \"age\":25,\n",
    "  \"salary\": 8000,\n",
    "  \"city\": \"New york\"\n",
    "}\n",
    "\n",
    "sampleDict.pop(\"name\")\n",
    "sampleDict.pop(\"salary\")\n",
    "print(sampleDict)\n"
   ]
  },
  {
   "cell_type": "code",
   "execution_count": null,
   "id": "dae917ee",
   "metadata": {},
   "outputs": [],
   "source": []
  }
 ],
 "metadata": {
  "kernelspec": {
   "display_name": "Python 3",
   "language": "python",
   "name": "python3"
  },
  "language_info": {
   "codemirror_mode": {
    "name": "ipython",
    "version": 3
   },
   "file_extension": ".py",
   "mimetype": "text/x-python",
   "name": "python",
   "nbconvert_exporter": "python",
   "pygments_lexer": "ipython3",
   "version": "3.8.8"
  }
 },
 "nbformat": 4,
 "nbformat_minor": 5
}
