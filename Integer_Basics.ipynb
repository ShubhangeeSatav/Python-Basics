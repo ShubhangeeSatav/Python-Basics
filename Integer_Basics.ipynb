{
 "cells": [
  {
   "cell_type": "code",
   "execution_count": 1,
   "id": "399c56fc",
   "metadata": {},
   "outputs": [
    {
     "name": "stdout",
     "output_type": "stream",
     "text": [
      "Value of a = 10\n",
      "Type of a = <class 'int'>\n",
      "Memory location of a = 140719815338064\n"
     ]
    }
   ],
   "source": [
    "# Q. Declare an int value and store it in a variable.Check the type and print the id of the same.\n",
    "\n",
    "a = 10\n",
    "print(\"Value of a =\", a)\n",
    "print(\"Type of a =\", type(a))\n",
    "print(\"Memory location of a =\", id(a))"
   ]
  },
  {
   "cell_type": "code",
   "execution_count": 2,
   "id": "1048d9c7",
   "metadata": {},
   "outputs": [
    {
     "name": "stdout",
     "output_type": "stream",
     "text": [
      "\n",
      "Memory location of b = 140719815340944\n",
      "\n",
      "Memory location of c = 140719815340944\n"
     ]
    }
   ],
   "source": [
    "# Q. Take one int value between 0 - 256. Assign it to two different variables. Check the id of both the variables. \n",
    "# It should come the same. Check why? \n",
    "\n",
    "b = 100\n",
    "c = 100\n",
    "print(\"\\nMemory location of b =\", id(b))\n",
    "print(\"\\nMemory location of c =\", id(c))\n",
    "\n",
    "\n",
    "# In Python to optimize memory allocation, does a process called \"interning\".Python only stores one object on Heap memory \n",
    "# and ask different variables to point to this memory address if they use those objects. The objects that Python does interning \n",
    "# on them are integer numbers [-5, 256]. Thats why memory address of the two vaiables are same."
   ]
  },
  {
   "cell_type": "code",
   "execution_count": 3,
   "id": "f21b71bc",
   "metadata": {
    "scrolled": true
   },
   "outputs": [
    {
     "name": "stdout",
     "output_type": "stream",
     "text": [
      "Memory location of d = 1877637108752\n",
      "Memory location of e = 1877637108944\n"
     ]
    }
   ],
   "source": [
    "# Q. Take one int value either less than -5 or greater than 256. Assign it to two different variables.\n",
    "# Check the id of both the variables. It should come different.\n",
    "\n",
    "d = 257\n",
    "e = 257\n",
    "print(\"Memory location of d =\", id(d))\n",
    "print(\"Memory location of e =\", id(e))"
   ]
  },
  {
   "cell_type": "code",
   "execution_count": 4,
   "id": "c7775499",
   "metadata": {},
   "outputs": [
    {
     "name": "stdout",
     "output_type": "stream",
     "text": [
      "The Sum of two numbers is : 70\n"
     ]
    }
   ],
   "source": [
    "# Q. Arithmetic Operations on integers. Take two different integer values. Store them in two different variables. \n",
    "# Do below operations on them:-\n",
    "\n",
    "# Find sum of both numbers.\n",
    "\n",
    "int_val1 = 50\n",
    "int_val2 = 20\n",
    "ans = int_val1 + int_val2\n",
    "print(\"The Sum of two numbers is :\", ans)"
   ]
  },
  {
   "cell_type": "code",
   "execution_count": 5,
   "id": "0471e61f",
   "metadata": {},
   "outputs": [
    {
     "name": "stdout",
     "output_type": "stream",
     "text": [
      "The difference of two numbers is : 30\n"
     ]
    }
   ],
   "source": [
    "# Find difference between them\n",
    "\n",
    "int_val1 = 50\n",
    "int_val2 = 20\n",
    "ans = int_val1 - int_val2\n",
    "print(\"The difference of two numbers is :\", ans)"
   ]
  },
  {
   "cell_type": "code",
   "execution_count": 6,
   "id": "53cfc209",
   "metadata": {},
   "outputs": [
    {
     "name": "stdout",
     "output_type": "stream",
     "text": [
      "The product of two numbers is : 10\n"
     ]
    }
   ],
   "source": [
    "# Find the product of both numbers.\n",
    "\n",
    "int_val1 = 5\n",
    "int_val2 = 2\n",
    "ans = int_val1 * int_val2\n",
    "print(\"The product of two numbers is :\", ans)"
   ]
  },
  {
   "cell_type": "code",
   "execution_count": 7,
   "id": "8cf48de6",
   "metadata": {},
   "outputs": [
    {
     "name": "stdout",
     "output_type": "stream",
     "text": [
      "The division of two numbers is : 3.0\n"
     ]
    }
   ],
   "source": [
    "# Find value after dividing first number with second number\n",
    "\n",
    "int_val1 = 6\n",
    "int_val2 = 2\n",
    "ans = int_val1 / int_val2\n",
    "print(\"The division of two numbers is :\", ans)"
   ]
  },
  {
   "cell_type": "code",
   "execution_count": 8,
   "id": "0ee106d8",
   "metadata": {},
   "outputs": [
    {
     "name": "stdout",
     "output_type": "stream",
     "text": [
      "The remainder after dividing two numbers is : 1\n"
     ]
    }
   ],
   "source": [
    "#Find the remainder after dividing first number with second number\n",
    "\n",
    "int_val1 = 5\n",
    "int_val2 = 2\n",
    "ans = int_val1 % int_val2\n",
    "print(\"The remainder after dividing two numbers is :\", ans)"
   ]
  },
  {
   "cell_type": "code",
   "execution_count": 9,
   "id": "e981ac49",
   "metadata": {},
   "outputs": [
    {
     "name": "stdout",
     "output_type": "stream",
     "text": [
      "The quotient after dividing two numbers is : 2\n"
     ]
    }
   ],
   "source": [
    "# Find the quotient after dividing first number with second number\n",
    "\n",
    "int_val1 = 5\n",
    "int_val2 = 2\n",
    "ans = int_val1 // int_val2\n",
    "print(\"The quotient after dividing two numbers is :\", ans)"
   ]
  },
  {
   "cell_type": "code",
   "execution_count": 10,
   "id": "506db81a",
   "metadata": {},
   "outputs": [
    {
     "name": "stdout",
     "output_type": "stream",
     "text": [
      "The first number to the power of the second number is : 25\n"
     ]
    }
   ],
   "source": [
    "# Find the result of the first number to the power of the second number.\n",
    "\n",
    "int_val1 = 5\n",
    "int_val2 = 2\n",
    "ans = int_val1 ** int_val2\n",
    "print(\"The first number to the power of the second number is :\", ans)"
   ]
  },
  {
   "cell_type": "code",
   "execution_count": 11,
   "id": "071f8c20",
   "metadata": {},
   "outputs": [
    {
     "name": "stdout",
     "output_type": "stream",
     "text": [
      "True\n"
     ]
    }
   ],
   "source": [
    "# Q. Comparison Operators on integers. Take two different integer values. Store them in two different variables.\n",
    "# Do below operations on them. Compare the two numbers with below operator.Observe their output(return type should be boolean)\n",
    "# Greater than, '>'\n",
    "\n",
    "int_val1 = 5\n",
    "int_val2 = 2\n",
    "\n",
    "print(int_val1 > int_val2)"
   ]
  },
  {
   "cell_type": "code",
   "execution_count": 12,
   "id": "b794b46c",
   "metadata": {},
   "outputs": [
    {
     "name": "stdout",
     "output_type": "stream",
     "text": [
      "False\n"
     ]
    }
   ],
   "source": [
    "# Smaller than, '<'\n",
    "\n",
    "int_val1 = 5\n",
    "int_val2 = 2\n",
    "\n",
    "print(int_val1 < int_val2)"
   ]
  },
  {
   "cell_type": "code",
   "execution_count": 13,
   "id": "8e1881ff",
   "metadata": {},
   "outputs": [
    {
     "name": "stdout",
     "output_type": "stream",
     "text": [
      "True\n"
     ]
    }
   ],
   "source": [
    "# Greater than or equal to, '>='\n",
    "\n",
    "int_val1 = 5\n",
    "int_val2 = 2\n",
    "\n",
    "print(int_val1 >= int_val2)"
   ]
  },
  {
   "cell_type": "code",
   "execution_count": 14,
   "id": "a322f611",
   "metadata": {},
   "outputs": [
    {
     "name": "stdout",
     "output_type": "stream",
     "text": [
      "False\n"
     ]
    }
   ],
   "source": [
    "# Less than or equal to, '<='\n",
    "\n",
    "int_val1 = 5\n",
    "int_val2 = 2\n",
    "\n",
    "print(int_val1 <= int_val2)"
   ]
  },
  {
   "cell_type": "code",
   "execution_count": 15,
   "id": "e3d9d753",
   "metadata": {},
   "outputs": [
    {
     "name": "stdout",
     "output_type": "stream",
     "text": [
      "False\n"
     ]
    }
   ],
   "source": [
    "# Q. Equality Operator. Take two different integer values. Store them in two different variables.\n",
    "# Equate them using equality operators (==, !=). Observe the output(return type should be boolean)\n",
    "\n",
    "# Equality operators (==)\n",
    "\n",
    "int_val1 = 5\n",
    "int_val2 = 2\n",
    "\n",
    "print(int_val1 == int_val2)"
   ]
  },
  {
   "cell_type": "code",
   "execution_count": 16,
   "id": "ef975b23",
   "metadata": {},
   "outputs": [
    {
     "name": "stdout",
     "output_type": "stream",
     "text": [
      "True\n"
     ]
    }
   ],
   "source": [
    "# Equality operators (!=)\n",
    "\n",
    "int_val1 = 5\n",
    "int_val2 = 2\n",
    "\n",
    "print(int_val1 != int_val2)"
   ]
  },
  {
   "cell_type": "code",
   "execution_count": 17,
   "id": "ed75227f",
   "metadata": {},
   "outputs": [
    {
     "name": "stdout",
     "output_type": "stream",
     "text": [
      "20\n"
     ]
    }
   ],
   "source": [
    "# Q. Logical operators. Observe the output of below code. Cross check the output manually\n",
    "# Logical and operator\n",
    "\n",
    "print(10 and 20)"
   ]
  },
  {
   "cell_type": "code",
   "execution_count": 18,
   "id": "9487f69d",
   "metadata": {},
   "outputs": [
    {
     "name": "stdout",
     "output_type": "stream",
     "text": [
      "0\n"
     ]
    }
   ],
   "source": [
    "print ( 0 and 20 )"
   ]
  },
  {
   "cell_type": "code",
   "execution_count": 19,
   "id": "471d5e23",
   "metadata": {},
   "outputs": [
    {
     "name": "stdout",
     "output_type": "stream",
     "text": [
      "0\n"
     ]
    }
   ],
   "source": [
    "print ( 20 and 0 )"
   ]
  },
  {
   "cell_type": "code",
   "execution_count": 20,
   "id": "ff68d6d1",
   "metadata": {},
   "outputs": [
    {
     "name": "stdout",
     "output_type": "stream",
     "text": [
      "0\n"
     ]
    }
   ],
   "source": [
    "print ( 0 and 0 )"
   ]
  },
  {
   "cell_type": "code",
   "execution_count": 21,
   "id": "8762a45f",
   "metadata": {},
   "outputs": [
    {
     "name": "stdout",
     "output_type": "stream",
     "text": [
      "10\n"
     ]
    }
   ],
   "source": [
    "# Logical or operators\n",
    "\n",
    "print ( 10 or 20 )"
   ]
  },
  {
   "cell_type": "code",
   "execution_count": 22,
   "id": "b0e7388e",
   "metadata": {},
   "outputs": [
    {
     "name": "stdout",
     "output_type": "stream",
     "text": [
      "20\n"
     ]
    }
   ],
   "source": [
    "print ( 0 or 20 )"
   ]
  },
  {
   "cell_type": "code",
   "execution_count": 23,
   "id": "b9202b16",
   "metadata": {},
   "outputs": [
    {
     "name": "stdout",
     "output_type": "stream",
     "text": [
      "20\n"
     ]
    }
   ],
   "source": [
    "print ( 20 or 0 )"
   ]
  },
  {
   "cell_type": "code",
   "execution_count": 24,
   "id": "72210840",
   "metadata": {},
   "outputs": [
    {
     "name": "stdout",
     "output_type": "stream",
     "text": [
      "0\n"
     ]
    }
   ],
   "source": [
    "print ( 0 or 0 )"
   ]
  },
  {
   "cell_type": "code",
   "execution_count": 25,
   "id": "c0be453f",
   "metadata": {},
   "outputs": [
    {
     "name": "stdout",
     "output_type": "stream",
     "text": [
      "False\n"
     ]
    }
   ],
   "source": [
    "# Logical not operators\n",
    "\n",
    "print ( not 10 )"
   ]
  },
  {
   "cell_type": "code",
   "execution_count": 26,
   "id": "c44bf53a",
   "metadata": {},
   "outputs": [
    {
     "name": "stdout",
     "output_type": "stream",
     "text": [
      "True\n"
     ]
    }
   ],
   "source": [
    "print ( not 0 )"
   ]
  },
  {
   "cell_type": "code",
   "execution_count": 27,
   "id": "f349967b",
   "metadata": {},
   "outputs": [
    {
     "name": "stdout",
     "output_type": "stream",
     "text": [
      "0\n"
     ]
    }
   ],
   "source": [
    "# Q. Bitwise Operators. Do below operations on the values provided below:-\n",
    "# Bitwise and(&)\n",
    "\n",
    "print ( 10 & 20 )"
   ]
  },
  {
   "cell_type": "code",
   "execution_count": 28,
   "id": "eca83ecf",
   "metadata": {},
   "outputs": [
    {
     "name": "stdout",
     "output_type": "stream",
     "text": [
      "30\n"
     ]
    }
   ],
   "source": [
    "# Bitwise or(|)\n",
    "\n",
    "print ( 10 | 20 )"
   ]
  },
  {
   "cell_type": "code",
   "execution_count": 29,
   "id": "523bf9f4",
   "metadata": {},
   "outputs": [
    {
     "name": "stdout",
     "output_type": "stream",
     "text": [
      "30\n"
     ]
    }
   ],
   "source": [
    "# Bitwise(^)\n",
    "\n",
    "print ( 10 ^ 20 )"
   ]
  },
  {
   "cell_type": "code",
   "execution_count": 30,
   "id": "40bfe515",
   "metadata": {},
   "outputs": [
    {
     "name": "stdout",
     "output_type": "stream",
     "text": [
      "-11\n"
     ]
    }
   ],
   "source": [
    "# Bitwise negation(~)\n",
    "\n",
    "print ( ~10 )"
   ]
  },
  {
   "cell_type": "code",
   "execution_count": 31,
   "id": "e7171fe2",
   "metadata": {},
   "outputs": [
    {
     "name": "stdout",
     "output_type": "stream",
     "text": [
      "40\n"
     ]
    }
   ],
   "source": [
    "# Bitwise left shift\n",
    "\n",
    "print ( 10 << 2 )"
   ]
  },
  {
   "cell_type": "code",
   "execution_count": 32,
   "id": "302b9494",
   "metadata": {},
   "outputs": [
    {
     "name": "stdout",
     "output_type": "stream",
     "text": [
      "2\n"
     ]
    }
   ],
   "source": [
    "# Bitwise right shift\n",
    "\n",
    "print ( 10 >> 2 )"
   ]
  },
  {
   "cell_type": "code",
   "execution_count": 33,
   "id": "35e8924a",
   "metadata": {},
   "outputs": [
    {
     "name": "stdout",
     "output_type": "stream",
     "text": [
      "True\n"
     ]
    }
   ],
   "source": [
    "# Q. What is the output of expression inside print statement. Cross check before running the program.\n",
    "\n",
    "a = 10\n",
    "b = 10\n",
    "\n",
    "print(a is b)"
   ]
  },
  {
   "cell_type": "code",
   "execution_count": 34,
   "id": "f181b3b1",
   "metadata": {},
   "outputs": [
    {
     "name": "stdout",
     "output_type": "stream",
     "text": [
      "False\n"
     ]
    }
   ],
   "source": [
    "print(a is not b)"
   ]
  },
  {
   "cell_type": "code",
   "execution_count": 35,
   "id": "f46ea828",
   "metadata": {},
   "outputs": [
    {
     "name": "stdout",
     "output_type": "stream",
     "text": [
      "False\n"
     ]
    }
   ],
   "source": [
    "a = 1000\n",
    "b = 1000\n",
    "\n",
    "print(a is b)"
   ]
  },
  {
   "cell_type": "code",
   "execution_count": 36,
   "id": "bb940639",
   "metadata": {},
   "outputs": [
    {
     "name": "stdout",
     "output_type": "stream",
     "text": [
      "True\n"
     ]
    }
   ],
   "source": [
    "print(a is not b)"
   ]
  },
  {
   "cell_type": "code",
   "execution_count": 37,
   "id": "5e2372ca",
   "metadata": {},
   "outputs": [
    {
     "name": "stdout",
     "output_type": "stream",
     "text": [
      "20\n"
     ]
    }
   ],
   "source": [
    "# Q. What is the output of expression inside print statement. Cross check before running the program.\n",
    "\n",
    "# 10 +( 10 * 32 )// 2 ** 5 & 20 +(~( -10 ))<< 2\n",
    "# 10 + 320 // 2 ** 5 & 20 + 9 << 2\n",
    "# 10 + 320 // 32 & 20 + 9 << 2\n",
    "# 10 + 10 & 20 + 9 << 2\n",
    "# 20 & 29 << 2\n",
    "# 20 & 116\n",
    "# 20\n",
    "\n",
    "print ( 10 +( 10 * 32 )// 2 ** 5 & 20 +(~( -10 ))<< 2 )"
   ]
  },
  {
   "cell_type": "code",
   "execution_count": 38,
   "id": "9b450d70",
   "metadata": {},
   "outputs": [
    {
     "name": "stdout",
     "output_type": "stream",
     "text": [
      "True\n"
     ]
    }
   ],
   "source": [
    "# Q. Membership operation in, not in are two membership operators and it returns boolean value.\n",
    "\n",
    "print ( '2' in 'Python2.7.8' )"
   ]
  },
  {
   "cell_type": "code",
   "execution_count": 39,
   "id": "2c3afc22",
   "metadata": {},
   "outputs": [
    {
     "name": "stdout",
     "output_type": "stream",
     "text": [
      "True\n"
     ]
    }
   ],
   "source": [
    "print ( 10 in [ 10 , 10.20 , 10 + 20j , 'Python' ])"
   ]
  },
  {
   "cell_type": "code",
   "execution_count": 40,
   "id": "b075e8fb",
   "metadata": {},
   "outputs": [
    {
     "name": "stdout",
     "output_type": "stream",
     "text": [
      "True\n"
     ]
    }
   ],
   "source": [
    "print ( 10 in ( 10 , 10.20 , 10 + 20j , 'Python' ))"
   ]
  },
  {
   "cell_type": "code",
   "execution_count": 41,
   "id": "ec05f16c",
   "metadata": {},
   "outputs": [
    {
     "name": "stdout",
     "output_type": "stream",
     "text": [
      "True\n"
     ]
    }
   ],
   "source": [
    "print ( 2 in { 1 , 2 , 3 })"
   ]
  },
  {
   "cell_type": "code",
   "execution_count": 42,
   "id": "a9075a13",
   "metadata": {},
   "outputs": [
    {
     "name": "stdout",
     "output_type": "stream",
     "text": [
      "True\n"
     ]
    }
   ],
   "source": [
    "print ( 3 in { 1 : 100 , 2 : 200 , 3 : 300 })"
   ]
  },
  {
   "cell_type": "code",
   "execution_count": 43,
   "id": "6948945f",
   "metadata": {},
   "outputs": [
    {
     "name": "stdout",
     "output_type": "stream",
     "text": [
      "True\n"
     ]
    }
   ],
   "source": [
    "print ( 10 in range ( 20 ))"
   ]
  },
  {
   "cell_type": "code",
   "execution_count": 44,
   "id": "5859363b",
   "metadata": {},
   "outputs": [
    {
     "name": "stdout",
     "output_type": "stream",
     "text": [
      "Binary representation of a = 0b10011010010100\n",
      "Octal representation of a = 0o23224\n",
      "Hexadecimal representation of a = 0x2694\n"
     ]
    }
   ],
   "source": [
    "# Q. An integer can be represented in binary, octal or hexadecimal form. Declare one binary, one octal and \n",
    "# one hexadecimal value and store them in three different variables. Convert 9876 to its binary, octal and hexadecimal \n",
    "# equivalent and print their corresponding value.\n",
    "\n",
    "a = 9876\n",
    "\n",
    "print(\"Binary representation of a =\", bin(a))\n",
    "print(\"Octal representation of a =\", oct(a))\n",
    "print(\"Hexadecimal representation of a =\", hex(a))\n"
   ]
  },
  {
   "cell_type": "code",
   "execution_count": 45,
   "id": "916e5ca1",
   "metadata": {},
   "outputs": [
    {
     "name": "stdout",
     "output_type": "stream",
     "text": [
      "80\n"
     ]
    }
   ],
   "source": [
    "# Q. What will be the output of following:-\n",
    "\n",
    "a = 0b1010000\n",
    "print(a)"
   ]
  },
  {
   "cell_type": "code",
   "execution_count": 46,
   "id": "142ef5df",
   "metadata": {},
   "outputs": [
    {
     "name": "stdout",
     "output_type": "stream",
     "text": [
      "3870\n"
     ]
    }
   ],
   "source": [
    "b = 0o7436\n",
    "print(b)"
   ]
  },
  {
   "cell_type": "code",
   "execution_count": 47,
   "id": "d7c35f55",
   "metadata": {},
   "outputs": [
    {
     "name": "stdout",
     "output_type": "stream",
     "text": [
      "64222\n"
     ]
    }
   ],
   "source": [
    "c = 0xfade\n",
    "print(c)"
   ]
  },
  {
   "cell_type": "code",
   "execution_count": 48,
   "id": "ab9b3d7f",
   "metadata": {},
   "outputs": [
    {
     "name": "stdout",
     "output_type": "stream",
     "text": [
      "0b1010000\n"
     ]
    }
   ],
   "source": [
    "print(bin(80))"
   ]
  },
  {
   "cell_type": "code",
   "execution_count": 49,
   "id": "715c7470",
   "metadata": {},
   "outputs": [
    {
     "name": "stdout",
     "output_type": "stream",
     "text": [
      "0o7436\n"
     ]
    }
   ],
   "source": [
    "print(oct(3870))"
   ]
  },
  {
   "cell_type": "code",
   "execution_count": 50,
   "id": "be3cb885",
   "metadata": {},
   "outputs": [
    {
     "name": "stdout",
     "output_type": "stream",
     "text": [
      "0xfade\n"
     ]
    }
   ],
   "source": [
    "print( hex ( 64222 ))"
   ]
  },
  {
   "cell_type": "code",
   "execution_count": 51,
   "id": "31aaf743",
   "metadata": {},
   "outputs": [
    {
     "name": "stdout",
     "output_type": "stream",
     "text": [
      "0b1010000\n"
     ]
    }
   ],
   "source": [
    "print( bin ( 0b1010000))"
   ]
  },
  {
   "cell_type": "code",
   "execution_count": 52,
   "id": "d7202353",
   "metadata": {},
   "outputs": [
    {
     "name": "stdout",
     "output_type": "stream",
     "text": [
      "0b1111101011011110\n"
     ]
    }
   ],
   "source": [
    "print( bin ( 0xfade ))"
   ]
  },
  {
   "cell_type": "code",
   "execution_count": 53,
   "id": "aa03ae43",
   "metadata": {},
   "outputs": [
    {
     "name": "stdout",
     "output_type": "stream",
     "text": [
      "0o175336\n"
     ]
    }
   ],
   "source": [
    "print( oct ( 0xfade ))"
   ]
  },
  {
   "cell_type": "code",
   "execution_count": 54,
   "id": "0c6f0829",
   "metadata": {},
   "outputs": [
    {
     "name": "stdout",
     "output_type": "stream",
     "text": [
      "0o7436\n"
     ]
    }
   ],
   "source": [
    "print( oct ( 0o7436))"
   ]
  },
  {
   "cell_type": "code",
   "execution_count": 55,
   "id": "fc53c388",
   "metadata": {},
   "outputs": [
    {
     "name": "stdout",
     "output_type": "stream",
     "text": [
      "0x50\n"
     ]
    }
   ],
   "source": [
    "print( hex ( 0b1010000))"
   ]
  },
  {
   "cell_type": "code",
   "execution_count": 56,
   "id": "0d8c42c4",
   "metadata": {},
   "outputs": [
    {
     "name": "stdout",
     "output_type": "stream",
     "text": [
      "0xfade\n"
     ]
    }
   ],
   "source": [
    "print( hex ( 0xfade ))"
   ]
  },
  {
   "cell_type": "code",
   "execution_count": null,
   "id": "8e3e209b",
   "metadata": {},
   "outputs": [],
   "source": []
  }
 ],
 "metadata": {
  "kernelspec": {
   "display_name": "Python 3",
   "language": "python",
   "name": "python3"
  },
  "language_info": {
   "codemirror_mode": {
    "name": "ipython",
    "version": 3
   },
   "file_extension": ".py",
   "mimetype": "text/x-python",
   "name": "python",
   "nbconvert_exporter": "python",
   "pygments_lexer": "ipython3",
   "version": "3.8.8"
  }
 },
 "nbformat": 4,
 "nbformat_minor": 5
}
