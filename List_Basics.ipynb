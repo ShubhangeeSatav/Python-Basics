{
 "cells": [
  {
   "cell_type": "code",
   "execution_count": 1,
   "id": "f7720c6c",
   "metadata": {},
   "outputs": [
    {
     "name": "stdout",
     "output_type": "stream",
     "text": [
      "The sum of all elements in a list :  100\n"
     ]
    }
   ],
   "source": [
    "#Q. Write a Python program to find the sum of all elements in a list using loop.\n",
    "#Input:- [10,20,30,40]\n",
    "#Output:- 100\n",
    "\n",
    "lst = [10,20,30,40]\n",
    "sum = 0\n",
    "\n",
    "for i in lst:\n",
    "    sum += i\n",
    "print(\"The sum of all elements in a list : \", sum)"
   ]
  },
  {
   "cell_type": "code",
   "execution_count": 2,
   "id": "76f2b5d3",
   "metadata": {},
   "outputs": [
    {
     "name": "stdout",
     "output_type": "stream",
     "text": [
      "The multiplication of all elements in a list :  240000\n"
     ]
    }
   ],
   "source": [
    "#Q.Write a Python program to find the multiplication of all elements in a list using loop.\n",
    "#Input:- [10,20,30,40]\n",
    "#Output:- 240000\n",
    "\n",
    "lst = [10,20,30,40]\n",
    "mul = 1\n",
    "\n",
    "for i in range(len(lst)):\n",
    "    mul *= lst[i]\n",
    "print(\"The multiplication of all elements in a list : \", mul)\n"
   ]
  },
  {
   "cell_type": "code",
   "execution_count": 3,
   "id": "8b59c22f",
   "metadata": {},
   "outputs": [
    {
     "name": "stdout",
     "output_type": "stream",
     "text": [
      "The largest number from a list :  2321\n"
     ]
    }
   ],
   "source": [
    "#Q. Write a Python program to find the largest number from a list using loop.\n",
    "#Input:- [10,100,2321, 1,200,2]\n",
    "#Output:- 2321\n",
    "\n",
    "\n",
    "lst = [10, 100, 2321, 1, 200, 2]\n",
    "large = lst[0]\n",
    "\n",
    "for i in range(len(lst)):\n",
    "    if lst[i] > large:\n",
    "        large = lst[i]\n",
    "print(\"The largest number from a list : \", large)"
   ]
  },
  {
   "cell_type": "code",
   "execution_count": 4,
   "id": "6e19dec1",
   "metadata": {},
   "outputs": [
    {
     "name": "stdout",
     "output_type": "stream",
     "text": [
      "The smallest number from a list :  1\n"
     ]
    }
   ],
   "source": [
    "#Q. Write a Python program to find the smallest number from a list using loop.\n",
    "#Input:- [10,100,2321, 1,200,2]\n",
    "#Output:- 1\n",
    "\n",
    "lst = [10, 100, 2321, 1, 200, 2]\n",
    "small = lst[0]\n",
    "\n",
    "for i in range(len(lst)):\n",
    "    if lst[i] < small:\n",
    "        small = lst[i]\n",
    "print(\"The smallest number from a list : \", small)"
   ]
  },
  {
   "cell_type": "code",
   "execution_count": 5,
   "id": "0c948ecc",
   "metadata": {},
   "outputs": [
    {
     "name": "stdout",
     "output_type": "stream",
     "text": [
      "The number of strings having length more than 2 and are palindrome in a list :  2\n"
     ]
    }
   ],
   "source": [
    "#Q. Write a Python program to count the number of strings having length more than 2 and are palindrome in a list using loop.\n",
    "#Input:- ['ab', 'abc', 'aba', 'xyz', '1991']\n",
    "#Output:- 2\n",
    "\n",
    "lst = ['ab', 'abc', 'aba', 'xyz', '1991']\n",
    "count = 0\n",
    "\n",
    "for i in range(len(lst)):\n",
    "    if lst[i] == lst[i][::-1] and len(lst[i]) > 2:\n",
    "        count += 1\n",
    "print(\"The number of strings having length more than 2 and are palindrome in a list : \", count)\n",
    "    \n"
   ]
  },
  {
   "cell_type": "code",
   "execution_count": 6,
   "id": "75fb0f5a",
   "metadata": {},
   "outputs": [
    {
     "name": "stdout",
     "output_type": "stream",
     "text": [
      "Sorting of a list :  [1, 2, 9, 10, 65, 80, 100, 298, 483, 9213, 49876]\n"
     ]
    }
   ],
   "source": [
    "#Q. Write a Python program to sort a list in ascending order using loop.\n",
    "#Input:- [100,10,1,298,65,483,49876,2,80,9,9213]\n",
    "#Output:- [1,2,9,10,65,80,100,298,483,9213,49876]\n",
    "\n",
    "lst = [100,10,1,298,65,483,49876,2,80,9,9213]\n",
    "asc = lst[0]\n",
    "\n",
    "for i in range(len(lst)):\n",
    "    for j in range(len(lst)-i-1):\n",
    "        if lst[j] > lst[j+1]:\n",
    "            lst[j], lst[j+1] = lst[j+1], lst[j]\n",
    "print(\"Sorting of a list : \", lst)"
   ]
  },
  {
   "cell_type": "code",
   "execution_count": 7,
   "id": "2595235c",
   "metadata": {},
   "outputs": [
    {
     "name": "stdout",
     "output_type": "stream",
     "text": [
      "Sorting of a list : [(9, 1), (2, 3), (5, 4), (5, 5), (7, 6), (5, 9)]\n"
     ]
    }
   ],
   "source": [
    "#Q. Write a Python program to get a sorted list in increasing order of last element in each tuple in a given list using loop.\n",
    "#Input:- [(5,4),(9,1),(2,3),(5,9),(7,6),(5,5)]\n",
    "#output:- [(9,1),(2,3),(5,4),(5,5),(7,6),(5,9)]\n",
    "\n",
    "lst = [(5,4),(9,1),(2,3),(5,9),(7,6),(5,5)]\n",
    "\n",
    "for i in range(len(lst)):\n",
    "    for j in range(len(lst)-i-1):\n",
    "        if lst[j][-1] > lst[j+1][-1]:\n",
    "            lst[j], lst[j+1] = lst[j+1], lst[j]\n",
    "print(\"Sorting of a list :\", lst)"
   ]
  },
  {
   "cell_type": "code",
   "execution_count": 8,
   "id": "5511a411",
   "metadata": {},
   "outputs": [
    {
     "name": "stdout",
     "output_type": "stream",
     "text": [
      "[10, 1, 11, 29, 876, 768, 92]\n"
     ]
    }
   ],
   "source": [
    "#Q. Write a Python program to remove duplicate element from a list using loop.\n",
    "#Input:- [10,1,11,1,29,876,768,10,11,1,92,29,876]\n",
    "#Output:- [10,1,11,29,876,768,92]\n",
    "\n",
    "\n",
    "lst = [10,1,11,1,29,876,768,10,11,1,92,29,876]\n",
    "out_lst = []\n",
    "\n",
    "for i in range(len(lst)):\n",
    "    if lst[i] not in out_lst:\n",
    "        out_lst.append(lst[i])\n",
    "print(out_lst)\n",
    "    "
   ]
  },
  {
   "cell_type": "code",
   "execution_count": 9,
   "id": "b6585620",
   "metadata": {},
   "outputs": [
    {
     "name": "stdout",
     "output_type": "stream",
     "text": [
      "Enter a list: [10,20,30]\n",
      "List is not empty\n"
     ]
    }
   ],
   "source": [
    "#Q. Write a Python program to check a list is empty or not?\n",
    "#Input:- []\n",
    "#Output:- List is empty\n",
    "#Input:- [10,20,30]\n",
    "#Output:- List is not empty\n",
    "\n",
    "lst = eval(input('Enter a list: '))\n",
    "\n",
    "if len(lst) == 0:\n",
    "    print('List is empty')\n",
    "else:\n",
    "    print('List is not empty')\n",
    "\n"
   ]
  },
  {
   "cell_type": "code",
   "execution_count": 10,
   "id": "7c0075c5",
   "metadata": {},
   "outputs": [
    {
     "name": "stdout",
     "output_type": "stream",
     "text": [
      "[10, 10.2, (10+20j), 'Python', [10, 20], (10, 20)]\n"
     ]
    }
   ],
   "source": [
    "#Q. Write a Python program to copy a list using loop.\n",
    "#inp_lst = [10,10.20,10+20j, 'Python', [10,20], (10,20)]\n",
    "#out_lst = [10,10.20,10+20j, 'Python', [10,20], (10,20)]\n",
    "\n",
    "lst = [10, 10.20, 10+20j, 'Python', [10,20], (10,20)]\n",
    "out_lst = []\n",
    "\n",
    "for i in lst:\n",
    "    out_lst.append(i)\n",
    "print(out_lst)"
   ]
  },
  {
   "cell_type": "code",
   "execution_count": 11,
   "id": "38d6b030",
   "metadata": {},
   "outputs": [
    {
     "name": "stdout",
     "output_type": "stream",
     "text": [
      "['much', 'wood', 'would', 'woodchuck', 'chuck', 'could']\n"
     ]
    }
   ],
   "source": [
    "#Q.Write a Python program to find the list of words that are longer than or equal to 4 from a given string.\n",
    "#Input:- 'How much wood would a woodchuck chuck if a woodchuck could chuck wood'\n",
    "#Output:- ['much', 'wood', 'would', 'woodchuck', 'chuck', 'could']\n",
    "#Note:- Duplicate should be avoided.\n",
    "\n",
    "my_str = 'How much wood would a woodchuck chuck if a woodchuck could chuck wood'\n",
    "out_lst= []\n",
    "out_str = ''\n",
    "\n",
    "for i in range(len(my_str)):\n",
    "    if my_str[i] == ' ':\n",
    "        if (out_str not in out_lst) and (len(out_str) >= 4):\n",
    "            out_lst.append(out_str)\n",
    "            out_str = ''\n",
    "        else:\n",
    "            out_str = ''\n",
    "    elif i == len(my_str):\n",
    "        out_str += my_str[i]\n",
    "        out_lst.append(out_str)\n",
    "        out_str = ''\n",
    "    else:\n",
    "        out_str += my_str[i]\n",
    "print(out_lst)"
   ]
  },
  {
   "cell_type": "code",
   "execution_count": 12,
   "id": "f2e06049",
   "metadata": {},
   "outputs": [
    {
     "name": "stdout",
     "output_type": "stream",
     "text": [
      "True\n"
     ]
    }
   ],
   "source": [
    "#Q. Write a Python program which takes two list as input and returns True if they have at least 3 common elements.\n",
    "#inp_lst1 = [10,20,'Python', 10.20, 10+20j, [10,20,30], (10,20,30)]\n",
    "#inp_lst2 = [(10,20,30),1,20+3j,100.2, 10+20j, [10,20,30],'Python']\n",
    "#Output:- True\n",
    "\n",
    "lst1 = [10,20,'Python', 10.20, 10+20j, [10,20,30], (10,20,30)]\n",
    "lst2 = [(10,20,30),1,20+3j,100.2, 10+20j, [10,20,30],'Python']\n",
    "count = 0\n",
    "for i in lst1:\n",
    "    if i in lst2:\n",
    "        count += 1\n",
    "if count >= 3:\n",
    "    print(True)"
   ]
  },
  {
   "cell_type": "code",
   "execution_count": 13,
   "id": "cd03cb44",
   "metadata": {},
   "outputs": [
    {
     "data": {
      "text/plain": [
       "[[0, 0, 0, 0], [0, 1, 2, 3], [0, 2, 4, 6], [0, 3, 6, 9]]"
      ]
     },
     "execution_count": 13,
     "metadata": {},
     "output_type": "execute_result"
    }
   ],
   "source": [
    "#Q. Write a Python program to create a 4X4 2D matrix with below elements using loop and list comprehension both.\n",
    "#Output:- [[0,0,0,0],[0,1,2,3],[0,2,4,6],[0,3,6,9]]\n",
    "\n",
    "#Using for loop\n",
    "\n",
    "# out_lst = []\n",
    "# for i in range(4):\n",
    "#     in_lst = []\n",
    "#     for j in range(4):\n",
    "#         in_lst.append(i*j)\n",
    "#     out_lst.append(in_lst)\n",
    "# print(out_lst)\n",
    "\n",
    "#using loop comprehension\n",
    "[[i*j for j in range(4)]for i in range(4)]\n"
   ]
  },
  {
   "cell_type": "code",
   "execution_count": 14,
   "id": "4ba79631",
   "metadata": {},
   "outputs": [
    {
     "data": {
      "text/plain": [
       "[[[0, 0, 0, 0, 0, 0],\n",
       "  [0, 0, 0, 0, 0, 0],\n",
       "  [0, 0, 0, 0, 0, 0],\n",
       "  [0, 0, 0, 0, 0, 0]],\n",
       " [[0, 0, 0, 0, 0, 0],\n",
       "  [1, 1, 1, 1, 1, 1],\n",
       "  [2, 2, 2, 2, 2, 2],\n",
       "  [3, 3, 3, 3, 3, 3]],\n",
       " [[0, 0, 0, 0, 0, 0],\n",
       "  [2, 2, 2, 2, 2, 2],\n",
       "  [4, 4, 4, 4, 4, 4],\n",
       "  [6, 6, 6, 6, 6, 6]]]"
      ]
     },
     "execution_count": 14,
     "metadata": {},
     "output_type": "execute_result"
    }
   ],
   "source": [
    "#Q. Write a Python program to create a 3X4X6 3D matrix wiith below elements using loop\n",
    "#Output:- \n",
    "# [\n",
    "#     [[0,0,0,0,0,0],[0,0,0,0,0,0],[0,0,0,0,0,0],[0,0,0,0,0,0]],\n",
    "#     [[0,0,0,0,0,0],[1,1,1,1,1,1],[2,2,2,2,2,2],[3,3,3,3,3,3]],\n",
    "#     [[0,0,0,0,0,0],[2,2,2,2,2,2],[4,4,4,4,4,4],[6,6,6,6,6,6]]\n",
    "# ]\n",
    "\n",
    "# Using for loop\n",
    "# out_lst = []\n",
    "# for i in range(3):\n",
    "#     in_lst1 = []\n",
    "#     for j in range(4):\n",
    "#         in_lst2 =[]\n",
    "#         for k in range(6):\n",
    "#             in_lst2.append(i*j)\n",
    "#         in_lst1.append(in_lst2)\n",
    "#     out_lst.append(in_lst1)\n",
    "# print(out_lst)\n",
    "\n",
    "# using loop comprehension\n",
    "[[[i*j for k in range(6)]for j in range(4)]for i in range(3)]"
   ]
  },
  {
   "cell_type": "code",
   "execution_count": 15,
   "id": "564e33cf",
   "metadata": {},
   "outputs": [
    {
     "name": "stdout",
     "output_type": "stream",
     "text": [
      "[21, 87, 45, 33, 1]\n"
     ]
    }
   ],
   "source": [
    "#Q. Write a Python program which takes a list of numbers as input and prints a new list after removing even numbers from it.\n",
    "#Input:- [10,21,22,98,87,45,33,1,2,100]\n",
    "#Output:- [21,87,45,33,1]\n",
    "\n",
    "#Using for loop\n",
    "lst = [10,21,22,98,87,45,33,1,2,100]\n",
    "out_lst = []\n",
    "for i in lst:\n",
    "    if i % 2 != 0:\n",
    "        out_lst.append(i)\n",
    "print(out_lst)"
   ]
  },
  {
   "cell_type": "code",
   "execution_count": 16,
   "id": "00a07afc",
   "metadata": {},
   "outputs": [
    {
     "name": "stdout",
     "output_type": "stream",
     "text": [
      "Enter a List : [10,21,22,98,87,45,33,1,2,100]\n",
      "[45, 22, 87, 2, 33, 10, 98, 100, 1, 21]\n"
     ]
    }
   ],
   "source": [
    "#Q. Write a Python program which takes a list from the user and prints it after reshuffling the elements of the list.\n",
    "#Input:- [10,21,22,98,87,45,33,1,2,100]\n",
    "#Output:- [1,87,21,10,33,2,100,45,98,22] (It may be any random list but with same elements)\n",
    "\n",
    "import random\n",
    "\n",
    "lst = eval(input(\"Enter a List : \"))\n",
    "random.shuffle(lst)\n",
    "print(lst)"
   ]
  },
  {
   "cell_type": "code",
   "execution_count": null,
   "id": "36830488",
   "metadata": {},
   "outputs": [],
   "source": []
  }
 ],
 "metadata": {
  "kernelspec": {
   "display_name": "Python 3",
   "language": "python",
   "name": "python3"
  },
  "language_info": {
   "codemirror_mode": {
    "name": "ipython",
    "version": 3
   },
   "file_extension": ".py",
   "mimetype": "text/x-python",
   "name": "python",
   "nbconvert_exporter": "python",
   "pygments_lexer": "ipython3",
   "version": "3.8.8"
  }
 },
 "nbformat": 4,
 "nbformat_minor": 5
}
