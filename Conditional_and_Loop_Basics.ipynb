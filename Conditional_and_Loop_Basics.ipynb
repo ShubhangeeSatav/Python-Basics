{
 "cells": [
  {
   "cell_type": "markdown",
   "id": "20233c2c",
   "metadata": {},
   "source": [
    "# If - elif - else statement"
   ]
  },
  {
   "cell_type": "code",
   "execution_count": 1,
   "id": "ca8cdb55",
   "metadata": {},
   "outputs": [
    {
     "name": "stdout",
     "output_type": "stream",
     "text": [
      "Enter any number : 2\n",
      "Two\n"
     ]
    }
   ],
   "source": [
    "# Q. W. A P. which takes one number from 0 to 9 from the user and prints it in the word. And if the word is not from 0 to 9 then\n",
    "#it should print that number is outside of the range and program should exit.\n",
    "# For exapmple:- \n",
    "# input = 1\n",
    "# output = one\n",
    "\n",
    "num = int(input('Enter any number : '))\n",
    "\n",
    "if num == 0:\n",
    "    print(\"Zero\")\n",
    "if num == 1:\n",
    "    print(\"one\")\n",
    "elif num == 2:\n",
    "    print(\"Two\")\n",
    "elif num == 3:\n",
    "    print(\"Three\")\n",
    "elif num == 4:\n",
    "    print(\"Four\")\n",
    "elif num == 5:\n",
    "    print(\"Five\")\n",
    "elif num == 6:\n",
    "    print(\"six\")\n",
    "elif num == 7:\n",
    "    print(\"Seven\")\n",
    "elif num == 8:\n",
    "    print(\"Eight\")\n",
    "elif num == 9:\n",
    "    print(\"Nine\")\n",
    "elif num > 9:\n",
    "    print(\"Number is Outside of the range\")"
   ]
  },
  {
   "cell_type": "code",
   "execution_count": 2,
   "id": "500e1b67",
   "metadata": {},
   "outputs": [
    {
     "name": "stdout",
     "output_type": "stream",
     "text": [
      "Enter First Number : 10\n",
      "Enter Second Number : 20\n",
      "\n",
      "Please select any one operation from below:-\n",
      "\n",
      "For Addition Enter 1\n",
      "For Substration Enter 2\n",
      "For Multiplication Enter 3\n",
      "For Division Enter 4\n",
      "For Quotient Enter 5\n",
      "For Divide and find Remainder Enter 6\n",
      "For Divide and find num1 to the Power of num2 Enter 7\n",
      "To Come out of the program Enter 8\n",
      "\n",
      "Please select any one operation : 1\n",
      "\n",
      "Addition of 10 and 20 is : 30 \n"
     ]
    }
   ],
   "source": [
    "# Q. W. A P. to implement calculator but the operation to be done and two numbers will be taken as input from user:-\n",
    "# Operation console should show below:-\n",
    "#     Please select any one operation from below:-\n",
    "#         * To add enter 1\n",
    "#         * to subtract enter 2\n",
    "#         * To multiply enter 3\n",
    "#         * To divide enter 4\n",
    "#         * To divide and find quotient enter 5\n",
    "#         * To divide and find remainder enter 6\n",
    "#         * To divide and find num1 to the power of num2 enter 7\n",
    "#         * To Come out of the program enter 8\n",
    "\n",
    "\n",
    "num1 = int(input('Enter First Number : '))\n",
    "num2 = int(input('Enter Second Number : '))\n",
    "\n",
    "print(\"\\nPlease select any one operation from below:-\")\n",
    "print(\"\\nFor Addition Enter 1\")\n",
    "print(\"For Substration Enter 2\")\n",
    "print(\"For Multiplication Enter 3\")\n",
    "print(\"For Division Enter 4\")\n",
    "print(\"For Quotient Enter 5\")\n",
    "print(\"For Divide and find Remainder Enter 6\")\n",
    "print(\"For Divide and find num1 to the Power of num2 Enter 7\")\n",
    "print(\"To Come out of the program Enter 8\\n\")\n",
    "oper = int(input('Please select any one operation : '))\n",
    "\n",
    "if oper == 1:\n",
    "    add = num1 + num2\n",
    "    print(\"\\nAddition of {} and {} is : {} \".format(num1, num2, add))\n",
    "elif oper == 2:\n",
    "    sub = num1 - num2\n",
    "    print(\"\\nSubtration of {} and {} is : {} \".format(num1, num2, sub))\n",
    "elif oper == 3:\n",
    "    mul = num1 * num2\n",
    "    print(\"\\nMultiplication of {} and {} is : {} \".format(num1, num2, mul))\n",
    "elif oper == 4:\n",
    "    div = num1 / num2\n",
    "    print(\"\\nDivision of {} and {} is : {} \".format(num1, num2, div))\n",
    "elif oper == 5:\n",
    "    qunt = num1 // num2\n",
    "    print(\"\\nQuotient of {} and {} is : {} \".format(num1, num2, qunt))\n",
    "elif oper == 6:\n",
    "    rem = num1 % num2\n",
    "    print(\"\\nRemainder of {} and {} is : {} \".format(num1, num2, rem))\n",
    "elif oper == 7:\n",
    "    power = num2 ** num1\n",
    "    print(\"\\n{} to the Power of {} is : {} \".format(num1, num2, power))\n",
    "elif oper == 8:\n",
    "    print(\"\\nSorry No output given. No operation selected.\")\n"
   ]
  },
  {
   "cell_type": "code",
   "execution_count": 3,
   "id": "b2303080",
   "metadata": {},
   "outputs": [
    {
     "name": "stdout",
     "output_type": "stream",
     "text": [
      "Enter an year: 2012\n",
      "Year is Leap Year\n"
     ]
    }
   ],
   "source": [
    "# Q. W A P to check whether a year entered by user is an leap year or not?\n",
    "#Check with below input:-\n",
    "    #leap year:- 2012, 1968, 2004, 1200, 1600,2400\n",
    "    #Non-lear year:- 1971, 2006, 1700,1800,1900\n",
    "    \n",
    "\n",
    "year = int(input('Enter an year: '))\n",
    "if year%4 == 0:\n",
    "    if year%100 == 0:\n",
    "        if year%400 == 0:\n",
    "            print('Year is Leap Year')\n",
    "        else:\n",
    "            print('Year is not a leap Year')\n",
    "    else:\n",
    "        print('Year is Leap Year')\n",
    "else:\n",
    "    print('Year is not a leap year')"
   ]
  },
  {
   "cell_type": "code",
   "execution_count": 4,
   "id": "931f0922",
   "metadata": {},
   "outputs": [
    {
     "name": "stdout",
     "output_type": "stream",
     "text": [
      "Enter a number : 12\n",
      "12 is Even number \n"
     ]
    }
   ],
   "source": [
    "# Q. W A P which takes one number from the user and checks whether it is an even or odd number?, If it even then prints number is \n",
    "#even number else prints that number is odd number.\n",
    "\n",
    "num = int(input('Enter a number : '))\n",
    "\n",
    "if num % 2 == 0:\n",
    "    print(\"{0} is Even number \".format(num))\n",
    "else:\n",
    "    print(\"{0} is Odd number \".format(num))"
   ]
  },
  {
   "cell_type": "code",
   "execution_count": 5,
   "id": "99ab5527",
   "metadata": {},
   "outputs": [
    {
     "name": "stdout",
     "output_type": "stream",
     "text": [
      "Enter First Number : 5\n",
      "Enter Second Number : 7\n",
      "\n",
      "5 is smaller than 7\n"
     ]
    }
   ],
   "source": [
    "# Q. W A P which takes two numbers from the user and prints below output:-\n",
    "#     1. num1 is greater than num2 if num1 is greater than num2\n",
    "#     2. num1 is smaller than num2 if num1 is smaller than num2\n",
    "#     3. num1 is equal to num2 if num1 and num2 are equal\n",
    "\n",
    "#Note:- 1. Do this problem using if - else \n",
    "#       2. Do this using ternary operator\n",
    "\n",
    "\n",
    "num1 = int(input(\"Enter First Number : \"))\n",
    "num2 = int(input(\"Enter Second Number : \"))\n",
    "\n",
    "print(\"\\n{} is greater than {}\".format(num1, num2)) if num1 > num2 else print(\"\\n{} is equal to {}\".format(num1, num2)) if num1 == num2 else print(\"\\n{} is smaller than {}\".format(num1, num2))"
   ]
  },
  {
   "cell_type": "code",
   "execution_count": 6,
   "id": "2a26462c",
   "metadata": {},
   "outputs": [
    {
     "name": "stdout",
     "output_type": "stream",
     "text": [
      "Enter First Number : 9\n",
      "Enter Second Number : 6\n",
      "Enter Third Number : 3\n",
      "\n",
      "9 is greater than 6 and 3\n"
     ]
    }
   ],
   "source": [
    "# Q. W A P which takes three numbers from the user and prints below output:-\n",
    "#     1. num1 is greater than num2 and num3 if num1 is greater than num2 and num3\n",
    "#     2. num2 is greater than num1 and num3 if num2 is greater than num1 and num3\n",
    "#     3. num3 is greater than num1 and num2 if num3 is greater than num1 and num2\n",
    "\n",
    "#Note:- 1. Do this problem using if - elif - else \n",
    "#       2. Do this using ternary operator\n",
    "\n",
    "# a = a if a>b else b\n",
    "\n",
    "\n",
    "num1 = int(input(\"Enter First Number : \"))\n",
    "num2 = int(input(\"Enter Second Number : \"))\n",
    "num3 = int(input(\"Enter Third Number : \"))\n",
    "\n",
    "if num1 > num2 and num1 > num3:\n",
    "    print(\"\\n{} is greater than {} and {}\".format(num1, num2, num3))\n",
    "elif num2 > num1 and num2 > num3:\n",
    "    print(\"\\n{} is greater than {} and {}\".format(num2, num1, num3))\n",
    "elif num3 > num1 and num3 > num2:\n",
    "    print(\"\\n{} is greater than {} and {}\".format(num3, num1, num2))"
   ]
  },
  {
   "cell_type": "markdown",
   "id": "e168e098",
   "metadata": {},
   "source": [
    "# Loops - for loop, while loop"
   ]
  },
  {
   "cell_type": "code",
   "execution_count": 7,
   "id": "0ac25243",
   "metadata": {},
   "outputs": [
    {
     "name": "stdout",
     "output_type": "stream",
     "text": [
      "55\n"
     ]
    }
   ],
   "source": [
    "# Q. Write a Python program to find the length of the my_str using loop:-\n",
    "\n",
    "#Input:- 'Write a Python program to find the length of the my_str'\n",
    "#Output:- 55\n",
    "\n",
    "my_str = \"Write a Python program to find the length of the my_str\"\n",
    "count = 0\n",
    "for i in my_str:\n",
    "    count += 1\n",
    "print(count)"
   ]
  },
  {
   "cell_type": "code",
   "execution_count": 8,
   "id": "3d8c794b",
   "metadata": {},
   "outputs": [
    {
     "name": "stdout",
     "output_type": "stream",
     "text": [
      "9\n"
     ]
    }
   ],
   "source": [
    "# Q. Write a Python program to find the total number of times letter 'p' is appeared in the below string using loop:-\n",
    "    \n",
    "#Input:- 'peter piper picked a peck of pickled peppers.\\n'\n",
    "#Output:- 9\n",
    "\n",
    "my_str = \"peter piper picked a peck of pickled peppers.\\n\"\n",
    "count = 0\n",
    "for i in my_str:\n",
    "    if i == 'p':\n",
    "        count += 1\n",
    "print(count)    "
   ]
  },
  {
   "cell_type": "code",
   "execution_count": 9,
   "id": "28d880ee",
   "metadata": {},
   "outputs": [
    {
     "name": "stdout",
     "output_type": "stream",
     "text": [
      "0\n",
      "6\n",
      "8\n",
      "12\n",
      "21\n",
      "29\n",
      "37\n",
      "39\n",
      "40\n"
     ]
    }
   ],
   "source": [
    "# Q. Write a Python Program, to print all the indexes of all occurences of letter 'p' appeared in the string using loop:-\n",
    "    \n",
    "#Input:- 'peter piper picked a peck of pickled peppers.'\n",
    "#Output:- \n",
    "# 0\n",
    "# 6\n",
    "# 8\n",
    "# 12\n",
    "# 21\n",
    "# 29\n",
    "# 37\n",
    "# 39\n",
    "# 40\n",
    "\n",
    "my_str = \"peter piper picked a peck of pickled peppers.\"\n",
    "\n",
    "for i in range(len(my_str)):\n",
    "    if my_str[i] == 'p':\n",
    "        print(my_str.index('p', i))"
   ]
  },
  {
   "cell_type": "code",
   "execution_count": 10,
   "id": "e3ba0bb1",
   "metadata": {},
   "outputs": [
    {
     "name": "stdout",
     "output_type": "stream",
     "text": [
      "['peter', 'piper', 'picked', 'a', 'peck', 'of', 'pickled', 'peppers.']\n"
     ]
    }
   ],
   "source": [
    "# Q. Write a python program to find below output using loop:-\n",
    "\n",
    "#Input:- 'peter piper picked a peck of pickled peppers.'\n",
    "#Output:- ['peter', 'piper', 'picked', 'a', 'peck', 'of', 'pickled', 'peppers']\n",
    "\n",
    "my_str = \"peter piper picked a peck of pickled peppers.\"\n",
    "out_lst = []\n",
    "out_word = ''\n",
    "for i in range(len(my_str)):\n",
    "    if my_str[i] == ' ':\n",
    "        out_lst += [out_word]\n",
    "        out_word = ''\n",
    "    elif i == len(my_str)-1:\n",
    "        out_word += my_str[i]\n",
    "        out_lst += [out_word]\n",
    "    else:\n",
    "        out_word += my_str[i]\n",
    "print(out_lst)"
   ]
  },
  {
   "cell_type": "code",
   "execution_count": 11,
   "id": "6d53f4b0",
   "metadata": {},
   "outputs": [
    {
     "name": "stdout",
     "output_type": "stream",
     "text": [
      "peppers pickled of peck a picked piper peter\n"
     ]
    }
   ],
   "source": [
    "# Q. Write a python program to find below output using loop:-\n",
    "\n",
    "#Input:- 'peter piper picked a peck of pickled peppers.'\n",
    "#Output:- 'peppers pickled of peck a picked piper peter'\n",
    "\n",
    "\n",
    "my_str = 'peter piper picked a peck of pickled peppers'\n",
    "splt_str = ''\n",
    "rev_str = ''\n",
    "join_str = ''\n",
    "for i in range(len(my_str)):\n",
    "    if my_str[i] == ' ':\n",
    "        splt_str = my_str.split()\n",
    "        rev_str = splt_str[::-1]\n",
    "        join_str = ' '.join(rev_str)\n",
    "        print(join_str)\n",
    "        break"
   ]
  },
  {
   "cell_type": "code",
   "execution_count": 12,
   "id": "ec70c60a",
   "metadata": {},
   "outputs": [
    {
     "name": "stdout",
     "output_type": "stream",
     "text": [
      ".sreppep delkcip fo kcep a dekcip repip retep\n"
     ]
    }
   ],
   "source": [
    "# Q. Write a python program to find below output using loop:-\n",
    "\n",
    "#Input:- 'peter piper picked a peck of pickled peppers.'\n",
    "#Output:- '.sreppep delkcip fo kcep a dekcip repip retep'\n",
    "\n",
    "my_str = 'peter piper picked a peck of pickled peppers.'\n",
    "rev_str = ''\n",
    "for i in range(len(my_str)):\n",
    "    if my_str[i] == ' ':\n",
    "        rev_str = my_str[::-1]\n",
    "        print(rev_str)\n",
    "        break"
   ]
  },
  {
   "cell_type": "code",
   "execution_count": 13,
   "id": "67b24648",
   "metadata": {},
   "outputs": [
    {
     "name": "stdout",
     "output_type": "stream",
     "text": [
      "retep repip dekcip a kcep fo delkcip sreppep\n"
     ]
    }
   ],
   "source": [
    "# Q. Write a python program to find below output using loop:-\n",
    "\n",
    "#Input:- 'peter piper picked a peck of pickled peppers'\n",
    "#Output:- 'retep repip dekcip a kcep fo delkcip sreppep'\n",
    "\n",
    "my_str = 'peter piper picked a peck of pickled peppers'\n",
    "\n",
    "rev_str = ''\n",
    "splt_str = ''\n",
    "rev_str2 = ''\n",
    "join_str = ''\n",
    "for i in range(len(my_str)):\n",
    "    if my_str[i] == ' ':\n",
    "        rev_str = my_str[::-1]\n",
    "        slp_str = rev_str.split()\n",
    "        rev_str2 = slp_str[::-1]\n",
    "        join_str = ' '.join(rev_str2)\n",
    "        print(join_str)\n",
    "        break"
   ]
  },
  {
   "cell_type": "code",
   "execution_count": 14,
   "id": "7a0bb156",
   "metadata": {},
   "outputs": [
    {
     "name": "stdout",
     "output_type": "stream",
     "text": [
      "Peter Piper Picked A Peck Of Pickled Peppers.\n"
     ]
    }
   ],
   "source": [
    "# Q. Write a python program to find below output using loop:-\n",
    "\n",
    "#Input:- 'peter piper picked a peck of pickled peppers.'\n",
    "#Output:- 'Peter Piper Picked A Peck Of Pickled Peppers'\n",
    "\n",
    "my_str = 'peter piper picked a peck of pickled peppers.'\n",
    "\n",
    "for i in range(len(my_str)):\n",
    "    if my_str[i] == ' ':\n",
    "        titl = my_str.title()\n",
    "        print(titl)\n",
    "        break"
   ]
  },
  {
   "cell_type": "code",
   "execution_count": 15,
   "id": "4bf49a15",
   "metadata": {},
   "outputs": [
    {
     "name": "stdout",
     "output_type": "stream",
     "text": [
      "Peter piper picked a peck of pickled peppers.\n"
     ]
    }
   ],
   "source": [
    "# Q. Write a python program to find below output using loop:-\n",
    "\n",
    "#Input:- 'Peter Piper Picked A Peck Of Pickled Peppers.'\n",
    "#Output:- 'Peter piper picked a peck of pickled peppers'\n",
    "\n",
    "my_str = 'peter piper picked a peck of pickled peppers.'\n",
    "\n",
    "for i in range(len(my_str)):\n",
    "    if my_str[i] == ' ':\n",
    "        cap = my_str.capitalize()\n",
    "        print(cap)\n",
    "        break"
   ]
  },
  {
   "cell_type": "code",
   "execution_count": 16,
   "id": "de4e38c3",
   "metadata": {},
   "outputs": [
    {
     "name": "stdout",
     "output_type": "stream",
     "text": [
      "29\n"
     ]
    }
   ],
   "source": [
    "# Q.Write a python program to implement index method using loop. If sub_str is found in my_str then it will print the index\n",
    "# of first occurrence of first character of matching string in my_str:-\n",
    "\n",
    "#Input:- my_str = 'Peter Piper Picked A Peck Of Pickled Peppers.', sub_str = 'Pickl'\n",
    "#Output:- 29\n",
    "\n",
    "my_str = 'Peter Piper Picked A Peck Of Pickled Peppers.'\n",
    "sub_str = 'Pickl'\n",
    "new_str = ''\n",
    "j = 0\n",
    "for i in range(len(my_str)):\n",
    "    if my_str[i] == sub_str[j]:\n",
    "        new_str += my_str[i]\n",
    "        j += 1\n",
    "        if new_str == sub_str:\n",
    "            print(i-len(sub_str)+1)\n",
    "            break\n",
    "    elif i == len(my_str) - 1:\n",
    "        print('Not Found')\n",
    "    else:\n",
    "        new_str = ''\n",
    "        j = 0"
   ]
  },
  {
   "cell_type": "code",
   "execution_count": 17,
   "id": "65f9115b",
   "metadata": {},
   "outputs": [
    {
     "name": "stdout",
     "output_type": "stream",
     "text": [
      "Peter Piper Picked A Pack Of Pickled Peppers.\n"
     ]
    }
   ],
   "source": [
    "# Q. Write a python program to implement replace method using loop. If sub_str is found in my_str then it will replace the first \n",
    "#occurrence of sub_str with new_str else it will will print sub_str not found:-\n",
    "\n",
    "#Input:- my_str = 'Peter Piper Picked A Peck Of Pickled Peppers.', sub_str = 'Peck', new_str = 'Pack'\n",
    "#Output:- 'Peter Piper Picked A Pack Of Pickled Peppers.'\n",
    "\n",
    "my_str = 'Peter Piper Picked A Peck Of Pickled Peppers.'\n",
    "sub_str = 'Peck'\n",
    "new_str = 'Pack'\n",
    "rep_str = ''\n",
    "for i in range(len(my_str)):\n",
    "    if sub_str in my_str:\n",
    "        rep_str = my_str.replace(sub_str, new_str)\n",
    "        print(rep_str)\n",
    "        break"
   ]
  },
  {
   "cell_type": "code",
   "execution_count": 18,
   "id": "af4d3dc6",
   "metadata": {},
   "outputs": [
    {
     "name": "stdout",
     "output_type": "stream",
     "text": [
      "*********************Peck*********************\n"
     ]
    }
   ],
   "source": [
    "# Q. Write a python program to find below output (implements rjust and ljust) using loop:-\n",
    "\n",
    "#Input:- 'Peter Piper Picked A Peck Of Pickled Peppers.', sub_str = 'Peck', \n",
    "#Output:- '*********************Peck********************'\n",
    "\n",
    "\n",
    "my_str = 'Peter Piper Picked A Peck Of Pickled Peppers.'\n",
    "sub_str = 'Peck'\n",
    "new_str = ''\n",
    "new_str1 = ''\n",
    "new_str2 = ''\n",
    "first_str = ''\n",
    "last_str = ''\n",
    "for i in range(len(my_str)):\n",
    "    if sub_str in my_str:  \n",
    "        indx = my_str.index(sub_str)\n",
    "        first_str = len(my_str)-(indx)\n",
    "        last_str = len(my_str[indx:len(my_str)])\n",
    "        new_str = sub_str.rjust(first_str, '*')\n",
    "        new_str = new_str.replace('Peck','*')\n",
    "        new_str1 = sub_str.ljust(last_str, '*')\n",
    "        new_str1 = new_str1.replace('Peck','*')\n",
    "        new_str2 = new_str + sub_str + new_str1\n",
    "        print(new_str2)\n",
    "        break"
   ]
  },
  {
   "cell_type": "code",
   "execution_count": 19,
   "id": "e3aa0f0f",
   "metadata": {},
   "outputs": [
    {
     "name": "stdout",
     "output_type": "stream",
     "text": [
      "['This', 'is', 'Python class']\n"
     ]
    }
   ],
   "source": [
    "# Q. Write a python program to find below output using loop:-\n",
    "\n",
    "#Input:- 'This is Python class', sep = ' is', \n",
    "#Output:- ['This', 'is', 'Python class']\n",
    "\n",
    "my_str = 'This is Python class'\n",
    "sep = 'is'\n",
    "f_str = ''\n",
    "l_str = ''\n",
    "lst = []\n",
    "for i in range(len(my_str)):\n",
    "    if sep in my_str:\n",
    "        ind = my_str.index('is')\n",
    "        f_str = my_str[i:ind+2]\n",
    "        l_str = my_str[ind+6:len(my_str)]\n",
    "        lst.append(f_str)\n",
    "        lst.append(sep)\n",
    "        lst.append(l_str)\n",
    "        print(lst)\n",
    "        break"
   ]
  },
  {
   "cell_type": "code",
   "execution_count": null,
   "id": "0c4c34a0",
   "metadata": {},
   "outputs": [],
   "source": []
  }
 ],
 "metadata": {
  "kernelspec": {
   "display_name": "Python 3",
   "language": "python",
   "name": "python3"
  },
  "language_info": {
   "codemirror_mode": {
    "name": "ipython",
    "version": 3
   },
   "file_extension": ".py",
   "mimetype": "text/x-python",
   "name": "python",
   "nbconvert_exporter": "python",
   "pygments_lexer": "ipython3",
   "version": "3.8.8"
  }
 },
 "nbformat": 4,
 "nbformat_minor": 5
}
