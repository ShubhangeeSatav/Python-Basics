{
 "cells": [
  {
   "cell_type": "code",
   "execution_count": 1,
   "id": "4bff3a37",
   "metadata": {},
   "outputs": [
    {
     "name": "stdout",
     "output_type": "stream",
     "text": [
      "Value of my_str = Python class\n",
      "Type of my_str = <class 'str'>\n",
      "Memory location of my_str = 1519728926128\n"
     ]
    }
   ],
   "source": [
    "# Q. Declare a string and store it in a variable. Check the type and print the id of the same.\n",
    "\n",
    "my_str = 'Python class'\n",
    "\n",
    "print(\"Value of my_str =\", my_str)\n",
    "print(\"Type of my_str =\", type(my_str))\n",
    "print(\"Memory location of my_str =\", id(my_str))"
   ]
  },
  {
   "cell_type": "code",
   "execution_count": 2,
   "id": "180bb948",
   "metadata": {},
   "outputs": [
    {
     "name": "stdout",
     "output_type": "stream",
     "text": [
      "This is Python class\n"
     ]
    }
   ],
   "source": [
    "my_str = 'This is Python class'\n",
    "\n",
    "print(my_str)\n",
    "\n",
    "# This is Valid string."
   ]
  },
  {
   "cell_type": "code",
   "execution_count": 3,
   "id": "cfbe8b88",
   "metadata": {},
   "outputs": [
    {
     "name": "stdout",
     "output_type": "stream",
     "text": [
      "This is Python class\n"
     ]
    }
   ],
   "source": [
    "my_str = \"This is Python class\"\n",
    "\n",
    "print(my_str)\n",
    "\n",
    "# This is Valid string."
   ]
  },
  {
   "cell_type": "code",
   "execution_count": 4,
   "id": "9f808178",
   "metadata": {},
   "outputs": [
    {
     "name": "stdout",
     "output_type": "stream",
     "text": [
      "This is Python class\n"
     ]
    }
   ],
   "source": [
    "my_str = '''This is Python class'''\n",
    "\n",
    "print(my_str)\n",
    "\n",
    "# This is Valid string."
   ]
  },
  {
   "cell_type": "code",
   "execution_count": 5,
   "id": "034ae129",
   "metadata": {},
   "outputs": [
    {
     "name": "stdout",
     "output_type": "stream",
     "text": [
      "This is Python class\n"
     ]
    }
   ],
   "source": [
    "my_str = \"\"\"This is Python class\"\"\"\n",
    "\n",
    "print(my_str)\n",
    "\n",
    "# This is Valid string."
   ]
  },
  {
   "cell_type": "code",
   "execution_count": 6,
   "id": "f64d3fdd",
   "metadata": {},
   "outputs": [
    {
     "ename": "SyntaxError",
     "evalue": "invalid syntax (<ipython-input-6-43a831586807>, line 1)",
     "output_type": "error",
     "traceback": [
      "\u001b[1;36m  File \u001b[1;32m\"<ipython-input-6-43a831586807>\"\u001b[1;36m, line \u001b[1;32m1\u001b[0m\n\u001b[1;33m    my_str = 'This is Python's class'\u001b[0m\n\u001b[1;37m                             ^\u001b[0m\n\u001b[1;31mSyntaxError\u001b[0m\u001b[1;31m:\u001b[0m invalid syntax\n"
     ]
    }
   ],
   "source": [
    "my_str = 'This is Python's class'\n",
    "\n",
    "print(my_str)\n",
    "\n",
    "# This is invalid string.\n",
    "# correct string is - 'This is Python\\'s class'"
   ]
  },
  {
   "cell_type": "code",
   "execution_count": 7,
   "id": "6cdbc8c2",
   "metadata": {},
   "outputs": [
    {
     "ename": "SyntaxError",
     "evalue": "invalid syntax (<ipython-input-7-a798ac47e5fa>, line 1)",
     "output_type": "error",
     "traceback": [
      "\u001b[1;36m  File \u001b[1;32m\"<ipython-input-7-a798ac47e5fa>\"\u001b[1;36m, line \u001b[1;32m1\u001b[0m\n\u001b[1;33m    my_str = \"Learnbay provides \"Java\", \"Python\" classes\"\u001b[0m\n\u001b[1;37m                                 ^\u001b[0m\n\u001b[1;31mSyntaxError\u001b[0m\u001b[1;31m:\u001b[0m invalid syntax\n"
     ]
    }
   ],
   "source": [
    "my_str = \"Learnbay provides \"Java\", \"Python\" classes\"\n",
    "\n",
    "print(my_str)\n",
    "\n",
    "# This is invalid string.\n",
    "# correct string is - \"Learnbay provides \\\"Java\\\", \\\"Python\\\" classes\""
   ]
  },
  {
   "cell_type": "code",
   "execution_count": 8,
   "id": "c78d5ed6",
   "metadata": {},
   "outputs": [
    {
     "name": "stdout",
     "output_type": "stream",
     "text": [
      "Learnbay provides 'Java', 'Python' classes\n"
     ]
    }
   ],
   "source": [
    "my_str = \"Learnbay provides 'Java', 'Python' classes\"\n",
    "\n",
    "print(my_str)\n",
    "\n",
    "# This is valid string."
   ]
  },
  {
   "cell_type": "code",
   "execution_count": 9,
   "id": "4b0bf1d2",
   "metadata": {},
   "outputs": [
    {
     "name": "stdout",
     "output_type": "stream",
     "text": [
      "This is Python's class\n"
     ]
    }
   ],
   "source": [
    "my_str = \"This is Python's class\"\n",
    "\n",
    "print(my_str)\n",
    "\n",
    "# This is valid string."
   ]
  },
  {
   "cell_type": "code",
   "execution_count": 10,
   "id": "e61320f8",
   "metadata": {},
   "outputs": [
    {
     "name": "stdout",
     "output_type": "stream",
     "text": [
      "Learnbay provides \"Java\", \"Python\" classes\n"
     ]
    }
   ],
   "source": [
    "my_str = \"\"\"Learnbay provides \"Java\", \"Python\" classes\"\"\"\n",
    "\n",
    "print(my_str)\n",
    "\n",
    "# This is valid string."
   ]
  },
  {
   "cell_type": "code",
   "execution_count": 11,
   "id": "020f787f",
   "metadata": {},
   "outputs": [
    {
     "name": "stdout",
     "output_type": "stream",
     "text": [
      "Learnbay provides \"Java\", \"Python\" classes\n"
     ]
    }
   ],
   "source": [
    "my_str = '''Learnbay provides \"Java\", \"Python\" classes'''\n",
    "\n",
    "print(my_str)\n",
    "\n",
    "# This is valid string."
   ]
  },
  {
   "cell_type": "code",
   "execution_count": 12,
   "id": "bf6f094f",
   "metadata": {},
   "outputs": [
    {
     "name": "stdout",
     "output_type": "stream",
     "text": [
      "Learnbay provides\n",
      "\"Java\", \"Python\" \n",
      "classes\n"
     ]
    }
   ],
   "source": [
    "my_str = '''Learnbay provides\n",
    "\"Java\", \"Python\" \n",
    "classes'''\n",
    "\n",
    "print(my_str)\n",
    "\n",
    "# This is valid string."
   ]
  },
  {
   "cell_type": "code",
   "execution_count": 13,
   "id": "bb01ce53",
   "metadata": {},
   "outputs": [
    {
     "ename": "SyntaxError",
     "evalue": "EOL while scanning string literal (<ipython-input-13-a09a9807101c>, line 1)",
     "output_type": "error",
     "traceback": [
      "\u001b[1;36m  File \u001b[1;32m\"<ipython-input-13-a09a9807101c>\"\u001b[1;36m, line \u001b[1;32m1\u001b[0m\n\u001b[1;33m    my_str = 'This is\u001b[0m\n\u001b[1;37m                     ^\u001b[0m\n\u001b[1;31mSyntaxError\u001b[0m\u001b[1;31m:\u001b[0m EOL while scanning string literal\n"
     ]
    }
   ],
   "source": [
    "my_str = 'This is\n",
    "Python \n",
    "class'\n",
    "\n",
    "print(my_str)\n",
    "\n",
    "# This is invalid string. \n",
    "# correct string is - \n",
    "# my_str = '''This is\n",
    "# Python \n",
    "# class'''"
   ]
  },
  {
   "cell_type": "code",
   "execution_count": 14,
   "id": "9346b5fd",
   "metadata": {},
   "outputs": [
    {
     "name": "stdout",
     "output_type": "stream",
     "text": [
      "The length of my_str is :  66\n",
      "\n",
      "Memory Location of my_str :  1519728789040\n",
      "Memory Location of my_str1 :  1519728984368\n",
      "id's of my_str and my_str1 is same? :  False\n",
      "\n",
      "Type of my_str = <class 'str'>\n"
     ]
    }
   ],
   "source": [
    "# Write the code to get the output mentioned below print statement.\n",
    "\n",
    "my_str = \"Although that way may not be obvious at first unless you're Dutch.\"\n",
    "my_str1 = \"Although that way may not be obvious at first unless you're Dutch.\"\n",
    "\n",
    "#length of my_str\n",
    "print(\"The length of my_str is : \", len(my_str))\n",
    "\n",
    "#id of my_str and my_str1 is same?\n",
    "print(\"\\nMemory Location of my_str : \", id(my_str))\n",
    "print(\"Memory Location of my_str1 : \", id(my_str1))\n",
    "print(\"id's of my_str and my_str1 is same? : \", id(my_str) == id(my_str1))\n",
    "\n",
    "#Type of my_str is: str\n",
    "print(\"\\nType of my_str =\", type(my_str))"
   ]
  },
  {
   "cell_type": "code",
   "execution_count": 15,
   "id": "b97d9834",
   "metadata": {},
   "outputs": [
    {
     "name": "stdout",
     "output_type": "stream",
     "text": [
      "The first character in my_str is :  A\n",
      "The first character in my_str is : A\n",
      "The character at index 10 in my_str is ' ':   \n",
      "The last character in my_str is:  h\n",
      "The last character in my_str is:  h\n",
      "The character 9 in my_str is:  8\n"
     ]
    }
   ],
   "source": [
    "# Indexing\n",
    "# Write the code to get the output,instructions are mentioned below print statement. use indexing\n",
    "\n",
    "my_str = \"Although 8 that way may not be obvious at first unless you're Dutch\"\n",
    "print(\"The first character in my_str is : \", my_str[0])\n",
    "#Note:- Use positive indexing\n",
    "\n",
    "print(\"The first character in my_str is :\", my_str[-len(my_str)])\n",
    "#Note:- Use len() function.\n",
    "\n",
    "print(\"The character at index 10 in my_str is ' ': \", my_str[10])\n",
    "#Note:- Use positive indexing\n",
    "\n",
    "print(\"The last character in my_str is: \", my_str[-1])\n",
    "#Note:- Use negative indexing.\n",
    "\n",
    "print(\"The last character in my_str is: \", my_str[len(my_str) -1])\n",
    "#Note:- Use len() function.\n",
    "\n",
    "print(\"The character 9 in my_str is: \", my_str[9])\n",
    "#Note:- Use positive index"
   ]
  },
  {
   "cell_type": "code",
   "execution_count": 16,
   "id": "79dfec1f",
   "metadata": {},
   "outputs": [
    {
     "name": "stdout",
     "output_type": "stream",
     "text": [
      "Although that way may not be obvious at first unless you're Dutch.\n",
      "Although that way may not be obvious at first unless you're Dutch.\n",
      "Although that way may not be obvious at first unless you're Dutch.\n",
      "Although that way may not be obvious at first unless you're Dutch.\n",
      "\n",
      "Atog htwymyntb biu tfrtuls o'eDth\n",
      "Ahgttam tebo  r lsorDc\n",
      ".hctuD er'uoy sselnu tsrif ta suoivbo eb ton yam yaw taht hguohtlA\n",
      ".hctuD er'uoy sselnu tsrif ta suoivbo eb ton yam yaw taht hguohtl\n",
      ".cu ruysen si asovoe o a a athuhl\n",
      ".cu ruysen si asovoe o a a athuhl\n",
      "\n",
      "yaw ta\n",
      "ess you\n"
     ]
    }
   ],
   "source": [
    "#Slicing\n",
    "#Write the code to get the output,instructions are mentioned below print statement. use slicing\n",
    "\n",
    "my_str = \"Although that way may not be obvious at first unless you're Dutch.\"\n",
    "\n",
    "print(my_str[::])\n",
    "#output:- You have sliced: Although that way may not be obvious at first unless you're Dutch.Without begin, end and step\n",
    "\n",
    "print(my_str[0:len(my_str):])\n",
    "#output:- You have sliced: Although that way may not be obvious at first unless you're Dutch.\n",
    "#with begin as 0 end using len and without step\n",
    "\n",
    "print(my_str[::1])\n",
    "#output:- You have sliced: Although that way may not be obvious at first unless you're Dutch.\n",
    "#without begin and end but using step\n",
    "\n",
    "print(my_str[0:len(my_str):1])\n",
    "#output:- You have sliced: Although that way may not be obvious at first unless you're Dutch.With begin, end and step\n",
    "\n",
    "print(my_str[0:66:-1])\n",
    "#output:- You have sliced:   .with using begin and end using postive values and step as negative values.\n",
    "#Slicing command should print empty string.\n",
    "\n",
    "\n",
    "print(my_str[0:66:2])\n",
    "#output:- You have sliced: Atog htwymyntb biu tfrtuls o'eDth\n",
    "\n",
    "print(my_str[0:66:3])\n",
    "#output:- You have sliced: Ahgttam tebo  r lsorDc\n",
    "\n",
    "print(my_str[::-1])\n",
    "#output:- You have sliced: .hctuD er'uoy sselnu tsrif ta suoivbo eb ton yam yaw taht hguohtlA. Use only step\n",
    "\n",
    "print(my_str[66:0:-1])\n",
    "#output:- You have sliced: .hctuD er'uoy sselnu tsrif ta suoivbo eb ton yam yaw taht hguohtlA. Use begin end and step.\n",
    "\n",
    "print(my_str[::-2])\n",
    "#output:- You have sliced: .cu ruysen si asovoe o a a athuhl. use only step\n",
    "\n",
    "print(my_str[66:0:-2])\n",
    "#output:- You have sliced: .cu ruysen si asovoe o a a athuhl. use begin, end and step.\n",
    "\n",
    "print(my_str[10:17:-1])\n",
    "#What will be the output?\n",
    "\n",
    "print(my_str[16:10:-1])\n",
    "#output:- You have sliced: yaw ta, Using begin, end and step.\n",
    "\n",
    "print(my_str[49:56:1])\n",
    "#output:- You have sliced: ess you. Using begin, end and step.\n"
   ]
  },
  {
   "cell_type": "code",
   "execution_count": 17,
   "id": "a5ff3be8",
   "metadata": {},
   "outputs": [
    {
     "name": "stdout",
     "output_type": "stream",
     "text": [
      "Learnbay Python\n"
     ]
    }
   ],
   "source": [
    "#Basic operation on string\n",
    "\n",
    "#Write the code to get the output,instructions are mentioned below.\n",
    "\n",
    "#Output is: Learnbay Python\n",
    "str1 = 'Learnbay'\n",
    "str2 = 'Python'\n",
    "\n",
    "str3 = str1 + \" \" + str2\n",
    "print(str3)\n",
    "\n",
    "#Error: TypeError: can only concatenate str (not \"int\") to str\n",
    "#print(str1 + 10)\n",
    "\n",
    "#Error: TypeError: can only concatenate str (not \"float\") to str\n",
    "#print(str1 + 10.20)"
   ]
  },
  {
   "cell_type": "code",
   "execution_count": 18,
   "id": "c61b0c7e",
   "metadata": {},
   "outputs": [
    {
     "name": "stdout",
     "output_type": "stream",
     "text": [
      "LearnbayLearnbayLearnbay\n"
     ]
    }
   ],
   "source": [
    "#Find below Output\n",
    "str1 = 'Learnbay'\n",
    "str2 = 'Python'\n",
    "\n",
    "#Output is: LearnbayLearnbayLearnbay\n",
    "print(str1*3)\n",
    "\n",
    "#Error: TypeError: can't multiply sequence by non-int of type 'float'\n",
    "#print(str1*10.20)\n",
    "\n",
    "#Error: TypeError: can't multiply sequence by non-int of type 'str'\n",
    "#print(str1*str2)"
   ]
  },
  {
   "cell_type": "code",
   "execution_count": 19,
   "id": "624f07d8",
   "metadata": {},
   "outputs": [
    {
     "name": "stdout",
     "output_type": "stream",
     "text": [
      "True\n"
     ]
    }
   ],
   "source": [
    "#Find below Output\n",
    "#print True by using identity operator between str1 and str2\n",
    "\n",
    "str1 = 'Python'\n",
    "str2 = 'Python'\n",
    "str3 = 'Python$'\n",
    "str4 = 'Python$'\n",
    "\n",
    "print(str1 is str2)"
   ]
  },
  {
   "cell_type": "code",
   "execution_count": 20,
   "id": "1e814f9f",
   "metadata": {},
   "outputs": [
    {
     "name": "stdout",
     "output_type": "stream",
     "text": [
      "False\n"
     ]
    }
   ],
   "source": [
    "#print False by using identity operator between str1 and str3\n",
    "\n",
    "str1 = 'Python'\n",
    "str2 = 'Python'\n",
    "str3 = 'Python$'\n",
    "str4 = 'Python$'\n",
    "\n",
    "print(str1 is str3)"
   ]
  },
  {
   "cell_type": "code",
   "execution_count": 21,
   "id": "5de64f4d",
   "metadata": {},
   "outputs": [
    {
     "name": "stdout",
     "output_type": "stream",
     "text": [
      "False\n"
     ]
    }
   ],
   "source": [
    "#print False by using identity operator between str4 and str3\n",
    "str1 = 'Python'\n",
    "str2 = 'Python'\n",
    "str3 = 'Python$'\n",
    "str4 = 'Python$'\n",
    "\n",
    "print(str3 is str4)"
   ]
  },
  {
   "cell_type": "code",
   "execution_count": 22,
   "id": "c9c57747",
   "metadata": {},
   "outputs": [
    {
     "name": "stdout",
     "output_type": "stream",
     "text": [
      "True\n"
     ]
    }
   ],
   "source": [
    "#Check if P is available in str1 and print True by using membership operator\n",
    "\n",
    "str1 = 'Python'\n",
    "\n",
    "print('P' in str1)"
   ]
  },
  {
   "cell_type": "code",
   "execution_count": 23,
   "id": "2a377df8",
   "metadata": {},
   "outputs": [
    {
     "name": "stdout",
     "output_type": "stream",
     "text": [
      "True\n"
     ]
    }
   ],
   "source": [
    "#Check if $ is available in str3 and print True by using membership operator\n",
    "\n",
    "str3 = 'Python$'\n",
    "\n",
    "print('$' in str3)"
   ]
  },
  {
   "cell_type": "code",
   "execution_count": 24,
   "id": "cc164890",
   "metadata": {},
   "outputs": [
    {
     "name": "stdout",
     "output_type": "stream",
     "text": [
      "False\n"
     ]
    }
   ],
   "source": [
    "#Check if N is available in str3 and print False by using membership operator\n",
    "\n",
    "str3 = 'Python$'\n",
    "\n",
    "print('N' in str3)"
   ]
  },
  {
   "cell_type": "code",
   "execution_count": 25,
   "id": "7d26e980",
   "metadata": {},
   "outputs": [
    {
     "ename": "TypeError",
     "evalue": "'str' object does not support item assignment",
     "output_type": "error",
     "traceback": [
      "\u001b[1;31m---------------------------------------------------------------------------\u001b[0m",
      "\u001b[1;31mTypeError\u001b[0m                                 Traceback (most recent call last)",
      "\u001b[1;32m<ipython-input-25-65c46d45ab4e>\u001b[0m in \u001b[0;36m<module>\u001b[1;34m\u001b[0m\n\u001b[0;32m      4\u001b[0m \u001b[1;31m#TypeError: 'str' object does not support item assignment.\u001b[0m\u001b[1;33m\u001b[0m\u001b[1;33m\u001b[0m\u001b[1;33m\u001b[0m\u001b[0m\n\u001b[0;32m      5\u001b[0m \u001b[1;33m\u001b[0m\u001b[0m\n\u001b[1;32m----> 6\u001b[1;33m \u001b[0mstr1\u001b[0m\u001b[1;33m[\u001b[0m\u001b[1;36m8\u001b[0m\u001b[1;33m:\u001b[0m\u001b[1;36m14\u001b[0m\u001b[1;33m]\u001b[0m \u001b[1;33m=\u001b[0m \u001b[1;34m'Java'\u001b[0m\u001b[1;33m\u001b[0m\u001b[1;33m\u001b[0m\u001b[0m\n\u001b[0m",
      "\u001b[1;31mTypeError\u001b[0m: 'str' object does not support item assignment"
     ]
    }
   ],
   "source": [
    "#Complete the below code\n",
    "str1 = 'This is Python class'\n",
    "#write the code to replace 'Python' with 'Java' and you should get below error.\n",
    "#TypeError: 'str' object does not support item assignment.\n",
    "\n",
    "str1[8:14] = 'Java'"
   ]
  },
  {
   "cell_type": "code",
   "execution_count": null,
   "id": "ab7d1d63",
   "metadata": {},
   "outputs": [],
   "source": [
    "#Compare str1 and str2 and print True using comparison operator\n",
    "\n",
    "str1 = 'A'\n",
    "str2 = 'A'\n",
    "\n",
    "print(str1 >= str2)"
   ]
  },
  {
   "cell_type": "code",
   "execution_count": null,
   "id": "37b8daf6",
   "metadata": {},
   "outputs": [],
   "source": [
    "#Compare str1 and str2 and print True using equality operator\n",
    "\n",
    "str1 = 'A'\n",
    "str2 = 'A'\n",
    "\n",
    "print(str1 == str2)"
   ]
  },
  {
   "cell_type": "code",
   "execution_count": 26,
   "id": "53f706dd",
   "metadata": {},
   "outputs": [
    {
     "name": "stdout",
     "output_type": "stream",
     "text": [
      "False\n"
     ]
    }
   ],
   "source": [
    "#Compare str1 and str2 and print False using equality operator\n",
    "\n",
    "str1 = 'A'\n",
    "str2 = 'A'\n",
    "\n",
    "print(str1 != str2)"
   ]
  },
  {
   "cell_type": "code",
   "execution_count": 27,
   "id": "d5c1ad0e",
   "metadata": {},
   "outputs": [
    {
     "name": "stdout",
     "output_type": "stream",
     "text": [
      "False\n"
     ]
    }
   ],
   "source": [
    "#Compare str1 and str2 and print False using comparison operator\n",
    "\n",
    "str1 = 'A'\n",
    "str2 = 'A'\n",
    "\n",
    "print(str1 > str2)"
   ]
  },
  {
   "cell_type": "code",
   "execution_count": 28,
   "id": "6a2565bc",
   "metadata": {},
   "outputs": [
    {
     "name": "stdout",
     "output_type": "stream",
     "text": [
      "True\n"
     ]
    }
   ],
   "source": [
    "#Compare str1 and str2 and print True using comparison operator\n",
    "\n",
    "str1 = 'A'\n",
    "str2 = 'a'\n",
    "\n",
    "print(str1 < str2)"
   ]
  },
  {
   "cell_type": "code",
   "execution_count": 29,
   "id": "5fd13599",
   "metadata": {},
   "outputs": [
    {
     "name": "stdout",
     "output_type": "stream",
     "text": [
      "True\n"
     ]
    }
   ],
   "source": [
    "#Compare str1 and str2 and print True using equality operator\n",
    "\n",
    "str1 = 'A'\n",
    "str2 = 'a'\n",
    "\n",
    "print(str1 != str2)"
   ]
  },
  {
   "cell_type": "code",
   "execution_count": 30,
   "id": "4d734cb5",
   "metadata": {},
   "outputs": [
    {
     "name": "stdout",
     "output_type": "stream",
     "text": [
      "False\n"
     ]
    }
   ],
   "source": [
    "#Compare str1 and str2 and print False using equality operator\n",
    "\n",
    "str1 = 'A'\n",
    "str2 = 'a'\n",
    "\n",
    "print(str1 == str2)"
   ]
  },
  {
   "cell_type": "code",
   "execution_count": 31,
   "id": "9e3d9a8c",
   "metadata": {},
   "outputs": [
    {
     "name": "stdout",
     "output_type": "stream",
     "text": [
      "False\n"
     ]
    }
   ],
   "source": [
    "#Compare str1 and str2 and print False using comparison operator\n",
    "\n",
    "str1 = 'A'\n",
    "str2 = 'a'\n",
    "\n",
    "print(str1 > str2)"
   ]
  },
  {
   "cell_type": "code",
   "execution_count": 32,
   "id": "d7e7eb35",
   "metadata": {},
   "outputs": [
    {
     "ename": "TypeError",
     "evalue": "'>=' not supported between instances of 'str' and 'int'",
     "output_type": "error",
     "traceback": [
      "\u001b[1;31m---------------------------------------------------------------------------\u001b[0m",
      "\u001b[1;31mTypeError\u001b[0m                                 Traceback (most recent call last)",
      "\u001b[1;32m<ipython-input-32-710a00c6358d>\u001b[0m in \u001b[0;36m<module>\u001b[1;34m\u001b[0m\n\u001b[0;32m      6\u001b[0m \u001b[0mstr2\u001b[0m \u001b[1;33m=\u001b[0m \u001b[1;34m'65'\u001b[0m\u001b[1;33m\u001b[0m\u001b[1;33m\u001b[0m\u001b[0m\n\u001b[0;32m      7\u001b[0m \u001b[1;33m\u001b[0m\u001b[0m\n\u001b[1;32m----> 8\u001b[1;33m \u001b[0mprint\u001b[0m\u001b[1;33m(\u001b[0m\u001b[0mstr1\u001b[0m \u001b[1;33m>=\u001b[0m \u001b[0mint\u001b[0m\u001b[1;33m(\u001b[0m\u001b[0mstr2\u001b[0m\u001b[1;33m)\u001b[0m\u001b[1;33m)\u001b[0m\u001b[1;33m\u001b[0m\u001b[1;33m\u001b[0m\u001b[0m\n\u001b[0m",
      "\u001b[1;31mTypeError\u001b[0m: '>=' not supported between instances of 'str' and 'int'"
     ]
    }
   ],
   "source": [
    "#Compare str1 and str2 using comparison operator and it should give below error.\n",
    "\n",
    "#Error: TypeError: '>=' not supported between instances of 'str' and 'int'\n",
    "\n",
    "str1 = 'A'\n",
    "str2 = '65'\n",
    "\n",
    "print(str1 >= int(str2))"
   ]
  },
  {
   "cell_type": "code",
   "execution_count": 33,
   "id": "32150681",
   "metadata": {},
   "outputs": [
    {
     "name": "stdout",
     "output_type": "stream",
     "text": [
      "True\n"
     ]
    }
   ],
   "source": [
    "#Compare str1 and str2 and print True using equality operator\n",
    "\n",
    "str1 = 'A'\n",
    "str2 = '65'\n",
    "\n",
    "print(str1 != str2)"
   ]
  },
  {
   "cell_type": "code",
   "execution_count": 34,
   "id": "97388414",
   "metadata": {},
   "outputs": [
    {
     "name": "stdout",
     "output_type": "stream",
     "text": [
      "False\n"
     ]
    }
   ],
   "source": [
    "#Compare str1 and str2 and print False using equality operator\n",
    "\n",
    "str1 = 'A'\n",
    "str2 = '65'\n",
    "\n",
    "print(str1 == str2)"
   ]
  },
  {
   "cell_type": "code",
   "execution_count": 35,
   "id": "9aa04f79",
   "metadata": {},
   "outputs": [
    {
     "name": "stdout",
     "output_type": "stream",
     "text": [
      "True\n"
     ]
    }
   ],
   "source": [
    "#Compare str1 and str2 and print True using comparison operator\n",
    "\n",
    "str1 = 'Python'\n",
    "str2 = 'Python'\n",
    "\n",
    "print(str1 >= str2)"
   ]
  },
  {
   "cell_type": "code",
   "execution_count": 36,
   "id": "a2a5f27b",
   "metadata": {},
   "outputs": [
    {
     "name": "stdout",
     "output_type": "stream",
     "text": [
      "True\n"
     ]
    }
   ],
   "source": [
    "#Compare str1 and str2 and print True using equality operator\n",
    "\n",
    "str1 = 'Python'\n",
    "str2 = 'Python'\n",
    "\n",
    "print(str1 == str2)"
   ]
  },
  {
   "cell_type": "code",
   "execution_count": 37,
   "id": "3d0d99f7",
   "metadata": {},
   "outputs": [
    {
     "name": "stdout",
     "output_type": "stream",
     "text": [
      "False\n"
     ]
    }
   ],
   "source": [
    "#Compare str1 and str2 and print False using equality operator\n",
    "\n",
    "str1 = 'Python'\n",
    "str2 = 'Python'\n",
    "\n",
    "print(str1 != str2)"
   ]
  },
  {
   "cell_type": "code",
   "execution_count": 38,
   "id": "eee6ab7f",
   "metadata": {},
   "outputs": [
    {
     "name": "stdout",
     "output_type": "stream",
     "text": [
      "False\n"
     ]
    }
   ],
   "source": [
    "#Compare str1 and str2 and print False using comparison operator\n",
    "\n",
    "str1 = 'Python'\n",
    "str2 = 'Python'\n",
    "\n",
    "print(str1 < str2)"
   ]
  },
  {
   "cell_type": "code",
   "execution_count": 39,
   "id": "a08b3fde",
   "metadata": {},
   "outputs": [
    {
     "name": "stdout",
     "output_type": "stream",
     "text": [
      "True\n"
     ]
    }
   ],
   "source": [
    "#Compare str1 and str2 and print True using comparison operator\n",
    "\n",
    "str1 = 'Python'\n",
    "str2 = 'python'\n",
    "\n",
    "print(str1 < str2)"
   ]
  },
  {
   "cell_type": "code",
   "execution_count": 40,
   "id": "92ca7f46",
   "metadata": {},
   "outputs": [
    {
     "name": "stdout",
     "output_type": "stream",
     "text": [
      "True\n"
     ]
    }
   ],
   "source": [
    "#Compare str1 and str2 and print True using equality operator\n",
    "\n",
    "\n",
    "str1 = 'Python'\n",
    "str2 = 'python'\n",
    "\n",
    "print(str1 != str2)"
   ]
  },
  {
   "cell_type": "code",
   "execution_count": 41,
   "id": "614108df",
   "metadata": {},
   "outputs": [
    {
     "name": "stdout",
     "output_type": "stream",
     "text": [
      "False\n"
     ]
    }
   ],
   "source": [
    "#Compare str1 and str2 and print False using equality operator\n",
    "\n",
    "str1 = 'Python'\n",
    "str2 = 'python'\n",
    "\n",
    "print(str1 == str2)"
   ]
  },
  {
   "cell_type": "code",
   "execution_count": 42,
   "id": "641617c1",
   "metadata": {},
   "outputs": [
    {
     "name": "stdout",
     "output_type": "stream",
     "text": [
      "False\n"
     ]
    }
   ],
   "source": [
    "#Compare str1 and str2 and print False using comparison operator\n",
    "\n",
    "str1 = 'Python'\n",
    "str2 = 'python'\n",
    "\n",
    "print(str1 > str2)"
   ]
  },
  {
   "cell_type": "code",
   "execution_count": 43,
   "id": "1a543da2",
   "metadata": {},
   "outputs": [
    {
     "name": "stdout",
     "output_type": "stream",
     "text": [
      "\n"
     ]
    }
   ],
   "source": [
    "#Apply logical opereators (and, or & not) on above string values and observe the output.\n",
    "\n",
    "a = 'Python'\n",
    "b = ''\n",
    "\n",
    "print(a and b)"
   ]
  },
  {
   "cell_type": "code",
   "execution_count": 44,
   "id": "2637a935",
   "metadata": {},
   "outputs": [
    {
     "name": "stdout",
     "output_type": "stream",
     "text": [
      "Python\n"
     ]
    }
   ],
   "source": [
    "a = 'Python'\n",
    "b = ''\n",
    "\n",
    "print(a or b)"
   ]
  },
  {
   "cell_type": "code",
   "execution_count": 45,
   "id": "c58717a0",
   "metadata": {},
   "outputs": [
    {
     "ename": "SyntaxError",
     "evalue": "invalid syntax (<ipython-input-45-0e0f811e0c44>, line 4)",
     "output_type": "error",
     "traceback": [
      "\u001b[1;36m  File \u001b[1;32m\"<ipython-input-45-0e0f811e0c44>\"\u001b[1;36m, line \u001b[1;32m4\u001b[0m\n\u001b[1;33m    print(a not b)\u001b[0m\n\u001b[1;37m                ^\u001b[0m\n\u001b[1;31mSyntaxError\u001b[0m\u001b[1;31m:\u001b[0m invalid syntax\n"
     ]
    }
   ],
   "source": [
    "a = 'Python'\n",
    "b = ''\n",
    "\n",
    "print(a not b)"
   ]
  },
  {
   "cell_type": "code",
   "execution_count": 46,
   "id": "cb83459c",
   "metadata": {},
   "outputs": [
    {
     "name": "stdout",
     "output_type": "stream",
     "text": [
      "\n"
     ]
    }
   ],
   "source": [
    "#Apply logical opereators (and, or & not) on above string values and observe the output.\n",
    "\n",
    "a = ''\n",
    "b = ''\n",
    "\n",
    "print(a and b)"
   ]
  },
  {
   "cell_type": "code",
   "execution_count": 47,
   "id": "3682ada3",
   "metadata": {},
   "outputs": [
    {
     "name": "stdout",
     "output_type": "stream",
     "text": [
      "\n"
     ]
    }
   ],
   "source": [
    "a = ''\n",
    "b = ''\n",
    "\n",
    "print(a or b)"
   ]
  },
  {
   "cell_type": "code",
   "execution_count": 48,
   "id": "fd0820ee",
   "metadata": {},
   "outputs": [
    {
     "ename": "SyntaxError",
     "evalue": "invalid syntax (<ipython-input-48-cca042dd0e49>, line 4)",
     "output_type": "error",
     "traceback": [
      "\u001b[1;36m  File \u001b[1;32m\"<ipython-input-48-cca042dd0e49>\"\u001b[1;36m, line \u001b[1;32m4\u001b[0m\n\u001b[1;33m    print(a not b)\u001b[0m\n\u001b[1;37m                ^\u001b[0m\n\u001b[1;31mSyntaxError\u001b[0m\u001b[1;31m:\u001b[0m invalid syntax\n"
     ]
    }
   ],
   "source": [
    "a = ''\n",
    "b = ''\n",
    "\n",
    "print(a not b)"
   ]
  },
  {
   "cell_type": "code",
   "execution_count": 49,
   "id": "85e581a0",
   "metadata": {},
   "outputs": [
    {
     "name": "stdout",
     "output_type": "stream",
     "text": [
      "learnbay\n"
     ]
    }
   ],
   "source": [
    "#Apply logical opereators (and, or & not) on above string values and observe the output.\n",
    "\n",
    "a = 'Python'\n",
    "b = 'learnbay'\n",
    "\n",
    "print(a and b)"
   ]
  },
  {
   "cell_type": "code",
   "execution_count": 50,
   "id": "6778245d",
   "metadata": {},
   "outputs": [
    {
     "name": "stdout",
     "output_type": "stream",
     "text": [
      "Python\n"
     ]
    }
   ],
   "source": [
    "a = 'Python'\n",
    "b = 'learnbay'\n",
    "\n",
    "print(a or b)"
   ]
  },
  {
   "cell_type": "code",
   "execution_count": 51,
   "id": "b4d0dd42",
   "metadata": {},
   "outputs": [
    {
     "ename": "SyntaxError",
     "evalue": "invalid syntax (<ipython-input-51-5c222549f65c>, line 4)",
     "output_type": "error",
     "traceback": [
      "\u001b[1;36m  File \u001b[1;32m\"<ipython-input-51-5c222549f65c>\"\u001b[1;36m, line \u001b[1;32m4\u001b[0m\n\u001b[1;33m    print(a not b)\u001b[0m\n\u001b[1;37m                ^\u001b[0m\n\u001b[1;31mSyntaxError\u001b[0m\u001b[1;31m:\u001b[0m invalid syntax\n"
     ]
    }
   ],
   "source": [
    "a = 'Python'\n",
    "b = 'learnbay'\n",
    "\n",
    "print(a not b)"
   ]
  },
  {
   "cell_type": "code",
   "execution_count": 52,
   "id": "86c6d6fd",
   "metadata": {},
   "outputs": [
    {
     "name": "stdout",
     "output_type": "stream",
     "text": [
      "7\n",
      "7\n",
      "7\n"
     ]
    }
   ],
   "source": [
    "#Write the code to get the total count of 't' in above string. Use find() and index() method.\n",
    "\n",
    "my_str = \"Although 8 that way may not be obvious at first unless you're Dutch\"\n",
    "\n",
    "#Using Count method\n",
    "print(my_str.count('t'))\n",
    "\n",
    "#Using index method\n",
    "ind = -1\n",
    "count = 0\n",
    "while True:\n",
    "    try:\n",
    "        ind = my_str.index('t', ind+1)\n",
    "    except ValueError:\n",
    "        break\n",
    "    else:\n",
    "        count += 1\n",
    "print(count)\n",
    "\n",
    "# Using find method\n",
    "ind = -1\n",
    "count = 0\n",
    "while True:\n",
    "    ind = my_str.find('t', ind+1)\n",
    "    if ind == -1:\n",
    "        break\n",
    "    else:\n",
    "        count += 1\n",
    "print(count)\n"
   ]
  },
  {
   "cell_type": "code",
   "execution_count": 53,
   "id": "5d36bf23",
   "metadata": {},
   "outputs": [
    {
     "name": "stdout",
     "output_type": "stream",
     "text": [
      "9\n",
      "9\n"
     ]
    }
   ],
   "source": [
    "#Write the code to get the index of '8' in my_str. Use find() and index() method.\n",
    "\n",
    "my_str = \"Although 8 that way may not be obvious at first unless you're Dutch\"\n",
    "\n",
    "print(my_str.find('8'))\n",
    "print(my_str.index('8'))"
   ]
  },
  {
   "cell_type": "code",
   "execution_count": 54,
   "id": "5f1b931b",
   "metadata": {},
   "outputs": [
    {
     "name": "stdout",
     "output_type": "stream",
     "text": [
      "-1\n"
     ]
    }
   ],
   "source": [
    "#What will be the output of below code?\n",
    "\n",
    "my_str = \"Although 8 that way may not be obvious at first unless you're Dutch\"\n",
    "\n",
    "print(my_str.find('the'))"
   ]
  },
  {
   "cell_type": "code",
   "execution_count": 55,
   "id": "962f4258",
   "metadata": {},
   "outputs": [
    {
     "ename": "ValueError",
     "evalue": "substring not found",
     "output_type": "error",
     "traceback": [
      "\u001b[1;31m---------------------------------------------------------------------------\u001b[0m",
      "\u001b[1;31mValueError\u001b[0m                                Traceback (most recent call last)",
      "\u001b[1;32m<ipython-input-55-b52bafa258f3>\u001b[0m in \u001b[0;36m<module>\u001b[1;34m\u001b[0m\n\u001b[0;32m      1\u001b[0m \u001b[0mmy_str\u001b[0m \u001b[1;33m=\u001b[0m \u001b[1;34m\"Although 8 that way may not be obvious at first unless you're Dutch\"\u001b[0m\u001b[1;33m\u001b[0m\u001b[1;33m\u001b[0m\u001b[0m\n\u001b[0;32m      2\u001b[0m \u001b[1;33m\u001b[0m\u001b[0m\n\u001b[1;32m----> 3\u001b[1;33m \u001b[0mprint\u001b[0m\u001b[1;33m(\u001b[0m\u001b[0mmy_str\u001b[0m\u001b[1;33m.\u001b[0m\u001b[0mindex\u001b[0m\u001b[1;33m(\u001b[0m\u001b[1;34m'the'\u001b[0m\u001b[1;33m)\u001b[0m\u001b[1;33m)\u001b[0m\u001b[1;33m\u001b[0m\u001b[1;33m\u001b[0m\u001b[0m\n\u001b[0m",
      "\u001b[1;31mValueError\u001b[0m: substring not found"
     ]
    }
   ],
   "source": [
    "my_str = \"Although 8 that way may not be obvious at first unless you're Dutch\"\n",
    "\n",
    "print(my_str.index('the'))"
   ]
  },
  {
   "cell_type": "code",
   "execution_count": 56,
   "id": "2cac4077",
   "metadata": {},
   "outputs": [
    {
     "name": "stdout",
     "output_type": "stream",
     "text": [
      "11\n"
     ]
    }
   ],
   "source": [
    "my_str = \"Although 8 that way may not be obvious at first unless you're Dutch\"\n",
    "\n",
    "print(my_str.find('t', 9, 15))"
   ]
  },
  {
   "cell_type": "code",
   "execution_count": 57,
   "id": "78c96d71",
   "metadata": {},
   "outputs": [
    {
     "name": "stdout",
     "output_type": "stream",
     "text": [
      "63\n"
     ]
    }
   ],
   "source": [
    "my_str = \"Although 8 that way may not be obvious at first unless you're Dutch\"\n",
    "\n",
    "print(my_str.rfind('u'))"
   ]
  },
  {
   "cell_type": "code",
   "execution_count": 58,
   "id": "f02bdfc5",
   "metadata": {},
   "outputs": [
    {
     "name": "stdout",
     "output_type": "stream",
     "text": [
      "63\n"
     ]
    }
   ],
   "source": [
    "my_str = \"Although 8 that way may not be obvious at first unless you're Dutch\"\n",
    "\n",
    "print(my_str.rindex('u'))"
   ]
  },
  {
   "cell_type": "code",
   "execution_count": 59,
   "id": "d2c77fef",
   "metadata": {},
   "outputs": [
    {
     "name": "stdout",
     "output_type": "stream",
     "text": [
      "Enter a String : Python\n",
      "Python\n"
     ]
    }
   ],
   "source": [
    "#W A P which applies strip() method if any string, which will be taken from user, starts and ends with space, or applies \n",
    "#rstrip() method if that string only ends with space or applies lstrip() method if that string only starts with a space.\n",
    "\n",
    "#For example:-\n",
    "#input:- '    Python   '\n",
    "#output:- 'Python'\n",
    "\n",
    "my_str = input(\"Enter a String : \")\n",
    "print(my_str.strip())"
   ]
  },
  {
   "cell_type": "code",
   "execution_count": 60,
   "id": "b3cf567b",
   "metadata": {},
   "outputs": [
    {
     "name": "stdout",
     "output_type": "stream",
     "text": [
      "Enter a String :     Python\n",
      "Python\n"
     ]
    }
   ],
   "source": [
    "#input:- '    Python'\n",
    "#output:- 'Python'\n",
    "\n",
    "my_str = input(\"Enter a String : \")\n",
    "print(my_str.lstrip())"
   ]
  },
  {
   "cell_type": "code",
   "execution_count": 61,
   "id": "d7f7496b",
   "metadata": {},
   "outputs": [
    {
     "name": "stdout",
     "output_type": "stream",
     "text": [
      "Enter a String : Python   \n",
      "Python\n"
     ]
    }
   ],
   "source": [
    "#input:- 'Python   '\n",
    "#output:- 'Python'\n",
    "\n",
    "my_str = input(\"Enter a String : \")\n",
    "print(my_str.rstrip())"
   ]
  },
  {
   "cell_type": "code",
   "execution_count": 62,
   "id": "0191f7b5",
   "metadata": {},
   "outputs": [
    {
     "name": "stdout",
     "output_type": "stream",
     "text": [
      "ALTHOUGH 8 THAT WAY MAY NOT BE OBVIOUS AT FIRST UNLESS YOU'RE DUTCH\n"
     ]
    }
   ],
   "source": [
    "#Write the code to convert all alphabets in my_str into upper case.\n",
    "\n",
    "my_str = \"Although 8 that way may not be obvious at first unless you're Dutch\"\n",
    "\n",
    "print(my_str.upper())"
   ]
  },
  {
   "cell_type": "code",
   "execution_count": 63,
   "id": "810cd82a",
   "metadata": {},
   "outputs": [
    {
     "name": "stdout",
     "output_type": "stream",
     "text": [
      "although 8 that way may not be obvious at first unless you're dutch\n"
     ]
    }
   ],
   "source": [
    "#Write the code to convert all alphabets in my_str into lower case.\n",
    "\n",
    "my_str = \"Although 8 that way may not be obvious at first unless you're Dutch\"\n",
    "\n",
    "print(my_str.lower())"
   ]
  },
  {
   "cell_type": "code",
   "execution_count": 64,
   "id": "c9ef7b96",
   "metadata": {},
   "outputs": [
    {
     "name": "stdout",
     "output_type": "stream",
     "text": [
      "aLTHOUGH 8 THAT WAY MAY NOT BE OBVIOUS AT FIRST UNLESS YOU'RE dUTCH\n"
     ]
    }
   ],
   "source": [
    "#Write the code to swap the cases of all alphabets in my_str.(lower to upper and upper to lower)\n",
    "\n",
    "print(my_str.swapcase())"
   ]
  },
  {
   "cell_type": "code",
   "execution_count": 65,
   "id": "bac366e8",
   "metadata": {},
   "outputs": [
    {
     "name": "stdout",
     "output_type": "stream",
     "text": [
      "Enter a String : python\n",
      "Python\n"
     ]
    }
   ],
   "source": [
    "#Write the code which takes one string from user and if it starts with small case letter then convert it to corresponding \n",
    "#capital letter otherwise if starts with capital letters then convert first character of every word in that string into capital.\n",
    "\n",
    "my_str = str(input(\"Enter a String : \"))\n",
    "if my_str[0].islower():\n",
    "    print(my_str.capitalize())\n",
    "elif my_str[0].isupper():\n",
    "    print(my_str.title())"
   ]
  },
  {
   "cell_type": "code",
   "execution_count": 66,
   "id": "26998bd3",
   "metadata": {},
   "outputs": [
    {
     "name": "stdout",
     "output_type": "stream",
     "text": [
      "Enter a String : Python20\n",
      "True\n"
     ]
    }
   ],
   "source": [
    "#Take a string from user and check if it is:-\n",
    "# 1. alphanumeric\n",
    "\n",
    "my_str = str(input(\"Enter a String : \"))\n",
    "print(my_str.isalnum())"
   ]
  },
  {
   "cell_type": "code",
   "execution_count": 67,
   "id": "5311897c",
   "metadata": {},
   "outputs": [
    {
     "name": "stdout",
     "output_type": "stream",
     "text": [
      "Enter a String : Python\n",
      "True\n"
     ]
    }
   ],
   "source": [
    "# 2. alphabets\n",
    "\n",
    "my_str = str(input(\"Enter a String : \"))\n",
    "print(my_str.isalpha())"
   ]
  },
  {
   "cell_type": "code",
   "execution_count": 68,
   "id": "177f286c",
   "metadata": {},
   "outputs": [
    {
     "name": "stdout",
     "output_type": "stream",
     "text": [
      "Enter a String : 123456\n",
      "True\n"
     ]
    }
   ],
   "source": [
    "# 3. digit\n",
    "\n",
    "my_str = str(input(\"Enter a String : \"))\n",
    "print(my_str.isdigit())"
   ]
  },
  {
   "cell_type": "code",
   "execution_count": 69,
   "id": "c86aa000",
   "metadata": {},
   "outputs": [
    {
     "name": "stdout",
     "output_type": "stream",
     "text": [
      "Enter a String : python\n",
      "True\n"
     ]
    }
   ],
   "source": [
    "# 4. all letters are in lower case\n",
    "\n",
    "my_str = str(input(\"Enter a String : \"))\n",
    "print(my_str.islower())"
   ]
  },
  {
   "cell_type": "code",
   "execution_count": 70,
   "id": "19cd99e3",
   "metadata": {},
   "outputs": [
    {
     "name": "stdout",
     "output_type": "stream",
     "text": [
      "Enter a String : PYTHON\n",
      "True\n"
     ]
    }
   ],
   "source": [
    "# 5. all letters are in upper case\n",
    "\n",
    "my_str = str(input(\"Enter a String : \"))\n",
    "print(my_str.isupper())"
   ]
  },
  {
   "cell_type": "code",
   "execution_count": 71,
   "id": "78f5a202",
   "metadata": {},
   "outputs": [
    {
     "name": "stdout",
     "output_type": "stream",
     "text": [
      "Enter a String : Python\n",
      "True\n"
     ]
    }
   ],
   "source": [
    "# 6. in title case\n",
    "\n",
    "my_str = str(input(\"Enter a String : \"))\n",
    "print(my_str.istitle())"
   ]
  },
  {
   "cell_type": "code",
   "execution_count": 72,
   "id": "ed8e123f",
   "metadata": {},
   "outputs": [
    {
     "name": "stdout",
     "output_type": "stream",
     "text": [
      "Enter a String : Hello World\n",
      "False\n"
     ]
    }
   ],
   "source": [
    "# 7. a space character\n",
    "\n",
    "my_str = str(input(\"Enter a String : \"))\n",
    "print(my_str.isspace())"
   ]
  },
  {
   "cell_type": "code",
   "execution_count": 73,
   "id": "53f76652",
   "metadata": {},
   "outputs": [
    {
     "name": "stdout",
     "output_type": "stream",
     "text": [
      "Enter a String : 123456\n",
      "True\n"
     ]
    }
   ],
   "source": [
    "# 8. numeric\n",
    "\n",
    "my_str = str(input(\"Enter a String : \"))\n",
    "print(my_str.isnumeric())"
   ]
  },
  {
   "cell_type": "code",
   "execution_count": 74,
   "id": "a1965fec",
   "metadata": {},
   "outputs": [
    {
     "name": "stdout",
     "output_type": "stream",
     "text": [
      "Enter a String : 12345\n",
      "True\n"
     ]
    }
   ],
   "source": [
    "# 9. all number elements in string are decimal\n",
    "\n",
    "my_str = str(input(\"Enter a String : \"))\n",
    "print(my_str.isdecimal())"
   ]
  },
  {
   "cell_type": "code",
   "execution_count": 75,
   "id": "eb2f95e3",
   "metadata": {},
   "outputs": [
    {
     "name": "stdout",
     "output_type": "stream",
     "text": [
      "Enter a String : abc\n",
      "True\n"
     ]
    }
   ],
   "source": [
    "#W A P which takes a string as an input and prints True if the string is valid identifier else returns False.\n",
    "#Sample Input:- 'abc', 'abc1', 'ab1c', '1abc', 'abc$', '_abc', 'if'\n",
    "\n",
    "my_str = str(input(\"Enter a String : \"))\n",
    "print(my_str.isidentifier())"
   ]
  },
  {
   "cell_type": "code",
   "execution_count": 76,
   "id": "da0f574c",
   "metadata": {},
   "outputs": [
    {
     "name": "stdout",
     "output_type": "stream",
     "text": [
      "True\n"
     ]
    }
   ],
   "source": [
    "# What will be output of below code?\n",
    "\n",
    "s = chr(65) + chr(97)\n",
    "print(s.isprintable())"
   ]
  },
  {
   "cell_type": "code",
   "execution_count": 77,
   "id": "72935d07",
   "metadata": {},
   "outputs": [
    {
     "name": "stdout",
     "output_type": "stream",
     "text": [
      "False\n"
     ]
    }
   ],
   "source": [
    "s = chr(27) + chr(97)\n",
    "print(s.isprintable())"
   ]
  },
  {
   "cell_type": "code",
   "execution_count": 78,
   "id": "02b56cbb",
   "metadata": {},
   "outputs": [
    {
     "name": "stdout",
     "output_type": "stream",
     "text": [
      "False\n"
     ]
    }
   ],
   "source": [
    "s = '\\n'\n",
    "print(s.isprintable())"
   ]
  },
  {
   "cell_type": "code",
   "execution_count": 79,
   "id": "41fd3497",
   "metadata": {},
   "outputs": [
    {
     "name": "stdout",
     "output_type": "stream",
     "text": [
      "True\n"
     ]
    }
   ],
   "source": [
    "s = ''\n",
    "print(s.isprintable())"
   ]
  },
  {
   "cell_type": "code",
   "execution_count": 80,
   "id": "e5134654",
   "metadata": {},
   "outputs": [
    {
     "name": "stdout",
     "output_type": "stream",
     "text": [
      "True\n"
     ]
    }
   ],
   "source": [
    "#What will be output of below code?\n",
    "my_string = '  '\n",
    "print(my_string.isascii())"
   ]
  },
  {
   "cell_type": "code",
   "execution_count": 81,
   "id": "7dd57f1f",
   "metadata": {},
   "outputs": [
    {
     "name": "stdout",
     "output_type": "stream",
     "text": [
      "True\n"
     ]
    }
   ],
   "source": [
    "my_string = 'Studytonight'\n",
    "print(my_string.isascii())"
   ]
  },
  {
   "cell_type": "code",
   "execution_count": 82,
   "id": "59951ac0",
   "metadata": {},
   "outputs": [
    {
     "name": "stdout",
     "output_type": "stream",
     "text": [
      "True\n"
     ]
    }
   ],
   "source": [
    "my_string = 'Study tonight'\n",
    "print(my_string.isascii())"
   ]
  },
  {
   "cell_type": "code",
   "execution_count": 83,
   "id": "10a1d726",
   "metadata": {},
   "outputs": [
    {
     "name": "stdout",
     "output_type": "stream",
     "text": [
      "True\n"
     ]
    }
   ],
   "source": [
    "my_string = 'Studytonight@123'\n",
    "print(my_string.isascii())"
   ]
  },
  {
   "cell_type": "code",
   "execution_count": 84,
   "id": "250289b0",
   "metadata": {},
   "outputs": [
    {
     "name": "stdout",
     "output_type": "stream",
     "text": [
      "False\n"
     ]
    }
   ],
   "source": [
    "my_string = '°'\n",
    "print(my_string.isascii())"
   ]
  },
  {
   "cell_type": "code",
   "execution_count": 85,
   "id": "e72f7e3f",
   "metadata": {},
   "outputs": [
    {
     "name": "stdout",
     "output_type": "stream",
     "text": [
      "False\n"
     ]
    }
   ],
   "source": [
    "my_string = 'ö'\n",
    "print(my_string.isascii())"
   ]
  },
  {
   "cell_type": "code",
   "execution_count": 86,
   "id": "96533eb4",
   "metadata": {},
   "outputs": [
    {
     "name": "stdout",
     "output_type": "stream",
     "text": [
      "The strings are equal.\n"
     ]
    }
   ],
   "source": [
    "#What will be the output of below code?\n",
    "\n",
    "firstString = \"der Fluß\"\n",
    "secondString = \"der Fluss\"\n",
    "\n",
    "if firstString.casefold() == secondString.casefold():\n",
    "    print('The strings are equal.')\n",
    "else:\n",
    "    print('The strings are not equal.')"
   ]
  },
  {
   "cell_type": "code",
   "execution_count": 87,
   "id": "76fdb856",
   "metadata": {},
   "outputs": [
    {
     "name": "stdout",
     "output_type": "stream",
     "text": [
      "Python**\n"
     ]
    }
   ],
   "source": [
    "#Write the code to get below output\n",
    "#O/P 1:- python** (using ljust method)\n",
    "\n",
    "my_str = 'Python'\n",
    "print(my_str.ljust(8, '*'))"
   ]
  },
  {
   "cell_type": "code",
   "execution_count": 88,
   "id": "e07ef0f6",
   "metadata": {},
   "outputs": [
    {
     "name": "stdout",
     "output_type": "stream",
     "text": [
      "**Python\n"
     ]
    }
   ],
   "source": [
    "#Write the code to get below output\n",
    "#O/P 1:- **python (using rjust method)\n",
    "\n",
    "my_str = 'Python'\n",
    "print(my_str.rjust(8, '*'))"
   ]
  },
  {
   "cell_type": "code",
   "execution_count": 89,
   "id": "79379f11",
   "metadata": {},
   "outputs": [
    {
     "name": "stdout",
     "output_type": "stream",
     "text": [
      "**Python**\n"
     ]
    }
   ],
   "source": [
    "#Write the code to get below output\n",
    "#O/P 1:- **python** (using center method)\n",
    "\n",
    "my_str = 'Python'\n",
    "print(my_str.center(10, '*'))"
   ]
  },
  {
   "cell_type": "code",
   "execution_count": 90,
   "id": "dbe8c491",
   "metadata": {},
   "outputs": [
    {
     "name": "stdout",
     "output_type": "stream",
     "text": [
      "55\n"
     ]
    }
   ],
   "source": [
    "#Write a Python program to find the length of the my_str:-\n",
    "\n",
    "#Input:- 'Write a Python program to find the length of the my_str'\n",
    "#Output:- 55\n",
    "\n",
    "my_str = \"Write a Python program to find the length of the my_str\"\n",
    "print(len(my_str))"
   ]
  },
  {
   "cell_type": "code",
   "execution_count": 91,
   "id": "047630d8",
   "metadata": {},
   "outputs": [
    {
     "name": "stdout",
     "output_type": "stream",
     "text": [
      "9\n"
     ]
    }
   ],
   "source": [
    "#Write a Python program to find the total number of times letter 'p' is appeared in the below string:-\n",
    "    \n",
    "#Input:- 'peter piper picked a peck of pickled peppers.'\n",
    "#Output:- 9\n",
    "\n",
    "my_str = \"peter piper picked a peck of pickled peppers.\"\n",
    "print(my_str.count('p'))"
   ]
  },
  {
   "cell_type": "code",
   "execution_count": 92,
   "id": "8359935f",
   "metadata": {},
   "outputs": [
    {
     "name": "stdout",
     "output_type": "stream",
     "text": [
      "0\n",
      "6\n",
      "8\n",
      "12\n",
      "21\n",
      "29\n",
      "37\n",
      "39\n",
      "40\n"
     ]
    }
   ],
   "source": [
    "#Write a Python Program, to print all the indexes of all occurences of letter 'p' appeared in the string:-\n",
    "    \n",
    "#Input:- 'peter piper picked a peck of pickled peppers.'\n",
    "#Output:- \n",
    "# 0\n",
    "# 6\n",
    "# 8\n",
    "# 12\n",
    "# 21\n",
    "# 29\n",
    "# 37\n",
    "# 39\n",
    "# 40\n",
    "\n",
    "my_str = \"peter piper picked a peck of pickled peppers.\"\n",
    "\n",
    "# ind = -1\n",
    "# while True:\n",
    "#     ind = my_str.find('p', ind+1)\n",
    "#     if ind == -1:\n",
    "#         break\n",
    "#     else:\n",
    "#         print(ind)\n",
    "        \n",
    "for i in range(0,len(my_str)):\n",
    "    if my_str[i] == 'p':\n",
    "        print(my_str.index('p', i))\n",
    "    \n",
    "#print(my_str.index('p'))"
   ]
  },
  {
   "cell_type": "code",
   "execution_count": 93,
   "id": "9f4121c2",
   "metadata": {},
   "outputs": [
    {
     "name": "stdout",
     "output_type": "stream",
     "text": [
      "['peter', 'piper', 'picked', 'a', 'peck', 'of', 'pickled', 'peppers.']\n"
     ]
    }
   ],
   "source": [
    "#Write a python program to find below output:-\n",
    "\n",
    "#Input:- 'peter piper picked a peck of pickled peppers.'\n",
    "#Output:- ['peter', 'piper', 'picked', 'a', 'peck', 'of', 'pickled', 'peppers.']\n",
    "\n",
    "my_str = \"peter piper picked a peck of pickled peppers.\"\n",
    "print(my_str.split())"
   ]
  },
  {
   "cell_type": "code",
   "execution_count": 94,
   "id": "1d0f63ff",
   "metadata": {},
   "outputs": [
    {
     "name": "stdout",
     "output_type": "stream",
     "text": [
      "peppers. pickled of peck a picked piper peter\n"
     ]
    }
   ],
   "source": [
    "#Write a python program to find below output:-\n",
    "\n",
    "#Input:- 'peter piper picked a peck of pickled peppers.'\n",
    "#Output:- 'peppers. pickled of peck a picked piper peter'\n",
    "\n",
    "my_str = \"peter piper picked a peck of pickled peppers.\"\n",
    "\n",
    "slp_str = my_str.split()\n",
    "rev_str = slp_str[::-1]\n",
    "join_str = ' '.join(rev_str)\n",
    "print(join_str)"
   ]
  },
  {
   "cell_type": "code",
   "execution_count": 95,
   "id": "42f19cba",
   "metadata": {},
   "outputs": [
    {
     "name": "stdout",
     "output_type": "stream",
     "text": [
      ".sreppep delkcip fo kcep a dekcip repip retep\n"
     ]
    }
   ],
   "source": [
    "#Write a python program to find below output:-\n",
    "\n",
    "#Input:- 'peter piper picked a peck of pickled peppers.'\n",
    "#Output:- '.sreppep delkcip fo kcep a dekcip repip retep'\n",
    "\n",
    "my_str = \"peter piper picked a peck of pickled peppers.\"\n",
    "print(my_str[::-1])"
   ]
  },
  {
   "cell_type": "code",
   "execution_count": 96,
   "id": "64a658b6",
   "metadata": {},
   "outputs": [
    {
     "name": "stdout",
     "output_type": "stream",
     "text": [
      "retep repip dekcip a kcep fo delkcip .sreppep\n"
     ]
    }
   ],
   "source": [
    "#Write a python program to find below output:-\n",
    "\n",
    "#Input:- 'peter piper picked a peck of pickled peppers.'\n",
    "#Output:- 'retep repip dekcip a kcep fo delkcip .sreppep'\n",
    "\n",
    "my_str = \"peter piper picked a peck of pickled peppers.\"\n",
    "\n",
    "rev_str = my_str[::-1]\n",
    "slp_str = rev_str.split()\n",
    "rev_str2 = slp_str[::-1]\n",
    "join_str = ' '.join(rev_str2)\n",
    "print(join_str)"
   ]
  },
  {
   "cell_type": "code",
   "execution_count": 97,
   "id": "372eeeee",
   "metadata": {},
   "outputs": [
    {
     "name": "stdout",
     "output_type": "stream",
     "text": [
      "Peter Piper Picked A Peck Of Pickled Peppers.\n"
     ]
    }
   ],
   "source": [
    "#Write a python program to find below output:-\n",
    "\n",
    "#Input:- 'peter piper picked a peck of pickled peppers.'\n",
    "#Output:- 'Peter Piper Picked A Peck Of Pickled Peppers.'\n",
    "\n",
    "my_str = \"peter piper picked a peck of pickled peppers.\"\n",
    "print(my_str.title())"
   ]
  },
  {
   "cell_type": "code",
   "execution_count": 98,
   "id": "c2d864d6",
   "metadata": {},
   "outputs": [
    {
     "name": "stdout",
     "output_type": "stream",
     "text": [
      "Peter piper picked a peck of pickled peppers.\n"
     ]
    }
   ],
   "source": [
    "#Write a python program to find below output:-\n",
    "\n",
    "#Input:- 'Peter Piper Picked A Peck Of Pickled Peppers.'\n",
    "#Output:- 'Peter piper picked a peck of pickled peppers.'\n",
    "\n",
    "my_str = \"Peter Piper Picked A Peck Of Pickled Peppers.\"\n",
    "print(my_str.capitalize())"
   ]
  },
  {
   "cell_type": "code",
   "execution_count": 99,
   "id": "269aee96",
   "metadata": {},
   "outputs": [
    {
     "name": "stdout",
     "output_type": "stream",
     "text": [
      "29\n"
     ]
    }
   ],
   "source": [
    "#Write a python program to implement index method. If sub_str is found in my_str then it will print the index\n",
    "# of first occurrence of first character of matching string in my_str:-\n",
    "\n",
    "#Input:- my_str = 'Peter Piper Picked A Peck Of Pickled Peppers.', sub_str = 'Pickl'\n",
    "#Output:- 29\n",
    "\n",
    "my_str = \"Peter Piper Picked A Peck Of Pickled Peppers.\"\n",
    "print(my_str.index('Pickl'))"
   ]
  },
  {
   "cell_type": "code",
   "execution_count": 100,
   "id": "4abe9050",
   "metadata": {},
   "outputs": [
    {
     "name": "stdout",
     "output_type": "stream",
     "text": [
      "Peter Piper Picked A Pack Of Pickled Peppers.\n"
     ]
    }
   ],
   "source": [
    "#Write a python program to implement replace method. If sub_str is found in my_str then it will replace the first \n",
    "#occurrence of sub_str with new_str else it will will print sub_str not found:-\n",
    "\n",
    "#Input:- my_str = 'Peter Piper Picked A Peck Of Pickled Peppers.', sub_str = 'Peck', new_str = 'Pack'\n",
    "#Output:- 'Peter Piper Picked A Pack Of Pickled Peppers.'\n",
    "\n",
    "my_str = \"Peter Piper Picked A Peck Of Pickled Peppers.\"\n",
    "rep_str = my_str.replace('Peck', 'Pack')\n",
    "print(rep_str)"
   ]
  },
  {
   "cell_type": "code",
   "execution_count": 101,
   "id": "382d3e39",
   "metadata": {},
   "outputs": [
    {
     "name": "stdout",
     "output_type": "stream",
     "text": [
      "******************Peck*****************\n"
     ]
    }
   ],
   "source": [
    "#Write a python program to find below output (implements rjust and ljust):-\n",
    "\n",
    "#Input:- 'Peter Piper Picked A Peck Of Pickled Peppers.', sub_str = 'Peck', \n",
    "#Output:- '*********************Peck********************'\n",
    "\n",
    "\n",
    "my_str = \"Peter Piper Picked A Peck Of Pickled Peppers.\"\n",
    "sub_str = 'Peck'\n",
    "length = len(my_str)\n",
    "ind = my_str.index(sub_str)\n",
    "\n",
    "first_str = len(my_str[0:ind])\n",
    "new_str = sub_str.rjust(first_str, '*')\n",
    "new_str = new_str.replace('Peck','*')\n",
    "\n",
    "last_str = len(my_str[ind+4:length])\n",
    "new_str1 = sub_str.ljust(last_str, '*')\n",
    "new_str1 = new_str1.replace('Peck','*')\n",
    "\n",
    "new_str2 = new_str + sub_str + new_str1\n",
    "print(new_str2)"
   ]
  },
  {
   "cell_type": "code",
   "execution_count": null,
   "id": "f3316c8d",
   "metadata": {},
   "outputs": [],
   "source": []
  }
 ],
 "metadata": {
  "kernelspec": {
   "display_name": "Python 3",
   "language": "python",
   "name": "python3"
  },
  "language_info": {
   "codemirror_mode": {
    "name": "ipython",
    "version": 3
   },
   "file_extension": ".py",
   "mimetype": "text/x-python",
   "name": "python",
   "nbconvert_exporter": "python",
   "pygments_lexer": "ipython3",
   "version": "3.8.8"
  }
 },
 "nbformat": 4,
 "nbformat_minor": 5
}
