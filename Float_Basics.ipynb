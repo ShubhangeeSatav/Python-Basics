{
 "cells": [
  {
   "cell_type": "code",
   "execution_count": 1,
   "id": "c7392728",
   "metadata": {},
   "outputs": [
    {
     "name": "stdout",
     "output_type": "stream",
     "text": [
      "Value of a = 10.2\n",
      "Type of a = <class 'float'>\n",
      "Memory location of a = 2251824123760\n"
     ]
    }
   ],
   "source": [
    "# Q. Declare a float value and store it in a variable. Check the type and print the id of the same.\n",
    "\n",
    "a = 10.20\n",
    "\n",
    "print(\"Value of a =\", a)\n",
    "print(\"Type of a =\", type(a))\n",
    "print(\"Memory location of a =\", id(a))"
   ]
  },
  {
   "cell_type": "code",
   "execution_count": 2,
   "id": "de2ad753",
   "metadata": {},
   "outputs": [
    {
     "name": "stdout",
     "output_type": "stream",
     "text": [
      "The Sum of two numbers is : 30.5\n"
     ]
    }
   ],
   "source": [
    "# Q. Arithmetic Operations on float. Take two different float values. Store them in two different variables. \n",
    "# Do below operations on them:-\n",
    "\n",
    "# Find sum of both numbers.\n",
    "\n",
    "float_val1 = 10.20\n",
    "float_val2 = 20.30\n",
    "ans = float_val1 + float_val2\n",
    "print(\"The Sum of two numbers is :\", ans)"
   ]
  },
  {
   "cell_type": "code",
   "execution_count": 3,
   "id": "55b15e08",
   "metadata": {},
   "outputs": [
    {
     "name": "stdout",
     "output_type": "stream",
     "text": [
      "The difference of two numbers is : 10.100000000000001\n"
     ]
    }
   ],
   "source": [
    "# Find difference between them\n",
    "\n",
    "float_val1 = 20.30\n",
    "float_val2 = 10.20\n",
    "ans = float_val1 - float_val2\n",
    "print(\"The difference of two numbers is :\", ans)"
   ]
  },
  {
   "cell_type": "code",
   "execution_count": 4,
   "id": "628a043d",
   "metadata": {},
   "outputs": [
    {
     "name": "stdout",
     "output_type": "stream",
     "text": [
      "The product of two numbers is : 11.959999999999999\n"
     ]
    }
   ],
   "source": [
    "# Find the product of both numbers.\n",
    "\n",
    "float_val1 = 5.2\n",
    "float_val2 = 2.3\n",
    "ans = float_val1 * float_val2\n",
    "print(\"The product of two numbers is :\", ans)"
   ]
  },
  {
   "cell_type": "code",
   "execution_count": 5,
   "id": "b4fd7342",
   "metadata": {},
   "outputs": [
    {
     "name": "stdout",
     "output_type": "stream",
     "text": [
      "The division of two numbers is : 3.0\n"
     ]
    }
   ],
   "source": [
    "# Find value after dividing first number with second number\n",
    "\n",
    "float_val1 = 6.3\n",
    "float_val2 = 2.1\n",
    "ans = float_val1 / float_val2\n",
    "print(\"The division of two numbers is :\", ans)"
   ]
  },
  {
   "cell_type": "code",
   "execution_count": 6,
   "id": "788b9551",
   "metadata": {},
   "outputs": [
    {
     "name": "stdout",
     "output_type": "stream",
     "text": [
      "The remainder after dividing two numbers is : 0.6000000000000005\n"
     ]
    }
   ],
   "source": [
    "# Find the remainder after dividing first number with second number\n",
    "\n",
    "float_val1 = 5.2\n",
    "float_val2 = 2.3\n",
    "ans = float_val1 % float_val2\n",
    "print(\"The remainder after dividing two numbers is :\", ans)"
   ]
  },
  {
   "cell_type": "code",
   "execution_count": 7,
   "id": "51f3c9c7",
   "metadata": {},
   "outputs": [
    {
     "name": "stdout",
     "output_type": "stream",
     "text": [
      "The quotient after dividing two numbers is : 2.0\n"
     ]
    }
   ],
   "source": [
    "# Find the quotient after dividing first number with second number\n",
    "\n",
    "float_val1 = 5.2\n",
    "float_val2 = 2.3\n",
    "ans = float_val1 // float_val2\n",
    "print(\"The quotient after dividing two numbers is :\", ans)"
   ]
  },
  {
   "cell_type": "code",
   "execution_count": 8,
   "id": "9a0a632e",
   "metadata": {},
   "outputs": [
    {
     "name": "stdout",
     "output_type": "stream",
     "text": [
      "The first number to the power of the second number is : 44.34122533787991\n"
     ]
    }
   ],
   "source": [
    "# Find the result of the first number to the power of the second number.\n",
    "\n",
    "float_val1 = 5.2\n",
    "float_val2 = 2.3\n",
    "ans = float_val1 ** float_val2\n",
    "print(\"The first number to the power of the second number is :\", ans)"
   ]
  },
  {
   "cell_type": "code",
   "execution_count": 9,
   "id": "8c19f6cb",
   "metadata": {},
   "outputs": [
    {
     "name": "stdout",
     "output_type": "stream",
     "text": [
      "True\n"
     ]
    }
   ],
   "source": [
    "# Q. Comparison Operators on float. Take two different float values. Store them in two different variables.\n",
    "# Do below operations on them. Compare the two numbers with below operator.Observe their output(return type should be boolean)\n",
    "# Greater than, '>'\n",
    "\n",
    "float_val1 = 5.2\n",
    "float_val2 = 2.3\n",
    "\n",
    "print(float_val1 > float_val2)"
   ]
  },
  {
   "cell_type": "code",
   "execution_count": 10,
   "id": "38841936",
   "metadata": {},
   "outputs": [
    {
     "name": "stdout",
     "output_type": "stream",
     "text": [
      "False\n"
     ]
    }
   ],
   "source": [
    "# Smaller than, '<'\n",
    "\n",
    "float_val1 = 5.2\n",
    "float_val2 = 2.3\n",
    "\n",
    "print(float_val1 < float_val2)"
   ]
  },
  {
   "cell_type": "code",
   "execution_count": 11,
   "id": "a62d0fa0",
   "metadata": {},
   "outputs": [
    {
     "name": "stdout",
     "output_type": "stream",
     "text": [
      "True\n"
     ]
    }
   ],
   "source": [
    "# Greater than or equal to, '>='\n",
    "\n",
    "float_val1 = 5.2\n",
    "float_val2 = 2.3\n",
    "\n",
    "print(float_val1 >= float_val2)"
   ]
  },
  {
   "cell_type": "code",
   "execution_count": 12,
   "id": "2b3b75f0",
   "metadata": {},
   "outputs": [
    {
     "name": "stdout",
     "output_type": "stream",
     "text": [
      "False\n"
     ]
    }
   ],
   "source": [
    "# Less than or equal to, '<='\n",
    "\n",
    "float_val1 = 5.2\n",
    "float_val2 = 2.3\n",
    "\n",
    "print(float_val1 <= float_val2)"
   ]
  },
  {
   "cell_type": "code",
   "execution_count": 13,
   "id": "731f356d",
   "metadata": {},
   "outputs": [
    {
     "name": "stdout",
     "output_type": "stream",
     "text": [
      "False\n"
     ]
    }
   ],
   "source": [
    "# Q. Equality Operator. Take two different float values. Store them in two different variables.\n",
    "# Equate them using equality operators (==, !=). Observe the output(return type should be boolean)\n",
    "\n",
    "# Equality operators (==)\n",
    "\n",
    "float_val1 = 5.2\n",
    "float_val2 = 2.3\n",
    "\n",
    "print(float_val1 == float_val2)"
   ]
  },
  {
   "cell_type": "code",
   "execution_count": 14,
   "id": "526b3a0a",
   "metadata": {},
   "outputs": [
    {
     "name": "stdout",
     "output_type": "stream",
     "text": [
      "True\n"
     ]
    }
   ],
   "source": [
    "# Equality operators (!=)\n",
    "\n",
    "float_val1 = 5.2\n",
    "float_val2 = 2.3\n",
    "\n",
    "print(float_val1 != float_val2)"
   ]
  },
  {
   "cell_type": "code",
   "execution_count": 15,
   "id": "f83850fc",
   "metadata": {},
   "outputs": [
    {
     "name": "stdout",
     "output_type": "stream",
     "text": [
      "20.3\n"
     ]
    }
   ],
   "source": [
    "# Q. Logical operators. Observe the output of below code. Cross check the output manually\n",
    "# Logical and operator\n",
    "\n",
    "print( 10.20 and 20.30 )"
   ]
  },
  {
   "cell_type": "code",
   "execution_count": 16,
   "id": "6b0cb781",
   "metadata": {},
   "outputs": [
    {
     "name": "stdout",
     "output_type": "stream",
     "text": [
      "0.0\n"
     ]
    }
   ],
   "source": [
    "print( 0.0 and 20.30 )"
   ]
  },
  {
   "cell_type": "code",
   "execution_count": 17,
   "id": "c6990507",
   "metadata": {},
   "outputs": [
    {
     "name": "stdout",
     "output_type": "stream",
     "text": [
      "0.0\n"
     ]
    }
   ],
   "source": [
    "print( 20.30 and 0.0 )"
   ]
  },
  {
   "cell_type": "code",
   "execution_count": 18,
   "id": "1fe47a1c",
   "metadata": {},
   "outputs": [
    {
     "name": "stdout",
     "output_type": "stream",
     "text": [
      "0.0\n"
     ]
    }
   ],
   "source": [
    "print( 0.0 and 0.0 )"
   ]
  },
  {
   "cell_type": "code",
   "execution_count": 19,
   "id": "db5ac663",
   "metadata": {},
   "outputs": [
    {
     "name": "stdout",
     "output_type": "stream",
     "text": [
      "10.2\n"
     ]
    }
   ],
   "source": [
    "print( 10.20 or 20.30 )"
   ]
  },
  {
   "cell_type": "code",
   "execution_count": 20,
   "id": "3853a80e",
   "metadata": {},
   "outputs": [
    {
     "name": "stdout",
     "output_type": "stream",
     "text": [
      "20.3\n"
     ]
    }
   ],
   "source": [
    "print( 0.0 or 20.30 )"
   ]
  },
  {
   "cell_type": "code",
   "execution_count": 21,
   "id": "0c7c5027",
   "metadata": {},
   "outputs": [
    {
     "name": "stdout",
     "output_type": "stream",
     "text": [
      "20.3\n"
     ]
    }
   ],
   "source": [
    "print( 20.30 or 0.0 )"
   ]
  },
  {
   "cell_type": "code",
   "execution_count": 22,
   "id": "e68145e0",
   "metadata": {},
   "outputs": [
    {
     "name": "stdout",
     "output_type": "stream",
     "text": [
      "0.0\n"
     ]
    }
   ],
   "source": [
    "print( 0.0 or 0.0 )"
   ]
  },
  {
   "cell_type": "code",
   "execution_count": 23,
   "id": "7718a6c8",
   "metadata": {},
   "outputs": [
    {
     "name": "stdout",
     "output_type": "stream",
     "text": [
      "False\n"
     ]
    }
   ],
   "source": [
    "print( not 10.20 )"
   ]
  },
  {
   "cell_type": "code",
   "execution_count": 24,
   "id": "78a3317a",
   "metadata": {},
   "outputs": [
    {
     "name": "stdout",
     "output_type": "stream",
     "text": [
      "True\n"
     ]
    }
   ],
   "source": [
    "print( not 0.0 )"
   ]
  },
  {
   "cell_type": "code",
   "execution_count": 25,
   "id": "7facf3b4",
   "metadata": {},
   "outputs": [
    {
     "name": "stdout",
     "output_type": "stream",
     "text": [
      "False\n"
     ]
    }
   ],
   "source": [
    "# Q. What is the output of expression inside print statement. Cross check before running the program.\n",
    "\n",
    "a = 10.20\n",
    "b = 10.20\n",
    "\n",
    "print(a is b)"
   ]
  },
  {
   "cell_type": "code",
   "execution_count": 26,
   "id": "052d3cfa",
   "metadata": {},
   "outputs": [
    {
     "name": "stdout",
     "output_type": "stream",
     "text": [
      "True\n"
     ]
    }
   ],
   "source": [
    "print(a is not b)"
   ]
  },
  {
   "cell_type": "code",
   "execution_count": 27,
   "id": "68b5930c",
   "metadata": {},
   "outputs": [
    {
     "name": "stdout",
     "output_type": "stream",
     "text": [
      "Memory location of a = 2251824408688\n",
      "Memory location of b = 2251824123760\n",
      "Memory location of c = 2251824408688\n"
     ]
    }
   ],
   "source": [
    "# Q. Bitwise operation is not applicable between instances of float. Why the Id of float values are different \n",
    "# when the same value is assigned to two different variables.\n",
    "\n",
    "a = 10.5\n",
    "b = 10.5\n",
    "c = a\n",
    "print(\"Memory location of a =\", id(a))\n",
    "print(\"Memory location of b =\", id(b))\n",
    "print(\"Memory location of c =\", id(c))\n",
    "\n",
    "# In Python to optimize memory allocation, does a process called \"interning\".Python only stores one object on Heap memory \n",
    "# and ask different variables to point to this memory address if they use those objects.Interning does not apply to the \n",
    "# types of objects of float. Thats why the Id of float values are different when the same value is assigned to two different \n",
    "# variables. Object reusability concept is not applicable on float values."
   ]
  },
  {
   "cell_type": "code",
   "execution_count": 28,
   "id": "58121a4e",
   "metadata": {},
   "outputs": [
    {
     "name": "stdout",
     "output_type": "stream",
     "text": [
      "True\n"
     ]
    }
   ],
   "source": [
    "# Q. Membership operation in, not in are two membership operators and it returns boolean value.\n",
    "\n",
    "print( '2.7' in 'Python2.7.8' )"
   ]
  },
  {
   "cell_type": "code",
   "execution_count": 29,
   "id": "a9921d95",
   "metadata": {},
   "outputs": [
    {
     "name": "stdout",
     "output_type": "stream",
     "text": [
      "True\n"
     ]
    }
   ],
   "source": [
    "print( 10.20 in [ 10 , 10.20 , 10 + 20j , 'Python' ])"
   ]
  },
  {
   "cell_type": "code",
   "execution_count": 30,
   "id": "a9074869",
   "metadata": {},
   "outputs": [
    {
     "name": "stdout",
     "output_type": "stream",
     "text": [
      "True\n"
     ]
    }
   ],
   "source": [
    "print( 10.20 in ( 10 , 10.20 , 10 + 20j , 'Python' ))"
   ]
  },
  {
   "cell_type": "code",
   "execution_count": 31,
   "id": "886088de",
   "metadata": {},
   "outputs": [
    {
     "name": "stdout",
     "output_type": "stream",
     "text": [
      "True\n"
     ]
    }
   ],
   "source": [
    "print( 20.30 in { 1 , 20.30 , 30 + 40j })"
   ]
  },
  {
   "cell_type": "code",
   "execution_count": 32,
   "id": "38e53188",
   "metadata": {},
   "outputs": [
    {
     "name": "stdout",
     "output_type": "stream",
     "text": [
      "True\n"
     ]
    }
   ],
   "source": [
    "print( 2.3 in { 1 : 100 , 2.3 : 200 , 30 + 40j : 300 })"
   ]
  },
  {
   "cell_type": "code",
   "execution_count": 33,
   "id": "70e9b4bd",
   "metadata": {},
   "outputs": [
    {
     "name": "stdout",
     "output_type": "stream",
     "text": [
      "True\n"
     ]
    }
   ],
   "source": [
    "print( 10 in range ( 20 ))"
   ]
  },
  {
   "cell_type": "code",
   "execution_count": null,
   "id": "b0df8185",
   "metadata": {},
   "outputs": [],
   "source": []
  }
 ],
 "metadata": {
  "kernelspec": {
   "display_name": "Python 3",
   "language": "python",
   "name": "python3"
  },
  "language_info": {
   "codemirror_mode": {
    "name": "ipython",
    "version": 3
   },
   "file_extension": ".py",
   "mimetype": "text/x-python",
   "name": "python",
   "nbconvert_exporter": "python",
   "pygments_lexer": "ipython3",
   "version": "3.8.8"
  }
 },
 "nbformat": 4,
 "nbformat_minor": 5
}
